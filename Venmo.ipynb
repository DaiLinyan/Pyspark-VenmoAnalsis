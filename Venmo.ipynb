{
  "nbformat": 4,
  "nbformat_minor": 0,
  "metadata": {
    "colab": {
      "name": "Venmo.ipynb",
      "provenance": [],
      "collapsed_sections": [],
      "toc_visible": true
    },
    "kernelspec": {
      "name": "python3",
      "display_name": "Python 3"
    }
  },
  "cells": [
    {
      "cell_type": "markdown",
      "metadata": {
        "id": "cNg4w7GxJ1QS",
        "colab_type": "text"
      },
      "source": [
        "## Install Environment"
      ]
    },
    {
      "cell_type": "code",
      "metadata": {
        "id": "l0VAUWIJJy9A",
        "colab_type": "code",
        "colab": {}
      },
      "source": [
        "!apt-get install openjdk-8-jdk-headless -qq > /dev/null\n",
        "!wget -q https://downloads.apache.org/spark/spark-2.4.5/spark-2.4.5-bin-hadoop2.7.tgz\n",
        "!tar xf spark-2.4.5-bin-hadoop2.7.tgz\n",
        "!pip install -q findspark"
      ],
      "execution_count": 0,
      "outputs": []
    },
    {
      "cell_type": "code",
      "metadata": {
        "id": "-osJ9QJUm5WY",
        "colab_type": "code",
        "outputId": "ecf264f6-a4ee-4481-8f00-7a1c55ea1bbf",
        "colab": {
          "base_uri": "https://localhost:8080/",
          "height": 71
        }
      },
      "source": [
        "!pip install pyspark"
      ],
      "execution_count": 0,
      "outputs": [
        {
          "output_type": "stream",
          "text": [
            "Requirement already satisfied: pyspark in /usr/local/lib/python3.6/dist-packages (2.4.5)\n",
            "Requirement already satisfied: py4j==0.10.7 in /usr/local/lib/python3.6/dist-packages (from pyspark) (0.10.7)\n"
          ],
          "name": "stdout"
        }
      ]
    },
    {
      "cell_type": "code",
      "metadata": {
        "id": "yHSrUwR09tJl",
        "colab_type": "code",
        "outputId": "b42bb0c9-877f-46a0-d805-4e3009bd095e",
        "colab": {
          "base_uri": "https://localhost:8080/",
          "height": 51
        }
      },
      "source": [
        "!ls '/usr/lib/jvm/'"
      ],
      "execution_count": 0,
      "outputs": [
        {
          "output_type": "stream",
          "text": [
            "default-java\t\t   java-11-openjdk-amd64     java-8-openjdk-amd64\n",
            "java-1.11.0-openjdk-amd64  java-1.8.0-openjdk-amd64\n"
          ],
          "name": "stdout"
        }
      ]
    },
    {
      "cell_type": "code",
      "metadata": {
        "id": "0Hs61bt8kmkh",
        "colab_type": "code",
        "outputId": "c8f4e5d1-cc4a-454a-c47c-ca3ec0c13698",
        "colab": {
          "base_uri": "https://localhost:8080/",
          "height": 54
        }
      },
      "source": [
        "from google.colab import drive\n",
        "drive.mount('/content/drive')"
      ],
      "execution_count": 0,
      "outputs": [
        {
          "output_type": "stream",
          "text": [
            "Drive already mounted at /content/drive; to attempt to forcibly remount, call drive.mount(\"/content/drive\", force_remount=True).\n"
          ],
          "name": "stdout"
        }
      ]
    },
    {
      "cell_type": "code",
      "metadata": {
        "id": "ftYk0Rh594Xl",
        "colab_type": "code",
        "outputId": "478a6c1f-9a3f-4e25-99f8-69be3414f693",
        "colab": {
          "base_uri": "https://localhost:8080/",
          "height": 280
        }
      },
      "source": [
        "!pip install -U pyarrow"
      ],
      "execution_count": 0,
      "outputs": [
        {
          "output_type": "stream",
          "text": [
            "Collecting pyarrow\n",
            "\u001b[?25l  Downloading https://files.pythonhosted.org/packages/ba/3f/6cac1714fff444664603f92cb9fbe91c7ae25375880158b9e9691c4584c8/pyarrow-0.17.1-cp36-cp36m-manylinux2014_x86_64.whl (63.8MB)\n",
            "\u001b[K     |████████████████████████████████| 63.8MB 63kB/s \n",
            "\u001b[?25hRequirement already satisfied, skipping upgrade: numpy>=1.14 in /usr/local/lib/python3.6/dist-packages (from pyarrow) (1.18.4)\n",
            "Installing collected packages: pyarrow\n",
            "  Found existing installation: pyarrow 0.14.1\n",
            "    Uninstalling pyarrow-0.14.1:\n",
            "      Successfully uninstalled pyarrow-0.14.1\n",
            "Successfully installed pyarrow-0.17.1\n"
          ],
          "name": "stdout"
        },
        {
          "output_type": "display_data",
          "data": {
            "application/vnd.colab-display-data+json": {
              "pip_warning": {
                "packages": [
                  "pyarrow"
                ]
              }
            }
          },
          "metadata": {
            "tags": []
          }
        }
      ]
    },
    {
      "cell_type": "code",
      "metadata": {
        "id": "gNgLvFqK-NkX",
        "colab_type": "code",
        "colab": {}
      },
      "source": [
        "import os\n",
        "os.environ['JAVA_HOME'] = '/usr/lib/jvm/java-8-openjdk-amd64'\n",
        "os.environ['SPARK_HOME'] = '/content/spark-2.4.5-bin-hadoop2.7'"
      ],
      "execution_count": 0,
      "outputs": []
    },
    {
      "cell_type": "markdown",
      "metadata": {
        "id": "i_WBPdkmJ7xV",
        "colab_type": "text"
      },
      "source": [
        "## Q0 : Your first task is to open your Venmo app, find 10 words that are not already in the dictionary and add them to it. Make sure you don’t add to the dictionary a duplicate word by hitting Control+F before adding your word."
      ]
    },
    {
      "cell_type": "markdown",
      "metadata": {
        "id": "O8TK_AOtKAtc",
        "colab_type": "text"
      },
      "source": [
        "**The word we add**\n",
        "\n",
        "---\n",
        "\n",
        "\n",
        "Course -> activity\n",
        "\n",
        "---\n",
        "\n",
        "\n",
        "Behalf -> people\n",
        "\n",
        "---\n",
        "\n",
        "Buy -> activity\n",
        "\n",
        "---\n",
        "\n",
        "\n",
        "Schnitzel -> food\n",
        "\n",
        "---\n",
        "\n",
        "\n",
        "Wok -> food\n",
        "\n",
        "---\n",
        "\n",
        "\n",
        "Postcard -> travel\n",
        "\n",
        "---\n",
        "\n",
        "\n",
        "Voyage -> travel\n",
        "\n",
        "---\n",
        "\n",
        "\n",
        "Reimbursement -> cash\n",
        "\n",
        "---\n",
        "\n",
        "\n",
        "Espresso -> food\n",
        "\n",
        "---\n",
        "\n",
        "\n",
        "Kroger -> food\n",
        "\n",
        "---\n",
        "\n"
      ]
    },
    {
      "cell_type": "markdown",
      "metadata": {
        "id": "orKBLmOUKfIC",
        "colab_type": "text"
      },
      "source": [
        "## Import packages"
      ]
    },
    {
      "cell_type": "code",
      "metadata": {
        "id": "rjACtsm4z5mZ",
        "colab_type": "code",
        "colab": {}
      },
      "source": [
        "from pyspark.sql.functions import udf, col,lower, regexp_replace, explode, count, split\n",
        "from pyspark.ml.feature import Tokenizer \n",
        "from nltk.stem.snowball import SnowballStemmer \n",
        "from nltk.tokenize.casual import TweetTokenizer \n",
        "import matplotlib.pyplot as plt\n",
        "import numpy as np\n",
        "from pyspark.ml.evaluation import RegressionEvaluator\n",
        "from pyspark.ml.regression import LinearRegression\n",
        "from pyspark.ml.tuning import ParamGridBuilder, TrainValidationSplit\n",
        "from pyspark.ml.feature import VectorAssembler"
      ],
      "execution_count": 0,
      "outputs": []
    },
    {
      "cell_type": "code",
      "metadata": {
        "id": "ERAXCIK8yUSi",
        "colab_type": "code",
        "colab": {}
      },
      "source": [
        "import findspark\n",
        "findspark.init()\n",
        "from pyspark.sql import SparkSession\n",
        "spark = SparkSession.builder.appName('VenmoAnalysis').getOrCreate()"
      ],
      "execution_count": 0,
      "outputs": []
    },
    {
      "cell_type": "markdown",
      "metadata": {
        "id": "gPszetNxKkhN",
        "colab_type": "text"
      },
      "source": [
        "## Data Preprocessing"
      ]
    },
    {
      "cell_type": "code",
      "metadata": {
        "id": "_7P5IxfRyW85",
        "colab_type": "code",
        "colab": {}
      },
      "source": [
        "word_dict = spark.read.csv('/content/drive/Shared drives/Lucky7/venmo/Venmo Word Classification Dictonary BAX-423 - Word_Dict.csv',inferSchema = True, header = True)\n",
        "word_dict =word_dict.toPandas().to_dict('list')"
      ],
      "execution_count": 0,
      "outputs": []
    },
    {
      "cell_type": "code",
      "metadata": {
        "id": "yZ6Al3km1Yjd",
        "colab_type": "code",
        "colab": {}
      },
      "source": [
        "dict_word = {}\n",
        "for topic,words in word_dict.items():\n",
        "  for word in words:\n",
        "    if word is None:\n",
        "      continue\n",
        "    else:\n",
        "      dict_word[word] = topic"
      ],
      "execution_count": 0,
      "outputs": []
    },
    {
      "cell_type": "code",
      "metadata": {
        "id": "6iJWlIlk0Msu",
        "colab_type": "code",
        "colab": {}
      },
      "source": [
        "emoji_dict = spark.read.csv('/content/drive/Shared drives/Lucky7/venmo/Venmo_Emoji_Classification_Dictionary.csv',inferSchema = True, header = True)"
      ],
      "execution_count": 0,
      "outputs": []
    },
    {
      "cell_type": "code",
      "metadata": {
        "id": "eK2-wrft0xvR",
        "colab_type": "code",
        "outputId": "c80674b7-8ed2-4092-ac48-60506dde21f4",
        "colab": {
          "base_uri": "https://localhost:8080/",
          "height": 54
        }
      },
      "source": [
        "emoji_dict.head()"
      ],
      "execution_count": 0,
      "outputs": [
        {
          "output_type": "execute_result",
          "data": {
            "text/plain": [
              "Row(Event='🇦🇺', Travel='🏔', Food='🍇', Activity='👾', Transportation='🚄', People='😀', Utility='⚡')"
            ]
          },
          "metadata": {
            "tags": []
          },
          "execution_count": 7
        }
      ]
    },
    {
      "cell_type": "code",
      "metadata": {
        "id": "v3Cm0Noq_OBo",
        "colab_type": "code",
        "colab": {}
      },
      "source": [
        "emoji_dict = emoji_dict.toPandas().to_dict('list')\n",
        "dict_emoji = {}\n",
        "for topic,emojis in emoji_dict.items():\n",
        "  for emoji in emojis:\n",
        "    if emoji is None:\n",
        "      continue\n",
        "    else:\n",
        "      dict_emoji[emoji] = topic"
      ],
      "execution_count": 0,
      "outputs": []
    },
    {
      "cell_type": "code",
      "metadata": {
        "id": "-C4zr8xs_l-o",
        "colab_type": "code",
        "colab": {}
      },
      "source": [
        "dict_emoji"
      ],
      "execution_count": 0,
      "outputs": []
    },
    {
      "cell_type": "code",
      "metadata": {
        "id": "WabvOhGD05bU",
        "colab_type": "code",
        "colab": {}
      },
      "source": [
        "sc = spark.sparkContext\n",
        "\n",
        "# using SQLContext to read parquet file\n",
        "from pyspark.sql import SQLContext\n",
        "sqlContext = SQLContext(sc)\n",
        "\n",
        "# to read parquet file\n",
        "venmo = sqlContext.read.parquet('/content/drive/Shared drives/Lucky7/venmo/VenmoSample.snappy.parquet')"
      ],
      "execution_count": 0,
      "outputs": []
    },
    {
      "cell_type": "code",
      "metadata": {
        "id": "HnA9gU0b1Z_o",
        "colab_type": "code",
        "outputId": "98641de1-1231-44dc-c69e-f27b08f67c86",
        "colab": {
          "base_uri": "https://localhost:8080/",
          "height": 309
        }
      },
      "source": [
        "venmo.show(10)"
      ],
      "execution_count": 0,
      "outputs": [
        {
          "output_type": "stream",
          "text": [
            "+-------+-------+----------------+-------------------+---------------+-----------+--------------------+\n",
            "|  user1|  user2|transaction_type|           datetime|    description|is_business|            story_id|\n",
            "+-------+-------+----------------+-------------------+---------------+-----------+--------------------+\n",
            "|1218774|1528945|         payment|2015-11-27 10:48:19|           Uber|      false|5657c473cd03c9af2...|\n",
            "|5109483|4782303|         payment|2015-06-17 11:37:04|         Costco|      false|5580f9702b64f70ab...|\n",
            "|4322148|3392963|         payment|2015-06-19 07:05:31|   Sweaty balls|      false|55835ccb1a624b14a...|\n",
            "| 469894|1333620|          charge|2016-06-03 23:34:13|             🎥|      false|5751b185cd03c9af2...|\n",
            "|2960727|3442373|         payment|2016-05-29 23:23:42|              ⚡|      false|574b178ecd03c9af2...|\n",
            "|3977544|2709470|         payment|2016-09-29 22:12:07|     Chipotlaid|      false|57ed2f4723e064eac...|\n",
            "|3766386|4209061|         payment|2016-05-20 10:31:15|kitchen counter|      false|573e8503cd03c9af2...|\n",
            "| 730075| 804466|         payment|2016-05-26 04:46:45|           Food|      false|57461d46cd03c9af2...|\n",
            "|5221751|4993533|         payment|2016-07-14 22:53:49|          Zaxby|      false|5787b58d23e064eac...|\n",
            "|6843582|7308338|         payment|2016-08-31 10:32:46|      Fan sucks|      false|57c64fdf23e064eac...|\n",
            "+-------+-------+----------------+-------------------+---------------+-----------+--------------------+\n",
            "only showing top 10 rows\n",
            "\n"
          ],
          "name": "stdout"
        }
      ]
    },
    {
      "cell_type": "markdown",
      "metadata": {
        "id": "p9ORVtKyqp4t",
        "colab_type": "text"
      },
      "source": [
        "## Get the column of user who make the transaction"
      ]
    },
    {
      "cell_type": "code",
      "metadata": {
        "id": "VG39QdoxnHZe",
        "colab_type": "code",
        "colab": {}
      },
      "source": [
        "def exchange(x,y,z):\n",
        "  if x == 'charge':\n",
        "    return z\n",
        "  else:\n",
        "    return y"
      ],
      "execution_count": 0,
      "outputs": []
    },
    {
      "cell_type": "code",
      "metadata": {
        "id": "AsxJdGRv7f4E",
        "colab_type": "code",
        "colab": {}
      },
      "source": [
        "def exchange2(x,y,z):\n",
        "  if x == 'charge':\n",
        "    return y\n",
        "  else:\n",
        "    return z"
      ],
      "execution_count": 0,
      "outputs": []
    },
    {
      "cell_type": "code",
      "metadata": {
        "id": "esJqlNq5pPfx",
        "colab_type": "code",
        "colab": {}
      },
      "source": [
        "import pyspark.sql.functions as F\n",
        "udf_exchange = F.udf(exchange)\n",
        "udf_exchange2 = F.udf(exchange2)\n",
        "venmo = venmo.withColumn('user_1',udf_exchange(venmo.transaction_type,venmo.user1,venmo.user2))\n",
        "venmo = venmo.withColumn('user_2',udf_exchange2(venmo.transaction_type,venmo.user1,venmo.user2))"
      ],
      "execution_count": 0,
      "outputs": []
    },
    {
      "cell_type": "code",
      "metadata": {
        "id": "voZoXAtcqiWu",
        "colab_type": "code",
        "outputId": "2b024830-df6b-44cc-cf18-1275f37a7df8",
        "colab": {
          "base_uri": "https://localhost:8080/",
          "height": 309
        }
      },
      "source": [
        "venmo.show(10)"
      ],
      "execution_count": 0,
      "outputs": [
        {
          "output_type": "stream",
          "text": [
            "+-------+-------+----------------+-------------------+---------------+-----------+--------------------+-------+-------+\n",
            "|  user1|  user2|transaction_type|           datetime|    description|is_business|            story_id| user_1| user_2|\n",
            "+-------+-------+----------------+-------------------+---------------+-----------+--------------------+-------+-------+\n",
            "|1218774|1528945|         payment|2015-11-27 10:48:19|           Uber|      false|5657c473cd03c9af2...|1218774|1528945|\n",
            "|5109483|4782303|         payment|2015-06-17 11:37:04|         Costco|      false|5580f9702b64f70ab...|5109483|4782303|\n",
            "|4322148|3392963|         payment|2015-06-19 07:05:31|   Sweaty balls|      false|55835ccb1a624b14a...|4322148|3392963|\n",
            "| 469894|1333620|          charge|2016-06-03 23:34:13|             🎥|      false|5751b185cd03c9af2...|1333620| 469894|\n",
            "|2960727|3442373|         payment|2016-05-29 23:23:42|              ⚡|      false|574b178ecd03c9af2...|2960727|3442373|\n",
            "|3977544|2709470|         payment|2016-09-29 22:12:07|     Chipotlaid|      false|57ed2f4723e064eac...|3977544|2709470|\n",
            "|3766386|4209061|         payment|2016-05-20 10:31:15|kitchen counter|      false|573e8503cd03c9af2...|3766386|4209061|\n",
            "| 730075| 804466|         payment|2016-05-26 04:46:45|           Food|      false|57461d46cd03c9af2...| 730075| 804466|\n",
            "|5221751|4993533|         payment|2016-07-14 22:53:49|          Zaxby|      false|5787b58d23e064eac...|5221751|4993533|\n",
            "|6843582|7308338|         payment|2016-08-31 10:32:46|      Fan sucks|      false|57c64fdf23e064eac...|6843582|7308338|\n",
            "+-------+-------+----------------+-------------------+---------------+-----------+--------------------+-------+-------+\n",
            "only showing top 10 rows\n",
            "\n"
          ],
          "name": "stdout"
        }
      ]
    },
    {
      "cell_type": "markdown",
      "metadata": {
        "id": "qR7K3cdBUII9",
        "colab_type": "text"
      },
      "source": [
        "##Q1: Use the text dictionary and the emoji dictionary to classify Venmo's transactions in your sample dataset."
      ]
    },
    {
      "cell_type": "code",
      "metadata": {
        "id": "hQOBaey33_I_",
        "colab_type": "code",
        "outputId": "09ec27a9-3b57-4f65-9a00-a9e918a3cf90",
        "colab": {
          "base_uri": "https://localhost:8080/",
          "height": 479
        }
      },
      "source": [
        "# clean texts\n",
        "def clean_text(column): \n",
        "    column = lower(column)\n",
        "    column = regexp_replace(column, \"'ve\", \" have\") \n",
        "    column = regexp_replace(column, \"'m\", \" am\") \n",
        "    column = regexp_replace(column, \"'d\", \" would\") \n",
        "    column = regexp_replace(column, \"'s\", \" is\") \n",
        "    column = regexp_replace(column, \"can't\", \" can not\") \n",
        "    column = regexp_replace(column, \"n't\", \" not\") \n",
        "    column = regexp_replace(column, \"'re\", \" are\") \n",
        "    column = regexp_replace(column, u\"[\\'\\\"/|\\?=!#&;]\", \"\") \n",
        "    return column \n",
        " \n",
        "venmo = venmo.select(\"story_id\", \"user_1\",\"user_2\", \"datetime\",clean_text(venmo.description).alias('description')) \n",
        "venmo.show(20, False) "
      ],
      "execution_count": 0,
      "outputs": [
        {
          "output_type": "stream",
          "text": [
            "+------------------------+--------+-------+-------------------+----------------------------------------------------------------------------------------------------------------------------------------------------------------------------------------------------------------------------------------------------------------------------------------------------+\n",
            "|story_id                |user_1  |user_2 |datetime           |description                                                                                                                                                                                                                                                                                         |\n",
            "+------------------------+--------+-------+-------------------+----------------------------------------------------------------------------------------------------------------------------------------------------------------------------------------------------------------------------------------------------------------------------------------------------+\n",
            "|5657c473cd03c9af22cff874|1218774 |1528945|2015-11-27 10:48:19|uber                                                                                                                                                                                                                                                                                                |\n",
            "|5580f9702b64f70ab0114e94|5109483 |4782303|2015-06-17 11:37:04|costco                                                                                                                                                                                                                                                                                              |\n",
            "|55835ccb1a624b14ac62cef4|4322148 |3392963|2015-06-19 07:05:31|sweaty balls                                                                                                                                                                                                                                                                                        |\n",
            "|5751b185cd03c9af224c0d17|1333620 |469894 |2016-06-03 23:34:13|🎥                                                                                                                                                                                                                                                                                                  |\n",
            "|574b178ecd03c9af22cf67f4|2960727 |3442373|2016-05-29 23:23:42|⚡                                                                                                                                                                                                                                                                                                   |\n",
            "|57ed2f4723e064eac0879304|3977544 |2709470|2016-09-29 22:12:07|chipotlaid                                                                                                                                                                                                                                                                                          |\n",
            "|573e8503cd03c9af2200360e|3766386 |4209061|2016-05-20 10:31:15|kitchen counter                                                                                                                                                                                                                                                                                     |\n",
            "|57461d46cd03c9af227dade4|730075  |804466 |2016-05-26 04:46:45|food                                                                                                                                                                                                                                                                                                |\n",
            "|5787b58d23e064eac0126cfa|5221751 |4993533|2016-07-14 22:53:49|zaxby                                                                                                                                                                                                                                                                                               |\n",
            "|57c64fdf23e064eac0e88f69|6843582 |7308338|2016-08-31 10:32:46|fan sucks                                                                                                                                                                                                                                                                                           |\n",
            "|5689c6bdcd03c9af224a8cbc|5317324 |3942984|2016-01-04 09:11:25|👠                                                                                                                                                                                                                                                                                                  |\n",
            "|5616bbc0cd03c9af22ab332f|1134661 |1556430|2015-10-09 01:53:52|thanks babe                                                                                                                                                                                                                                                                                         |\n",
            "|561080a1cd03c9af226311e2|4238868 |4879587|2015-10-04 08:28:01|🍺                                                                                                                                                                                                                                                                                                  |\n",
            "|577e69e723e064eac070091a|11719500|8702716|2016-07-07 21:40:39|⛽                                                                                                                                                                                                                                                                                                   |\n",
            "|58032fad23e064eac0b897f4|3625798 |5692302|2016-10-16 14:43:41|hey man  it is been a long time since i have last seen you. regardless  time spent with you and the boys is time well spent. i would not trade it for anyone else  and for that i can never repay you. anyways  enjoy this dollar you slimy fuck  i would not want to waste my pennies any other way|\n",
            "|572d2bd9cd03c9af22d0be94|3045405 |613908 |2016-05-07 06:42:17|getaway car                                                                                                                                                                                                                                                                                         |\n",
            "|56cd03e4cd03c9af225aabfe|4682257 |1870271|2016-02-24 09:14:12|🔮 gypsy things                                                                                                                                                                                                                                                                                     |\n",
            "|570866c2cd03c9af223706e1|9414481 |2869012|2016-04-09 09:19:46|🔴                                                                                                                                                                                                                                                                                                  |\n",
            "|5557cc0407f81c33ec77d16f|241386  |2580543|2015-05-17 06:00:19|furniture                                                                                                                                                                                                                                                                                           |\n",
            "|52ac6e93d56b6bac5c6a8ec2|656214  |656477 |2013-12-14 22:43:27|bed bath mostly beyond                                                                                                                                                                                                                                                                              |\n",
            "+------------------------+--------+-------+-------------------+----------------------------------------------------------------------------------------------------------------------------------------------------------------------------------------------------------------------------------------------------------------------------------------------------+\n",
            "only showing top 20 rows\n",
            "\n"
          ],
          "name": "stdout"
        }
      ]
    },
    {
      "cell_type": "code",
      "metadata": {
        "id": "WECU_aH054JA",
        "colab_type": "code",
        "colab": {}
      },
      "source": [
        "t = TweetTokenizer()"
      ],
      "execution_count": 0,
      "outputs": []
    },
    {
      "cell_type": "code",
      "metadata": {
        "id": "OC9_9y6IPSAq",
        "colab_type": "code",
        "colab": {}
      },
      "source": [
        "# classify transaction, split every word in each description and use the first one that match\n",
        "def mapping(description):\n",
        "  for i in t.tokenize(description):\n",
        "    if i.lower() in dict_word.keys():\n",
        "      return dict_word[i.lower()]\n",
        "    elif i in dict_emoji.keys():\n",
        "      return dict_emoji[i]\n",
        "    else:\n",
        "      continue\n",
        "  return 'no conclusion'"
      ],
      "execution_count": 0,
      "outputs": []
    },
    {
      "cell_type": "code",
      "metadata": {
        "id": "j1I3IQPuQPDj",
        "colab_type": "code",
        "colab": {}
      },
      "source": [
        "udf_mapping = F.udf(mapping)\n",
        "venmo = venmo.withColumn('Classification',udf_mapping(venmo.description))"
      ],
      "execution_count": 0,
      "outputs": []
    },
    {
      "cell_type": "code",
      "metadata": {
        "id": "YdL1rrtLQyCz",
        "colab_type": "code",
        "outputId": "680cc72d-ecde-4370-a635-397b4963d837",
        "colab": {
          "base_uri": "https://localhost:8080/",
          "height": 459
        }
      },
      "source": [
        "venmo.show(20)"
      ],
      "execution_count": 0,
      "outputs": [
        {
          "output_type": "stream",
          "text": [
            "+--------------------+--------+-------+-------------------+--------------------+---------------+\n",
            "|            story_id|  user_1| user_2|           datetime|         description| Classification|\n",
            "+--------------------+--------+-------+-------------------+--------------------+---------------+\n",
            "|5657c473cd03c9af2...| 1218774|1528945|2015-11-27 10:48:19|                uber| Transportation|\n",
            "|5580f9702b64f70ab...| 5109483|4782303|2015-06-17 11:37:04|              costco|           Food|\n",
            "|55835ccb1a624b14a...| 4322148|3392963|2015-06-19 07:05:31|        sweaty balls|Illegal/Sarcasm|\n",
            "|5751b185cd03c9af2...| 1333620| 469894|2016-06-03 23:34:13|                  🎥|          Event|\n",
            "|574b178ecd03c9af2...| 2960727|3442373|2016-05-29 23:23:42|                   ⚡|        Utility|\n",
            "|57ed2f4723e064eac...| 3977544|2709470|2016-09-29 22:12:07|          chipotlaid|  no conclusion|\n",
            "|573e8503cd03c9af2...| 3766386|4209061|2016-05-20 10:31:15|     kitchen counter|        Utility|\n",
            "|57461d46cd03c9af2...|  730075| 804466|2016-05-26 04:46:45|                food|           Food|\n",
            "|5787b58d23e064eac...| 5221751|4993533|2016-07-14 22:53:49|               zaxby|  no conclusion|\n",
            "|57c64fdf23e064eac...| 6843582|7308338|2016-08-31 10:32:46|           fan sucks|  no conclusion|\n",
            "|5689c6bdcd03c9af2...| 5317324|3942984|2016-01-04 09:11:25|                  👠|  no conclusion|\n",
            "|5616bbc0cd03c9af2...| 1134661|1556430|2015-10-09 01:53:52|         thanks babe|         People|\n",
            "|561080a1cd03c9af2...| 4238868|4879587|2015-10-04 08:28:01|                  🍺|           Food|\n",
            "|577e69e723e064eac...|11719500|8702716|2016-07-07 21:40:39|                   ⛽| Transportation|\n",
            "|58032fad23e064eac...| 3625798|5692302|2016-10-16 14:43:41|hey man  it is be...|           Cash|\n",
            "|572d2bd9cd03c9af2...| 3045405| 613908|2016-05-07 06:42:17|         getaway car| Transportation|\n",
            "|56cd03e4cd03c9af2...| 4682257|1870271|2016-02-24 09:14:12|     🔮 gypsy things|  no conclusion|\n",
            "|570866c2cd03c9af2...| 9414481|2869012|2016-04-09 09:19:46|                  🔴|  no conclusion|\n",
            "|5557cc0407f81c33e...|  241386|2580543|2015-05-17 06:00:19|           furniture|        Utility|\n",
            "|52ac6e93d56b6bac5...|  656214| 656477|2013-12-14 22:43:27|bed bath mostly b...|        Utility|\n",
            "+--------------------+--------+-------+-------------------+--------------------+---------------+\n",
            "only showing top 20 rows\n",
            "\n"
          ],
          "name": "stdout"
        }
      ]
    },
    {
      "cell_type": "markdown",
      "metadata": {
        "id": "Mvv7NM5vVR1J",
        "colab_type": "text"
      },
      "source": [
        "## Q2 : What is the percent of emoji only transactions? Which are the top 5 most popular emoji? Which are the top three most popular emoji categories?"
      ]
    },
    {
      "cell_type": "code",
      "metadata": {
        "id": "2Wl2WpcC2Itr",
        "colab_type": "code",
        "outputId": "7dd76d22-534c-4838-d895-2bb865459436",
        "colab": {
          "base_uri": "https://localhost:8080/",
          "height": 207
        }
      },
      "source": [
        "!pip install emoji"
      ],
      "execution_count": 0,
      "outputs": [
        {
          "output_type": "stream",
          "text": [
            "Collecting emoji\n",
            "\u001b[?25l  Downloading https://files.pythonhosted.org/packages/40/8d/521be7f0091fe0f2ae690cc044faf43e3445e0ff33c574eae752dd7e39fa/emoji-0.5.4.tar.gz (43kB)\n",
            "\r\u001b[K     |███████▌                        | 10kB 12.6MB/s eta 0:00:01\r\u001b[K     |███████████████                 | 20kB 3.5MB/s eta 0:00:01\r\u001b[K     |██████████████████████▋         | 30kB 5.0MB/s eta 0:00:01\r\u001b[K     |██████████████████████████████▏ | 40kB 6.4MB/s eta 0:00:01\r\u001b[K     |████████████████████████████████| 51kB 2.6MB/s \n",
            "\u001b[?25hBuilding wheels for collected packages: emoji\n",
            "  Building wheel for emoji (setup.py) ... \u001b[?25l\u001b[?25hdone\n",
            "  Created wheel for emoji: filename=emoji-0.5.4-cp36-none-any.whl size=42176 sha256=c88233e51b941a66ad859aa1c068cdb196207a8979bce0e599a30023ad109668\n",
            "  Stored in directory: /root/.cache/pip/wheels/2a/a9/0a/4f8e8cce8074232aba240caca3fade315bb49fac68808d1a9c\n",
            "Successfully built emoji\n",
            "Installing collected packages: emoji\n",
            "Successfully installed emoji-0.5.4\n"
          ],
          "name": "stdout"
        }
      ]
    },
    {
      "cell_type": "code",
      "metadata": {
        "id": "YRxjhPVd1NJx",
        "colab_type": "code",
        "colab": {}
      },
      "source": [
        "import emoji\n",
        "def only_emoji(s):\n",
        "  for i in t.tokenize(s):\n",
        "    if i not in emoji.UNICODE_EMOJI:\n",
        "      return 0\n",
        "    else:\n",
        "      continue\n",
        "  return 1"
      ],
      "execution_count": 0,
      "outputs": []
    },
    {
      "cell_type": "code",
      "metadata": {
        "id": "zjuSaNP3eCQC",
        "colab_type": "code",
        "colab": {}
      },
      "source": [
        "from pyspark.sql.types import IntegerType\n",
        "udf_emoji = F.udf(only_emoji,IntegerType())\n",
        "venmo = venmo.withColumn('only_emoji',udf_emoji(venmo.description))"
      ],
      "execution_count": 0,
      "outputs": []
    },
    {
      "cell_type": "code",
      "metadata": {
        "id": "h3bhACOkfF2v",
        "colab_type": "code",
        "outputId": "be12aeb3-2f4e-4061-86c4-bf4cbd76c952",
        "colab": {
          "base_uri": "https://localhost:8080/",
          "height": 479
        }
      },
      "source": [
        "venmo.show()"
      ],
      "execution_count": 0,
      "outputs": [
        {
          "output_type": "stream",
          "text": [
            "+--------------------+--------+-------+-------------------+--------------------+---------------+----------+\n",
            "|            story_id|  user_1| user_2|           datetime|         description| Classification|only_emoji|\n",
            "+--------------------+--------+-------+-------------------+--------------------+---------------+----------+\n",
            "|5657c473cd03c9af2...| 1218774|1528945|2015-11-27 10:48:19|                uber| Transportation|         0|\n",
            "|5580f9702b64f70ab...| 5109483|4782303|2015-06-17 11:37:04|              costco|           Food|         0|\n",
            "|55835ccb1a624b14a...| 4322148|3392963|2015-06-19 07:05:31|        sweaty balls|Illegal/Sarcasm|         0|\n",
            "|5751b185cd03c9af2...| 1333620| 469894|2016-06-03 23:34:13|                  🎥|          Event|         1|\n",
            "|574b178ecd03c9af2...| 2960727|3442373|2016-05-29 23:23:42|                   ⚡|        Utility|         1|\n",
            "|57ed2f4723e064eac...| 3977544|2709470|2016-09-29 22:12:07|          chipotlaid|  no conclusion|         0|\n",
            "|573e8503cd03c9af2...| 3766386|4209061|2016-05-20 10:31:15|     kitchen counter|        Utility|         0|\n",
            "|57461d46cd03c9af2...|  730075| 804466|2016-05-26 04:46:45|                food|           Food|         0|\n",
            "|5787b58d23e064eac...| 5221751|4993533|2016-07-14 22:53:49|               zaxby|  no conclusion|         0|\n",
            "|57c64fdf23e064eac...| 6843582|7308338|2016-08-31 10:32:46|           fan sucks|  no conclusion|         0|\n",
            "|5689c6bdcd03c9af2...| 5317324|3942984|2016-01-04 09:11:25|                  👠|  no conclusion|         1|\n",
            "|5616bbc0cd03c9af2...| 1134661|1556430|2015-10-09 01:53:52|         thanks babe|         People|         0|\n",
            "|561080a1cd03c9af2...| 4238868|4879587|2015-10-04 08:28:01|                  🍺|           Food|         1|\n",
            "|577e69e723e064eac...|11719500|8702716|2016-07-07 21:40:39|                   ⛽| Transportation|         1|\n",
            "|58032fad23e064eac...| 3625798|5692302|2016-10-16 14:43:41|hey man  it is be...|           Cash|         0|\n",
            "|572d2bd9cd03c9af2...| 3045405| 613908|2016-05-07 06:42:17|         getaway car| Transportation|         0|\n",
            "|56cd03e4cd03c9af2...| 4682257|1870271|2016-02-24 09:14:12|     🔮 gypsy things|  no conclusion|         0|\n",
            "|570866c2cd03c9af2...| 9414481|2869012|2016-04-09 09:19:46|                  🔴|  no conclusion|         1|\n",
            "|5557cc0407f81c33e...|  241386|2580543|2015-05-17 06:00:19|           furniture|        Utility|         0|\n",
            "|52ac6e93d56b6bac5...|  656214| 656477|2013-12-14 22:43:27|bed bath mostly b...|        Utility|         0|\n",
            "+--------------------+--------+-------+-------------------+--------------------+---------------+----------+\n",
            "only showing top 20 rows\n",
            "\n"
          ],
          "name": "stdout"
        }
      ]
    },
    {
      "cell_type": "code",
      "metadata": {
        "id": "zViLRC2kZVrc",
        "colab_type": "code",
        "colab": {}
      },
      "source": [
        "venmo.select('description').show()"
      ],
      "execution_count": 0,
      "outputs": []
    },
    {
      "cell_type": "code",
      "metadata": {
        "id": "xA7Zn2yyfU8_",
        "colab_type": "code",
        "outputId": "c7615119-8ed4-4bba-d8f1-e57a37d0450b",
        "colab": {
          "base_uri": "https://localhost:8080/",
          "height": 34
        }
      },
      "source": [
        "# counting the percent of emoji only transactions\n",
        "emoji_count = venmo.groupby('only_emoji').sum().collect()[0][1]\n",
        "emoji_percentage = emoji_count/venmo.count()\n",
        "emoji_percentage"
      ],
      "execution_count": 0,
      "outputs": [
        {
          "output_type": "execute_result",
          "data": {
            "text/plain": [
              "0.24025869317573947"
            ]
          },
          "metadata": {
            "tags": []
          },
          "execution_count": 25
        }
      ]
    },
    {
      "cell_type": "code",
      "metadata": {
        "id": "MneFGTK5P8o1",
        "colab_type": "code",
        "outputId": "5b0d630f-6618-416b-c618-45a3d2dc7035",
        "colab": {
          "base_uri": "https://localhost:8080/",
          "height": 289
        }
      },
      "source": [
        "venmo[venmo.only_emoji==1].show(n=10)"
      ],
      "execution_count": 0,
      "outputs": [
        {
          "output_type": "stream",
          "text": [
            "+--------------------+--------+-------+-------------------+-----------+--------------+----------+\n",
            "|            story_id|  user_1| user_2|           datetime|description|Classification|only_emoji|\n",
            "+--------------------+--------+-------+-------------------+-----------+--------------+----------+\n",
            "|5751b185cd03c9af2...| 1333620| 469894|2016-06-03 23:34:13|         🎥|         Event|         1|\n",
            "|574b178ecd03c9af2...| 2960727|3442373|2016-05-29 23:23:42|          ⚡|       Utility|         1|\n",
            "|5689c6bdcd03c9af2...| 5317324|3942984|2016-01-04 09:11:25|         👠| no conclusion|         1|\n",
            "|561080a1cd03c9af2...| 4238868|4879587|2015-10-04 08:28:01|         🍺|          Food|         1|\n",
            "|577e69e723e064eac...|11719500|8702716|2016-07-07 21:40:39|          ⛽|Transportation|         1|\n",
            "|570866c2cd03c9af2...| 9414481|2869012|2016-04-09 09:19:46|         🔴| no conclusion|         1|\n",
            "|528e752fd56b6bac5...|  444145| 323088|2013-11-22 05:03:43|       ✌❤🏈|        People|         1|\n",
            "|5574690d5d6cc8135...|  270958|2086141|2015-06-07 22:53:49|       👰👰|         Event|         1|\n",
            "|56803e8dcd03c9af2...| 1243615|1120425|2015-12-28 03:39:57|     🍕🍕🍕|          Food|         1|\n",
            "|5577a133ca81793e3...| 2743865|2896157|2015-06-10 09:30:11|         🍕|          Food|         1|\n",
            "+--------------------+--------+-------+-------------------+-----------+--------------+----------+\n",
            "only showing top 10 rows\n",
            "\n"
          ],
          "name": "stdout"
        }
      ]
    },
    {
      "cell_type": "markdown",
      "metadata": {
        "id": "aDkPe8Fdftgt",
        "colab_type": "text"
      },
      "source": [
        "### Which are the top 5 most popular emoji?"
      ]
    },
    {
      "cell_type": "code",
      "metadata": {
        "id": "LRjJDidsyVIO",
        "colab_type": "code",
        "outputId": "2e19be01-aa81-43d5-dab1-cf93102d4fa8",
        "colab": {
          "base_uri": "https://localhost:8080/",
          "height": 289
        }
      },
      "source": [
        "# top 5 most popular emoji \n",
        "# strip characters \n",
        "def remove_text(column): \n",
        "    column = lower(column) \n",
        "    column = regexp_replace(column, u\"[ -.+a-zA-Z0-9]\", \"\") \n",
        "    column = regexp_replace(column, u\"[\\'\\\"/|\\?=!]\", \"\") \n",
        "    return column \n",
        " \n",
        "emojiOnly = venmo.select(remove_text(col('description')).alias('description')) \n",
        "emojiOnly.show(10, False) "
      ],
      "execution_count": 0,
      "outputs": [
        {
          "output_type": "stream",
          "text": [
            "+-----------+\n",
            "|description|\n",
            "+-----------+\n",
            "|           |\n",
            "|           |\n",
            "|           |\n",
            "|🎥         |\n",
            "|⚡          |\n",
            "|           |\n",
            "|           |\n",
            "|           |\n",
            "|           |\n",
            "|           |\n",
            "+-----------+\n",
            "only showing top 10 rows\n",
            "\n"
          ],
          "name": "stdout"
        }
      ]
    },
    {
      "cell_type": "code",
      "metadata": {
        "id": "FpbDJHJHzrau",
        "colab_type": "code",
        "colab": {}
      },
      "source": [
        "from pyspark.sql.types import StringType,ArrayType"
      ],
      "execution_count": 0,
      "outputs": []
    },
    {
      "cell_type": "code",
      "metadata": {
        "id": "QF5FK55xzHPQ",
        "colab_type": "code",
        "outputId": "fe3343c4-7916-4fb9-e196-997a85dd50bf",
        "colab": {
          "base_uri": "https://localhost:8080/",
          "height": 969
        }
      },
      "source": [
        "# tokenize each emoji \n",
        "def separate_emoji(text): \n",
        "    return t.tokenize(text) \n",
        " \n",
        "myfunc = udf(separate_emoji, ArrayType(StringType())) \n",
        "tokenizedEmoji = emojiOnly.withColumn(\"description\", myfunc(\"description\"))\n",
        "tokenizedEmoji.show(50)"
      ],
      "execution_count": 0,
      "outputs": [
        {
          "output_type": "stream",
          "text": [
            "+------------+\n",
            "| description|\n",
            "+------------+\n",
            "|          []|\n",
            "|          []|\n",
            "|          []|\n",
            "|        [🎥]|\n",
            "|         [⚡]|\n",
            "|          []|\n",
            "|          []|\n",
            "|          []|\n",
            "|          []|\n",
            "|          []|\n",
            "|        [👠]|\n",
            "|          []|\n",
            "|        [🍺]|\n",
            "|         [⛽]|\n",
            "|          []|\n",
            "|          []|\n",
            "|        [🔮]|\n",
            "|        [🔴]|\n",
            "|          []|\n",
            "|          []|\n",
            "|          []|\n",
            "|          []|\n",
            "|          []|\n",
            "|          []|\n",
            "|          []|\n",
            "|          []|\n",
            "|          []|\n",
            "|          []|\n",
            "|          []|\n",
            "|          []|\n",
            "|      [휴지]|\n",
            "|          []|\n",
            "|          []|\n",
            "|          []|\n",
            "|          []|\n",
            "|          []|\n",
            "|          []|\n",
            "|          []|\n",
            "|          []|\n",
            "|          []|\n",
            "|          []|\n",
            "|          []|\n",
            "|          []|\n",
            "|[💁, 🏻, 🍕]|\n",
            "|          []|\n",
            "|[🎉, 💞, 🎉]|\n",
            "|          []|\n",
            "|          []|\n",
            "|  [✌, ❤, 🏈]|\n",
            "|          []|\n",
            "+------------+\n",
            "only showing top 50 rows\n",
            "\n"
          ],
          "name": "stdout"
        }
      ]
    },
    {
      "cell_type": "code",
      "metadata": {
        "id": "dRO-SQaM4kax",
        "colab_type": "code",
        "outputId": "e77e6244-0a7f-484d-af94-b0160b49245c",
        "colab": {
          "base_uri": "https://localhost:8080/",
          "height": 34
        }
      },
      "source": [
        "tokenizedEmoji.printSchema"
      ],
      "execution_count": 0,
      "outputs": [
        {
          "output_type": "execute_result",
          "data": {
            "text/plain": [
              "<bound method DataFrame.printSchema of DataFrame[description: array<string>]>"
            ]
          },
          "metadata": {
            "tags": []
          },
          "execution_count": 63
        }
      ]
    },
    {
      "cell_type": "code",
      "metadata": {
        "id": "pnTY112qfvT1",
        "colab_type": "code",
        "outputId": "bfb96cdd-c648-4839-a56a-5c38990c7556",
        "colab": {
          "base_uri": "https://localhost:8080/",
          "height": 459
        }
      },
      "source": [
        "tokenizedEmoji\\\n",
        "    .select(explode(\"description\")\\\n",
        "    .alias(\"emojis\"))\\\n",
        "    .na.drop()\\\n",
        "    .groupBy(\"emojis\")\\\n",
        "    .count()\\\n",
        "    .sort(\"count\", ascending=False)\\\n",
        "    .show() "
      ],
      "execution_count": 0,
      "outputs": [
        {
          "output_type": "stream",
          "text": [
            "+------+------+\n",
            "|emojis| count|\n",
            "+------+------+\n",
            "|     ️|324701|\n",
            "|    🍕|152565|\n",
            "|    🍻|131386|\n",
            "|    💸|122138|\n",
            "|    🍷| 96442|\n",
            "|    🎉| 90742|\n",
            "|    🏼| 88978|\n",
            "|    🏻| 82656|\n",
            "|    🍺| 76615|\n",
            "|    🏠| 65178|\n",
            "|     ❤| 63457|\n",
            "|    🍾| 59219|\n",
            "|    🍹| 58875|\n",
            "|    🍴| 57282|\n",
            "|    🔥| 52930|\n",
            "|    💃| 52011|\n",
            "|    🔌| 50683|\n",
            "|     ☕| 50585|\n",
            "|    🍔| 49586|\n",
            "|     :| 49451|\n",
            "+------+------+\n",
            "only showing top 20 rows\n",
            "\n"
          ],
          "name": "stdout"
        }
      ]
    },
    {
      "cell_type": "markdown",
      "metadata": {
        "id": "hVtNrH8qf6fv",
        "colab_type": "text"
      },
      "source": [
        "### Which are the top three most popular emoji categories?"
      ]
    },
    {
      "cell_type": "code",
      "metadata": {
        "id": "6sSN3Ybyf-Zu",
        "colab_type": "code",
        "outputId": "b8429515-63e3-4551-cc6f-e9a917965da3",
        "colab": {
          "base_uri": "https://localhost:8080/",
          "height": 238
        }
      },
      "source": [
        "venmo[venmo.only_emoji==1].select('Classification').groupby('Classification').count().sort(\"count\", ascending=False).show()"
      ],
      "execution_count": 0,
      "outputs": [
        {
          "output_type": "stream",
          "text": [
            "+--------------+------+\n",
            "|Classification| count|\n",
            "+--------------+------+\n",
            "|          Food|588235|\n",
            "| no conclusion|358688|\n",
            "|        People|339207|\n",
            "|      Activity|129377|\n",
            "|Transportation|102226|\n",
            "|       Utility|102152|\n",
            "|         Event| 49025|\n",
            "|        Travel| 40083|\n",
            "+--------------+------+\n",
            "\n"
          ],
          "name": "stdout"
        }
      ]
    },
    {
      "cell_type": "markdown",
      "metadata": {
        "id": "f_K7fgtK12re",
        "colab_type": "text"
      },
      "source": [
        "## Q3. For each user, create a variable to indicate their spending behavior profile. For example, if a user has made 10 transactions, where 5 of them are food and the other 5 are activity, then the user’s spending profile will be 50% food and 50% activity."
      ]
    },
    {
      "cell_type": "code",
      "metadata": {
        "id": "yBekRMrhx2Vb",
        "colab_type": "code",
        "colab": {}
      },
      "source": [
        "venmo.registerTempTable('venmodata')"
      ],
      "execution_count": 0,
      "outputs": []
    },
    {
      "cell_type": "code",
      "metadata": {
        "id": "cWIbSrsXzkWo",
        "colab_type": "code",
        "outputId": "bf1269f2-ce50-4b88-8c56-10f26c25c081",
        "colab": {
          "base_uri": "https://localhost:8080/",
          "height": 459
        }
      },
      "source": [
        "user_info = sqlContext.sql(\"select * from (select user_1,Classification,count(*) as number from venmodata group by user_1,Classification) as B join (select user_1,count(*) as all_classification from venmodata group by user_1) as A using (user_1) order by user_1\")\n",
        "user_info.show()"
      ],
      "execution_count": 0,
      "outputs": [
        {
          "output_type": "stream",
          "text": [
            "+--------+---------------+------+------------------+\n",
            "|  user_1| Classification|number|all_classification|\n",
            "+--------+---------------+------+------------------+\n",
            "|      10|  no conclusion|     7|                12|\n",
            "|      10|       Activity|     1|                12|\n",
            "|      10|           Food|     4|                12|\n",
            "|10000054|  no conclusion|     1|                 2|\n",
            "|10000054|Illegal/Sarcasm|     1|                 2|\n",
            "| 1000006|           Food|     1|                 8|\n",
            "| 1000006|  no conclusion|     7|                 8|\n",
            "| 1000007|  no conclusion|     2|                 5|\n",
            "| 1000007|           Food|     2|                 5|\n",
            "| 1000007|       Activity|     1|                 5|\n",
            "| 1000009|  no conclusion|     6|                 8|\n",
            "| 1000009|           Food|     1|                 8|\n",
            "| 1000009|       Activity|     1|                 8|\n",
            "|  100001|  no conclusion|     2|                 4|\n",
            "|  100001|        Utility|     1|                 4|\n",
            "|  100001|           Food|     1|                 4|\n",
            "| 1000011|           Food|     1|                 1|\n",
            "|10000123|  no conclusion|     1|                 2|\n",
            "|10000123|       Activity|     1|                 2|\n",
            "|10000128|  no conclusion|     3|                 4|\n",
            "+--------+---------------+------+------------------+\n",
            "only showing top 20 rows\n",
            "\n"
          ],
          "name": "stdout"
        }
      ]
    },
    {
      "cell_type": "code",
      "metadata": {
        "id": "4NAF4qsVF8BI",
        "colab_type": "code",
        "colab": {}
      },
      "source": [
        "user_info = user_info.withColumn('Classification_Percentage',user_info.number/user_info.all_classification)"
      ],
      "execution_count": 0,
      "outputs": []
    },
    {
      "cell_type": "code",
      "metadata": {
        "id": "nEJApHYsO_VU",
        "colab_type": "code",
        "outputId": "522320c4-eeb2-4c33-8e93-6b591112dfec",
        "colab": {
          "base_uri": "https://localhost:8080/",
          "height": 459
        }
      },
      "source": [
        "user_info.show()"
      ],
      "execution_count": 0,
      "outputs": [
        {
          "output_type": "stream",
          "text": [
            "+--------+---------------+------+------------------+-------------------------+\n",
            "|  user_1| Classification|number|all_classification|Classification_Percentage|\n",
            "+--------+---------------+------+------------------+-------------------------+\n",
            "|      10|           Food|     4|                12|       0.3333333333333333|\n",
            "|      10|       Activity|     1|                12|      0.08333333333333333|\n",
            "|      10|  no conclusion|     7|                12|       0.5833333333333334|\n",
            "|10000054|  no conclusion|     1|                 2|                      0.5|\n",
            "|10000054|Illegal/Sarcasm|     1|                 2|                      0.5|\n",
            "| 1000006|  no conclusion|     7|                 8|                    0.875|\n",
            "| 1000006|           Food|     1|                 8|                    0.125|\n",
            "| 1000007|           Food|     2|                 5|                      0.4|\n",
            "| 1000007|       Activity|     1|                 5|                      0.2|\n",
            "| 1000007|  no conclusion|     2|                 5|                      0.4|\n",
            "| 1000009|  no conclusion|     6|                 8|                     0.75|\n",
            "| 1000009|           Food|     1|                 8|                    0.125|\n",
            "| 1000009|       Activity|     1|                 8|                    0.125|\n",
            "|  100001|  no conclusion|     2|                 4|                      0.5|\n",
            "|  100001|        Utility|     1|                 4|                     0.25|\n",
            "|  100001|           Food|     1|                 4|                     0.25|\n",
            "| 1000011|           Food|     1|                 1|                      1.0|\n",
            "|10000123|       Activity|     1|                 2|                      0.5|\n",
            "|10000123|  no conclusion|     1|                 2|                      0.5|\n",
            "|10000128|        Utility|     1|                 4|                     0.25|\n",
            "+--------+---------------+------+------------------+-------------------------+\n",
            "only showing top 20 rows\n",
            "\n"
          ],
          "name": "stdout"
        }
      ]
    },
    {
      "cell_type": "code",
      "metadata": {
        "id": "5xBNV6uaPHHt",
        "colab_type": "code",
        "outputId": "bfb83b28-2ceb-45fe-e261-05f2bca61052",
        "colab": {
          "base_uri": "https://localhost:8080/",
          "height": 479
        }
      },
      "source": [
        "user_spending_behavior = user_info.groupby('user_1').pivot('Classification').avg('Classification_Percentage')\n",
        "user_spending_behavior = user_spending_behavior.fillna(0)\n",
        "user_spending_behavior.show()"
      ],
      "execution_count": 0,
      "outputs": [
        {
          "output_type": "stream",
          "text": [
            "+--------+-------------------+-------------------+-----+-------------------+-------------------+-------------------+------+-------------------+-------------------+\n",
            "|  user_1|           Activity|               Cash|Event|               Food|    Illegal/Sarcasm|     Transportation|Travel|            Utility|      no conclusion|\n",
            "+--------+-------------------+-------------------+-----+-------------------+-------------------+-------------------+------+-------------------+-------------------+\n",
            "|      10|0.08333333333333333|                0.0|  0.0| 0.3333333333333333|                0.0|                0.0|   0.0|                0.0| 0.5833333333333334|\n",
            "|10000054|                0.0|                0.0|  0.0|                0.0|                0.5|                0.0|   0.0|                0.0|                0.5|\n",
            "| 1000006|                0.0|                0.0|  0.0|              0.125|                0.0|                0.0|   0.0|                0.0|              0.875|\n",
            "| 1000007|                0.2|                0.0|  0.0|                0.4|                0.0|                0.0|   0.0|                0.0|                0.4|\n",
            "| 1000009|              0.125|                0.0|  0.0|              0.125|                0.0|                0.0|   0.0|                0.0|               0.75|\n",
            "|  100001|                0.0|                0.0|  0.0|               0.25|                0.0|                0.0|   0.0|               0.25|                0.5|\n",
            "| 1000011|                0.0|                0.0|  0.0|                1.0|                0.0|                0.0|   0.0|                0.0|                0.0|\n",
            "|10000123|                0.5|                0.0|  0.0|                0.0|                0.0|                0.0|   0.0|                0.0|                0.5|\n",
            "|10000128|                0.0|                0.0|  0.0|                0.0|                0.0|                0.0|   0.0|               0.25|               0.75|\n",
            "| 1000013|0.05263157894736842|0.05263157894736842|  0.0|0.21052631578947367|                0.0|0.10526315789473684|   0.0|0.05263157894736842| 0.5263157894736842|\n",
            "|10000139|                0.5|                0.0|  0.0|                0.0|                0.0|                0.0|   0.0|                0.0|                0.5|\n",
            "| 1000015|                0.5|                0.0|  0.0|                0.0|                0.0|                0.0|   0.0|                0.0|                0.5|\n",
            "| 1000016|                0.0|                0.0|  0.0|                0.0|0.14285714285714285|                0.0|   0.0|                0.0| 0.8571428571428571|\n",
            "|10000197|                0.0|                0.0|  1.0|                0.0|                0.0|                0.0|   0.0|                0.0|                0.0|\n",
            "|10000198|                0.0|                0.0|  0.0|                0.0|                1.0|                0.0|   0.0|                0.0|                0.0|\n",
            "| 1000022|0.14285714285714285|                0.0|  0.0| 0.2857142857142857|                0.0|                0.0|   0.0|0.14285714285714285|0.42857142857142855|\n",
            "| 1000024|                0.1|                0.0|  0.1|                0.0|                0.0|                0.0|   0.0|                0.2|                0.6|\n",
            "|10000250|                0.0|                0.0|  0.0|                0.0|                0.0|                0.0|   0.0|                0.0|                1.0|\n",
            "| 1000026|                0.0|                0.0|  0.0|                0.0|                0.0|                0.0|   0.0|                0.0|                1.0|\n",
            "| 1000027|                0.0|                0.0|  0.0|                1.0|                0.0|                0.0|   0.0|                0.0|                0.0|\n",
            "+--------+-------------------+-------------------+-----+-------------------+-------------------+-------------------+------+-------------------+-------------------+\n",
            "only showing top 20 rows\n",
            "\n"
          ],
          "name": "stdout"
        }
      ]
    },
    {
      "cell_type": "markdown",
      "metadata": {
        "id": "TDfo-LMYo0IX",
        "colab_type": "text"
      },
      "source": [
        "## Q4 : In the previous question, you got a static spending profile. However, life and social networks are evolving over time. Therefore, let’s explore how a user’s spending profile is evolving over her lifetime in Venmo. First of all, you need to analyze a user’s transactions in monthly intervals, starting from 0 (indicating their first transaction only) up to 12."
      ]
    },
    {
      "cell_type": "code",
      "metadata": {
        "id": "DOsfeeCtEmZl",
        "colab_type": "code",
        "colab": {}
      },
      "source": [
        "# get users who joined Venmo for at least 12 months\n",
        "query =\\\n",
        "\"\"\"\n",
        "SELECT\n",
        "    user_1,\n",
        "    \"0,1,2,3,4,5,6,7,8,9,10,11,12\" AS months,\n",
        "    \"Food,Transportation,Event,Utility,Cash,Illegal/Sarcasm,Activity,People,Travel,no conclusion\" AS topic\n",
        "FROM\n",
        "    venmodata\n",
        "WHERE\n",
        "    DATEDIFF(DATE(\"2016-11-30\"), datetime) >= 360\n",
        "GROUP BY\n",
        "    user_1\n",
        "ORDER by user_1\n",
        "\"\"\"\n",
        "old_cust = spark.sql(query)\\\n",
        "    .withColumn(\"months\", split(col(\"months\"), \",\\s*\")\\\n",
        "    .cast(ArrayType(IntegerType())).alias(\"months\"))\\\n",
        "    .select(\"user_1\", \"topic\", explode(\"months\").alias(\"months\"))\\\n",
        "    .withColumn(\"topic\", split(col(\"topic\"), \",\\s*\")\\\n",
        "    .cast(ArrayType(StringType())).alias(\"topic\"))\\\n",
        "    .select(\"user_1\", \"months\", explode(\"topic\").alias(\"topic\"))\n",
        "old_cust.createOrReplaceTempView(\"old_cust\")"
      ],
      "execution_count": 0,
      "outputs": []
    },
    {
      "cell_type": "code",
      "metadata": {
        "id": "2KmTUp5w8Usg",
        "colab_type": "code",
        "outputId": "8352b171-aae8-4bfb-8f31-fc3377cffec7",
        "colab": {
          "base_uri": "https://localhost:8080/",
          "height": 459
        }
      },
      "source": [
        "old_cust.show()"
      ],
      "execution_count": 0,
      "outputs": [
        {
          "output_type": "stream",
          "text": [
            "+------+------+---------------+\n",
            "|user_1|months|          topic|\n",
            "+------+------+---------------+\n",
            "|    10|     0|           Food|\n",
            "|    10|     0| Transportation|\n",
            "|    10|     0|          Event|\n",
            "|    10|     0|        Utility|\n",
            "|    10|     0|           Cash|\n",
            "|    10|     0|Illegal/Sarcasm|\n",
            "|    10|     0|       Activity|\n",
            "|    10|     0|         People|\n",
            "|    10|     0|         Travel|\n",
            "|    10|     0|  no conclusion|\n",
            "|    10|     1|           Food|\n",
            "|    10|     1| Transportation|\n",
            "|    10|     1|          Event|\n",
            "|    10|     1|        Utility|\n",
            "|    10|     1|           Cash|\n",
            "|    10|     1|Illegal/Sarcasm|\n",
            "|    10|     1|       Activity|\n",
            "|    10|     1|         People|\n",
            "|    10|     1|         Travel|\n",
            "|    10|     1|  no conclusion|\n",
            "+------+------+---------------+\n",
            "only showing top 20 rows\n",
            "\n"
          ],
          "name": "stdout"
        }
      ]
    },
    {
      "cell_type": "code",
      "metadata": {
        "id": "PD9oe0g2OZUl",
        "colab_type": "code",
        "colab": {}
      },
      "source": [
        "# combine user's classification, age, and count of classification at an age\n",
        "query =\\\n",
        "\"\"\"\n",
        "SELECT\n",
        "    *,\n",
        "    (COUNT(*) OVER (PARTITION BY user_1, Classification ORDER BY cust_age ROWS BETWEEN UNBOUNDED PRECEDING AND CURRENT ROW)) AS topic_accu\n",
        "FROM\n",
        "    (SELECT\n",
        "        user_1,\n",
        "        Classification,\n",
        "        CASE\n",
        "            WHEN datetime = (MIN(datetime) OVER (PARTITION BY user_1)) THEN 0\n",
        "            ELSE CEIL(DATEDIFF(datetime, (MIN(datetime) OVER (PARTITION BY user_1)))/30) \n",
        "            END AS cust_age\n",
        "    FROM\n",
        "        venmodata \n",
        "    WHERE user_1\n",
        "        IN (SELECT user_1 FROM old_cust GROUP BY user_1))\n",
        "ORDER BY user_1, cust_age, Classification\n",
        "\"\"\"\n",
        "pre_profile = spark.sql(query)\n",
        "pre_profile.createOrReplaceTempView(\"pre_profile\")"
      ],
      "execution_count": 0,
      "outputs": []
    },
    {
      "cell_type": "code",
      "metadata": {
        "id": "Vr9OE5qg8_XU",
        "colab_type": "code",
        "colab": {}
      },
      "source": [
        "pre_profile.show(5)"
      ],
      "execution_count": 0,
      "outputs": []
    },
    {
      "cell_type": "code",
      "metadata": {
        "id": "dpSFSc_6ObGS",
        "colab_type": "code",
        "colab": {}
      },
      "source": [
        "# generate a unpivoted complete user profile\n",
        "query =\\\n",
        "\"\"\"\n",
        "SELECT\n",
        "    user_1,\n",
        "    months,\n",
        "    topic,\n",
        "    topic_accu,\n",
        "    CASE\n",
        "        WHEN LAST(topic_monthly_percentage) IS NULL THEN 0\n",
        "        ELSE LAST(topic_monthly_percentage) END AS topic_monthly_percentage\n",
        "FROM\n",
        "    (SELECT\n",
        "        o.user_1,\n",
        "        o.months,\n",
        "        o.topic,\n",
        "        SUM(p.topic_accu) OVER (PARTITION BY o.user_1) AS topic_accu,\n",
        "        ((SUM(topic_accu) OVER (PARTITION BY o.user_1, o.months, o.topic)) / (SUM(topic_accu) OVER (PARTITION BY o.user_1, o.months))) AS topic_monthly_percentage\n",
        "    FROM\n",
        "        old_cust o\n",
        "    LEFT JOIN\n",
        "        pre_profile p\n",
        "        ON p.user_1 = o.user_1\n",
        "        AND o.months = p.cust_age\n",
        "        AND o.topic = p.Classification)\n",
        "GROUP BY user_1, months, topic, topic_accu\n",
        "ORDER BY user_1, months, topic\n",
        "\"\"\"\n",
        "userProfile = spark.sql(query)\n",
        "userProfile.createOrReplaceTempView(\"userProfile\")"
      ],
      "execution_count": 0,
      "outputs": []
    },
    {
      "cell_type": "code",
      "metadata": {
        "id": "yOS5kYsQOefy",
        "colab_type": "code",
        "colab": {}
      },
      "source": [
        "# pivot user profile, make it suitable for analytical works\n",
        "userProfile_pivoted = userProfile\\\n",
        "  .groupBy(\"user_1\", \"months\", \"topic_accu\")\\\n",
        "  .pivot(\"topic\")\\\n",
        "  .avg(\"topic_monthly_percentage\")\\\n",
        "  .sort(\"user_1\", \"months\")\n",
        "\n",
        "userProfile_pivoted.createOrReplaceTempView(\"userProfile_pivoted\")"
      ],
      "execution_count": 0,
      "outputs": []
    },
    {
      "cell_type": "code",
      "metadata": {
        "id": "zp8TEsfkF95A",
        "colab_type": "code",
        "colab": {}
      },
      "source": [
        "spark.sql(\"select * from userProfile_pivoted\").show(50)"
      ],
      "execution_count": 0,
      "outputs": []
    },
    {
      "cell_type": "markdown",
      "metadata": {
        "id": "iHHWbcpDU7EU",
        "colab_type": "text"
      },
      "source": [
        "## Q5 : Write a script to find a user’s friends and friends of friends (Friend definition: A user’s friend is someone who has transacted with the user, either sending money to the user or receiving money from the user). Describe your algorithm and calculate its computational complexity. Can you do it better?"
      ]
    },
    {
      "cell_type": "code",
      "metadata": {
        "id": "iFL-lrxNxk01",
        "colab_type": "code",
        "colab": {}
      },
      "source": [
        "# friends\n",
        "query = \"\"\"\n",
        "select distinct * from\n",
        "(select distinct user_1,user_2 from venmodata\n",
        "union\n",
        "select distinct user_2,user_1 from venmodata)\n",
        "order by user_1\n",
        "\"\"\"\n",
        "Friends = spark.sql(query)"
      ],
      "execution_count": 0,
      "outputs": []
    },
    {
      "cell_type": "code",
      "metadata": {
        "id": "UIDazN0ECD2y",
        "colab_type": "code",
        "outputId": "1666e8a8-9a2d-450d-f279-ad4db2c8d0c6",
        "colab": {
          "base_uri": "https://localhost:8080/",
          "height": 204
        }
      },
      "source": [
        "Friends.show(5)"
      ],
      "execution_count": 0,
      "outputs": [
        {
          "output_type": "stream",
          "text": [
            "+------+-------+\n",
            "|user_1| user_2|\n",
            "+------+-------+\n",
            "|    10|  36523|\n",
            "|    10|     43|\n",
            "|    10| 133032|\n",
            "|    10|3844713|\n",
            "|    10|     13|\n",
            "+------+-------+\n",
            "only showing top 5 rows\n",
            "\n"
          ],
          "name": "stdout"
        }
      ]
    },
    {
      "cell_type": "code",
      "metadata": {
        "id": "uS4iCRyqCzMe",
        "colab_type": "code",
        "colab": {}
      },
      "source": [
        "# friends of friends\n",
        "query = \"\"\"\n",
        "select * from\n",
        "(select distinct user_1,user_2 from venmodata) as a\n",
        "join\n",
        "(select distinct user_2,user_1 from venmodata) as b\n",
        "on a.user_2 = b.user_2 \n",
        "where a.user_1<>b.user_1\n",
        "order by a.user_1\n",
        "\"\"\"\n",
        "FriendsOfFriends = spark.sql(query)"
      ],
      "execution_count": 0,
      "outputs": []
    },
    {
      "cell_type": "code",
      "metadata": {
        "id": "R-m_0AfPELir",
        "colab_type": "code",
        "outputId": "7f90bff5-fc8b-49a1-b487-5dba81a6dc46",
        "colab": {
          "base_uri": "https://localhost:8080/",
          "height": 204
        }
      },
      "source": [
        "FriendsOfFriends.show(5)"
      ],
      "execution_count": 0,
      "outputs": [
        {
          "output_type": "stream",
          "text": [
            "+------+------+------+-------+\n",
            "|user_1|user_2|user_2| user_1|\n",
            "+------+------+------+-------+\n",
            "|    10|    43|    43|  47104|\n",
            "|    10|    43|    43|1491816|\n",
            "|    10|    43|    43|     96|\n",
            "|    10|    43|    43|  72106|\n",
            "|    10|    43|    43|  82697|\n",
            "+------+------+------+-------+\n",
            "only showing top 5 rows\n",
            "\n"
          ],
          "name": "stdout"
        }
      ]
    },
    {
      "cell_type": "code",
      "metadata": {
        "id": "ICno5VToEgTT",
        "colab_type": "code",
        "colab": {}
      },
      "source": [
        "# get the friends of friends different from friends\n",
        "query = \"\"\"\n",
        "select friends.user_1,friends.user_2,fof.fofs\n",
        "from\n",
        "(select distinct * from\n",
        "(select distinct user_1,user_2 from venmodata\n",
        "union\n",
        "select distinct user_2,user_1 from venmodata)) as friends\n",
        "join\n",
        "(select * from\n",
        "(select distinct user_1,user_2 from venmodata) as a\n",
        "join\n",
        "(select distinct user_2,user_1 as fofs from venmodata) as b\n",
        "on a.user_2 = b.user_2 \n",
        "where a.user_1<>b.fofs) as fof\n",
        "using (user_1)\n",
        "where friends.user_2<>fof.fofs\n",
        "\"\"\"\n",
        "network = spark.sql(query)"
      ],
      "execution_count": 0,
      "outputs": []
    },
    {
      "cell_type": "code",
      "metadata": {
        "id": "__ogegS1FaRu",
        "colab_type": "code",
        "outputId": "067e0f19-1286-47d5-8040-32c7a3701750",
        "colab": {
          "base_uri": "https://localhost:8080/",
          "height": 204
        }
      },
      "source": [
        "network.show(5)"
      ],
      "execution_count": 0,
      "outputs": [
        {
          "output_type": "stream",
          "text": [
            "+-------+------+-------+\n",
            "| user_1|user_2|   fofs|\n",
            "+-------+------+-------+\n",
            "|1000240|899483|1070763|\n",
            "|1000240|899483| 564546|\n",
            "|1000240|899483| 731901|\n",
            "|1000280|627873| 385136|\n",
            "|1000280|627873| 766966|\n",
            "+-------+------+-------+\n",
            "only showing top 5 rows\n",
            "\n"
          ],
          "name": "stdout"
        }
      ]
    },
    {
      "cell_type": "markdown",
      "metadata": {
        "id": "88UH_7ppOtnx",
        "colab_type": "text"
      },
      "source": [
        "## Q6 i): Number of friends and number of friends of friends"
      ]
    },
    {
      "cell_type": "code",
      "metadata": {
        "id": "UCPjwaejU7i9",
        "colab_type": "code",
        "colab": {}
      },
      "source": [
        "# create an undirected transaction history and calculate customer's age\n",
        "query = \\\n",
        "\"\"\"\n",
        "SELECT\n",
        "    *,\n",
        "    CASE WHEN datetime = (MIN(datetime) OVER (PARTITION BY user1)) THEN 0\n",
        "         ELSE CEIL(DATEDIFF(datetime, (MIN(datetime) OVER (PARTITION BY user1)))/30) \n",
        "         END AS cust_age\n",
        "FROM\n",
        "    (SELECT\n",
        "        *,\n",
        "        MIN(datetime) OVER (PARTITION BY user1) AS join_date\n",
        "    FROM\n",
        "        (SELECT\n",
        "            user1, user2, datetime, story_id\n",
        "        FROM\n",
        "            venmodata\n",
        "        UNION ALL\n",
        "        SELECT\n",
        "            user1 AS user2,\n",
        "            user2 AS user1,\n",
        "            datetime,\n",
        "            story_id\n",
        "        FROM\n",
        "            venmodata))\n",
        "\"\"\"\n",
        "\n",
        "customerAge = spark.sql(query)\n",
        "customerAge.cache()\n",
        "customerAge.createOrReplaceTempView(\"customerAge\")"
      ],
      "execution_count": 0,
      "outputs": []
    },
    {
      "cell_type": "code",
      "metadata": {
        "id": "HtJlKCnLO9fe",
        "colab_type": "code",
        "colab": {}
      },
      "source": [
        "# number of friend at each month\n",
        "query = \\\n",
        "\"\"\"\n",
        "SELECT\n",
        "    user1,\n",
        "    cust_age,\n",
        "    count(*) OVER (PARTITION BY user1 ORDER BY cust_age ROWS BETWEEN UNBOUNDED PRECEDING AND CURRENT ROW) AS num_of_friend\n",
        "FROM\n",
        "    customerAge\n",
        "GROUP BY user1, cust_age\n",
        "ORDER BY user1, cust_age\n",
        "\"\"\"\n",
        "fof = spark.sql(query)\n",
        "fof.show(5000)"
      ],
      "execution_count": 0,
      "outputs": []
    },
    {
      "cell_type": "code",
      "metadata": {
        "id": "gapFhM73PiES",
        "colab_type": "code",
        "colab": {}
      },
      "source": [
        "# number of friend of friend at each month\n",
        "query = \\\n",
        "\"\"\"\n",
        "SELECT\n",
        "    t1.user1,\n",
        "    t1.cust_age,\n",
        "    count(*) OVER (PARTITION BY t1.user1 ORDER BY t1.cust_age ROWS BETWEEN UNBOUNDED PRECEDING AND CURRENT ROW) AS num_of_friend_of_friend\n",
        "FROM\n",
        "    customerAge t1\n",
        "LEFT JOIN\n",
        "    customerAge t2\n",
        "ON\n",
        "    t2.user1 = t1.user2\n",
        "WHERE\n",
        "    t2.user2 != t1.user1\n",
        "GROUP BY t1.user1, t1.cust_age\n",
        "ORDER BY t1.user1, t1.cust_age\n",
        "\"\"\"\n",
        "fofof = spark.sql(query)\n",
        "fofof.show(5000)"
      ],
      "execution_count": 0,
      "outputs": []
    },
    {
      "cell_type": "markdown",
      "metadata": {
        "id": "yaMRcB0T9nC7",
        "colab_type": "text"
      },
      "source": [
        "## ii) Clustering coefficient of a user's network"
      ]
    },
    {
      "cell_type": "code",
      "metadata": {
        "id": "NmAudEUUZ5Lp",
        "colab_type": "code",
        "outputId": "d60dc280-f5c1-4e49-8852-db2b67c7ae80",
        "colab": {
          "base_uri": "https://localhost:8080/",
          "height": 71
        }
      },
      "source": [
        "!pip install networkx"
      ],
      "execution_count": 0,
      "outputs": [
        {
          "output_type": "stream",
          "text": [
            "Requirement already satisfied: networkx in /usr/local/lib/python3.6/dist-packages (2.4)\n",
            "Requirement already satisfied: decorator>=4.3.0 in /usr/local/lib/python3.6/dist-packages (from networkx) (4.4.2)\n"
          ],
          "name": "stdout"
        }
      ]
    },
    {
      "cell_type": "code",
      "metadata": {
        "id": "7d8HDPKxZ7vH",
        "colab_type": "code",
        "colab": {}
      },
      "source": [
        "import networkx as nx\n",
        "G = nx.Graph()"
      ],
      "execution_count": 0,
      "outputs": []
    },
    {
      "cell_type": "code",
      "metadata": {
        "id": "vgo-RqaY9paX",
        "colab_type": "code",
        "colab": {}
      },
      "source": [
        "# get nodes\n",
        "nodes = sqlContext.sql('select distinct * from (select distinct user_1 from venmodata union select distinct user_2 from venmodata)')"
      ],
      "execution_count": 0,
      "outputs": []
    },
    {
      "cell_type": "code",
      "metadata": {
        "id": "AfgyF5mA__0i",
        "colab_type": "code",
        "outputId": "4e71f340-d532-49c9-b5e6-dce199f9f3a8",
        "colab": {
          "base_uri": "https://localhost:8080/",
          "height": 459
        }
      },
      "source": [
        "nodes.show()"
      ],
      "execution_count": 0,
      "outputs": [
        {
          "output_type": "stream",
          "text": [
            "+-------+\n",
            "| user_1|\n",
            "+-------+\n",
            "|1218774|\n",
            "|2954885|\n",
            "|2517841|\n",
            "|2073451|\n",
            "|2413583|\n",
            "| 629853|\n",
            "|2594217|\n",
            "|1912151|\n",
            "|1676425|\n",
            "|3817326|\n",
            "|1404141|\n",
            "|4109722|\n",
            "|7209296|\n",
            "| 244335|\n",
            "|2325198|\n",
            "|2515048|\n",
            "|4168921|\n",
            "|4414119|\n",
            "| 709070|\n",
            "|8671440|\n",
            "+-------+\n",
            "only showing top 20 rows\n",
            "\n"
          ],
          "name": "stdout"
        }
      ]
    },
    {
      "cell_type": "code",
      "metadata": {
        "id": "Nx8lFjo7BUm7",
        "colab_type": "code",
        "colab": {}
      },
      "source": [
        "# adjust format\n",
        "import numpy as np\n",
        "nodes = np.array(nodes.select('user_1').collect())\n",
        "nodes = nodes.flatten()"
      ],
      "execution_count": 0,
      "outputs": []
    },
    {
      "cell_type": "code",
      "metadata": {
        "id": "KEtTBwszBpui",
        "colab_type": "code",
        "colab": {}
      },
      "source": [
        "# add nodes to graph\n",
        "G.add_nodes_from(nodes)"
      ],
      "execution_count": 0,
      "outputs": []
    },
    {
      "cell_type": "code",
      "metadata": {
        "id": "N7hI3zcACyq-",
        "colab_type": "code",
        "colab": {}
      },
      "source": [
        "# get edges\n",
        "edges = sqlContext.sql('select distinct user_1,user_2 from venmodata')"
      ],
      "execution_count": 0,
      "outputs": []
    },
    {
      "cell_type": "code",
      "metadata": {
        "id": "SRHre_COEJ_y",
        "colab_type": "code",
        "colab": {}
      },
      "source": [
        "# adjust edges format\n",
        "edges = edges.toPandas().to_records(index=False)"
      ],
      "execution_count": 0,
      "outputs": []
    },
    {
      "cell_type": "code",
      "metadata": {
        "id": "MXI2dHmrFfOf",
        "colab_type": "code",
        "colab": {}
      },
      "source": [
        "# add edges\n",
        "G.add_edges_from(edges)"
      ],
      "execution_count": 0,
      "outputs": []
    },
    {
      "cell_type": "code",
      "metadata": {
        "id": "k78hwa3XGaM4",
        "colab_type": "code",
        "outputId": "323ffa47-08a1-4a3d-82bf-98cb8c9be4b5",
        "colab": {
          "base_uri": "https://localhost:8080/",
          "height": 34
        }
      },
      "source": [
        "G.number_of_nodes()"
      ],
      "execution_count": 0,
      "outputs": [
        {
          "output_type": "execute_result",
          "data": {
            "text/plain": [
              "3018657"
            ]
          },
          "metadata": {
            "tags": []
          },
          "execution_count": 49
        }
      ]
    },
    {
      "cell_type": "code",
      "metadata": {
        "id": "SxcbAL5QGv3m",
        "colab_type": "code",
        "outputId": "0ac92e2b-fecb-4105-8abe-8dbe3b913a15",
        "colab": {
          "base_uri": "https://localhost:8080/",
          "height": 34
        }
      },
      "source": [
        "G.number_of_edges()"
      ],
      "execution_count": 0,
      "outputs": [
        {
          "output_type": "execute_result",
          "data": {
            "text/plain": [
              "4997781"
            ]
          },
          "metadata": {
            "tags": []
          },
          "execution_count": 50
        }
      ]
    },
    {
      "cell_type": "code",
      "metadata": {
        "id": "cR-rgaXrGxjE",
        "colab_type": "code",
        "colab": {}
      },
      "source": [
        "# get clustering coefficient\n",
        "clustering_coefficient = nx.clustering(G)"
      ],
      "execution_count": 0,
      "outputs": []
    },
    {
      "cell_type": "code",
      "metadata": {
        "id": "B7W-CNMFU5KR",
        "colab_type": "code",
        "colab": {}
      },
      "source": [
        "import pandas as pd\n",
        "ClusteringCoefficient = pd.DataFrame(clustering_coefficient,index=['user','clustering_coefficient'])"
      ],
      "execution_count": 0,
      "outputs": []
    },
    {
      "cell_type": "markdown",
      "metadata": {
        "id": "nRwO7jjCpffg",
        "colab_type": "text"
      },
      "source": [
        "## iii) Calculate the page rank of each user"
      ]
    },
    {
      "cell_type": "code",
      "metadata": {
        "id": "5L9KeZSGHTyt",
        "colab_type": "code",
        "colab": {}
      },
      "source": [
        "from graphframes import *"
      ],
      "execution_count": 0,
      "outputs": []
    },
    {
      "cell_type": "code",
      "metadata": {
        "id": "t965T5zqo_07",
        "colab_type": "code",
        "colab": {}
      },
      "source": [
        "# get nodes\n",
        "nodes = sqlContext.sql('select distinct * from (select distinct user1 from venmodata union select distinct user2 from venmodata)')\n",
        "nodes = nodes.select(nodes.user1.alias('id'))"
      ],
      "execution_count": 0,
      "outputs": []
    },
    {
      "cell_type": "code",
      "metadata": {
        "id": "2y8ZBSrppGYy",
        "colab_type": "code",
        "colab": {}
      },
      "source": [
        "# get edges\n",
        "edges = sqlContext.sql('select distinct user1,user2 from venmodata')\n",
        "edges = edges.select(edges.user1.alias('src'),edges.user1.alias('dst'))"
      ],
      "execution_count": 0,
      "outputs": []
    },
    {
      "cell_type": "code",
      "metadata": {
        "id": "1G2TPkSBpIlP",
        "colab_type": "code",
        "colab": {}
      },
      "source": [
        "g = GraphFrame(nodes, edges)"
      ],
      "execution_count": 0,
      "outputs": []
    },
    {
      "cell_type": "code",
      "metadata": {
        "id": "aYAphVkppWbX",
        "colab_type": "code",
        "colab": {}
      },
      "source": [
        "# get pagerank\n",
        "results = g.pageRank(resetProbability=0.15, tol=0.01)\n",
        "pagerank = results.vertices"
      ],
      "execution_count": 0,
      "outputs": []
    },
    {
      "cell_type": "markdown",
      "metadata": {
        "id": "dXI3al0Moy9o",
        "colab_type": "text"
      },
      "source": [
        "## Q7: Create your dependent variable Y, i.e. the total number of transactions at lifetime point 12"
      ]
    },
    {
      "cell_type": "code",
      "metadata": {
        "id": "1nv3Rlvi1LS2",
        "colab_type": "code",
        "colab": {}
      },
      "source": [
        "query =\\\n",
        "\"\"\"\n",
        "SELECT\n",
        "    user_1, months,topic_accu, Activity, Cash, Event, Food, `Illegal/Sarcasm`, People, Transportation, Travel, Utility, `no conclusion`,\n",
        "    friend,\n",
        "    friend_of_friend,\n",
        "    (friend + friend_of_friend) AS total_connections,\n",
        "    pagerank,\n",
        "    clustering_coefficient\n",
        "FROM\n",
        "    (SELECT\n",
        "      upp.*,\n",
        "      SUM(num_of_friend) OVER (PARTITION BY upp.user_1 ORDER BY months ROWS BETWEEN UNBOUNDED PRECEDING AND CURRENT ROW) AS friend,\n",
        "      IF(SUM(num_of_friend_of_friend) OVER (PARTITION BY upp.user_1 ORDER BY months ROWS BETWEEN UNBOUNDED PRECEDING AND CURRENT ROW) IS NULL, 0, SUM(num_of_friend_of_friend) OVER (PARTITION BY user_1 ORDER BY months ROWS BETWEEN UNBOUNDED PRECEDING AND CURRENT ROW)) AS friend_of_friend,\n",
        "      pagerank,\n",
        "      clustering_coefficient\n",
        "    FROM\n",
        "      userProfile_pivoted upp\n",
        "    LEFT JOIN\n",
        "      fof\n",
        "    ON upp.user_1 = fof.user1\n",
        "    AND upp.months = fof.cust_age\n",
        "    LEFT JOIN\n",
        "      fofof\n",
        "    ON upp.user_1 = fofof.user1\n",
        "    AND upp.months = fofof.cust_age\n",
        "    LEFT JOIN\n",
        "      pagerank p\n",
        "    ON upp.user_1 = p.id\n",
        "    LEFT JOIN\n",
        "      ClusteringCoefficient cc\n",
        "    ON cc.user_1 = upp.user_1\n",
        "    ORDER BY\n",
        "      user_1, months)\n",
        "\"\"\"\n",
        "\n",
        "venmoComplete = spark.sql(query)\n",
        "venmoComplete.createOrReplaceTempView(\"venmoComplete\")\n",
        "sqlContext.cacheTable(\"venmoComplete\")"
      ],
      "execution_count": 0,
      "outputs": []
    },
    {
      "cell_type": "markdown",
      "metadata": {
        "id": "40ZCMxtO9JfY",
        "colab_type": "text"
      },
      "source": [
        "## Q8: Create the recency and frequency variables. In CRM, this predictive framework is known as RFM. Here, you don’t have monetary amounts, so we will focus on just RF. Recency refers to the last time a user was active, and frequency is how often a user uses Venmo in a month. You need to compute these metrics across a user’s lifetime in Venmo (from 0 up to 12)"
      ]
    },
    {
      "cell_type": "code",
      "metadata": {
        "id": "BWk4pZ6Y8j8D",
        "colab_type": "code",
        "colab": {}
      },
      "source": [
        "query = \\\n",
        "\"\"\"\n",
        "SELECT\n",
        "    t2.user_1,\n",
        "    t2.months,\n",
        "    IF(LAST(row_recency) IS NULL, 30, LAST(row_recency)) AS recency,\n",
        "    IF(LAST(frequency) IS NULL, 0, LAST(frequency)) AS frequency\n",
        "FROM\n",
        "    (SELECT\n",
        "        user1, \n",
        "        cust_age,\n",
        "        DATEDIFF(end_of_month, datetime) AS row_recency,\n",
        "        frequency\n",
        "    FROM\n",
        "        (SELECT\n",
        "            *,\n",
        "            (COUNT(*) OVER (PARTITION BY user1, cust_age))/30 AS frequency,\n",
        "            ADD_MONTHS(join_date, cust_age) AS end_of_month\n",
        "        FROM\n",
        "            customerAge)\n",
        "    ORDER BY\n",
        "        user1, cust_age, row_recency DESC) t1\n",
        "RIGHT JOIN\n",
        "    (SELECT user_1, months\n",
        "    FROM old_cust\n",
        "    GROUP BY user_1, months\n",
        "    ORDER BY user_1, months) t2\n",
        "ON t1.user1 = t2.user_1 AND t1.cust_age = t2.months\n",
        "GROUP BY\n",
        "    t2.user_1, months\n",
        "ORDER BY\n",
        "        t2.user_1, months, recency DESC\n",
        "\"\"\"\n",
        "rfm = spark.sql(query)\n",
        "rfm.cache()\n",
        "rfm.createOrReplaceTempView(\"rfm\")"
      ],
      "execution_count": 0,
      "outputs": []
    },
    {
      "cell_type": "code",
      "metadata": {
        "id": "Bj71K8gz9OI3",
        "colab_type": "code",
        "colab": {}
      },
      "source": [
        "rfm.show(5000)"
      ],
      "execution_count": 0,
      "outputs": []
    },
    {
      "cell_type": "markdown",
      "metadata": {
        "id": "ccMDiRKo9R2F",
        "colab_type": "text"
      },
      "source": [
        "## Q9:  For each user’s lifetime point, regress recency and frequency on Y. Plot the MSE for each lifetime point. In other words, your x-axis will be lifetime in months (0-12), and your y- axis will be the MSE."
      ]
    },
    {
      "cell_type": "code",
      "metadata": {
        "id": "TbQPzgbw9O1O",
        "colab_type": "code",
        "colab": {}
      },
      "source": [
        "# combine rfm to user profile\n",
        "query =\\\n",
        "\"\"\"\n",
        "SELECT\n",
        "    v.user_1,\n",
        "    v.months,\n",
        "    recency,\n",
        "    frequency,\n",
        "    topic_accu,\n",
        "    Activity,\n",
        "    Cash,\n",
        "    Event,\n",
        "    Food,\n",
        "    `Illegal/Sarcasm`,\n",
        "    People,\n",
        "    Transportation,\n",
        "    Travel,\n",
        "    Utility,\n",
        "    `no conclusion`,\n",
        "    friend,\n",
        "    friend_of_friend,\n",
        "    total_connections\n",
        "FROM\n",
        "    venmoComplete v\n",
        "LEFT JOIN\n",
        "    rfm r\n",
        "ON v.user_1 = r.user_1 AND v.months = r.months\n",
        "\n",
        "\"\"\"\n",
        "venmoFinal = spark.sql(query)\n",
        "venmoFinal.createOrReplaceTempView(\"venmoFinal\")\n",
        "venmoFinal.cache()"
      ],
      "execution_count": 0,
      "outputs": []
    },
    {
      "cell_type": "code",
      "metadata": {
        "id": "9ATMT2Se9Uel",
        "colab_type": "code",
        "colab": {}
      },
      "source": [
        "venmoFinal.show()"
      ],
      "execution_count": 0,
      "outputs": []
    },
    {
      "cell_type": "code",
      "metadata": {
        "id": "WM0rbOtK9WI_",
        "colab_type": "code",
        "colab": {}
      },
      "source": [
        "lr_data = venmoFinal.select(\"recency\", \"frequency\", venmoFinal.topic_accu.alias(\"label\"))\n",
        "train, test = lr_data.randomSplit([0.7, 0.3], seed=23333)"
      ],
      "execution_count": 0,
      "outputs": []
    },
    {
      "cell_type": "code",
      "metadata": {
        "id": "1C74NhKfK8lj",
        "colab_type": "code",
        "colab": {}
      },
      "source": [
        "assembler = VectorAssembler().setInputCols(['recency', \"frequency\"]).setOutputCol(\"features\")\n",
        "train01 = assembler.transform(train)\n",
        "test01 = assembler.transform(test)"
      ],
      "execution_count": 0,
      "outputs": []
    },
    {
      "cell_type": "code",
      "metadata": {
        "id": "icTTwEZ4LC5n",
        "colab_type": "code",
        "colab": {}
      },
      "source": [
        "paramGrid = ParamGridBuilder()\\\n",
        "    .addGrid(lr.regParam, [0.1, 0.01]) \\\n",
        "    .addGrid(lr.fitIntercept, [False, True])\\\n",
        "    .addGrid(lr.elasticNetParam, [0.0, 0.5, 1.0])\\\n",
        "    .build()"
      ],
      "execution_count": 0,
      "outputs": []
    },
    {
      "cell_type": "code",
      "metadata": {
        "id": "StGBWd1rLEJD",
        "colab_type": "code",
        "colab": {}
      },
      "source": [
        "lr = LinearRegression(featuresCol = 'features', labelCol='label', maxIter=10, regParam=0.3)\n",
        "lr_model = lr.fit(train01)"
      ],
      "execution_count": 0,
      "outputs": []
    },
    {
      "cell_type": "code",
      "metadata": {
        "id": "Wrh39zDiLGli",
        "colab_type": "code",
        "colab": {}
      },
      "source": [
        "# training set result\n",
        "print(\"Coefficients: \" + str(lr_model.coefficients))\n",
        "print(\"Intercept: \" + str(lr_model.intercept))\n",
        "trainingSummary = lr_model.summary\n",
        "print(\"RMSE: %f\" % trainingSummary.rootMeanSquaredError)\n",
        "print(\"r2: %f\" % trainingSummary.r2)"
      ],
      "execution_count": 0,
      "outputs": []
    },
    {
      "cell_type": "code",
      "metadata": {
        "id": "HPPETWtWLHId",
        "colab_type": "code",
        "colab": {}
      },
      "source": [
        "# validation\n",
        "lr_predictions = lr_model.transform(test01)\n",
        "lr_predictions.select(\"prediction\",\"label\",\"features\").show(5)\n",
        "from pyspark.ml.evaluation import RegressionEvaluator\n",
        "lr_evaluator = RegressionEvaluator(predictionCol=\"prediction\", \\\n",
        "                 labelCol=\"label\",metricName=\"r2\")\n",
        "print(\"R Squared (R2) on test data = %g\" % lr_evaluator.evaluate(lr_predictions))"
      ],
      "execution_count": 0,
      "outputs": []
    },
    {
      "cell_type": "code",
      "metadata": {
        "id": "hrq1lbX1LHA7",
        "colab_type": "code",
        "colab": {}
      },
      "source": [
        "# MSE on test set\n",
        "test_result = lr_model.evaluate(test01)\n",
        "print(\"Mean Squared Error (MSE) on test data = %g\" % test_result.meanSquaredError)"
      ],
      "execution_count": 0,
      "outputs": []
    },
    {
      "cell_type": "markdown",
      "metadata": {
        "id": "UIwcQttAQcb0",
        "colab_type": "text"
      },
      "source": [
        "## Q10: For each user’s lifetime point, regress recency, frequency AND her spending behavior profile on Y. Plot the MSE for each lifetime point like above. Did you get any improvement?"
      ]
    },
    {
      "cell_type": "code",
      "metadata": {
        "id": "m5GtXz51L1U2",
        "colab_type": "code",
        "colab": {}
      },
      "source": [
        "lr_data02 = venmoFinal.select(\"recency\", \"frequency\", \"Activity\", \"Cash\", \"Event\", \"Food\", \"Illegal/Sarcasm\", \"People\", \"Transportation\", \"Travel\", \"Utility\", \"no conclusion\" , venmoFinal.topic_accu.alias(\"label\"))\n",
        "train02, test02 = lr_data02.randomSplit([0.7, 0.3], seed=23333)"
      ],
      "execution_count": 0,
      "outputs": []
    },
    {
      "cell_type": "code",
      "metadata": {
        "id": "TRiS47_3QewG",
        "colab_type": "code",
        "colab": {}
      },
      "source": [
        "assembler02 = VectorAssembler().setInputCols([\"recency\", \"frequency\", \"Activity\", \"Cash\", \"Event\", \"Food\", \"Illegal/Sarcasm\", \"People\", \"Transportation\", \"Travel\", \"Utility\", \"no conclusion\"]).setOutputCol(\"features\")\n",
        "train02 = assembler02.transform(train02)\n",
        "test02 = assembler02.transform(test02)\n",
        "lr_model02 = lr.fit(train02)"
      ],
      "execution_count": 0,
      "outputs": []
    },
    {
      "cell_type": "code",
      "metadata": {
        "id": "1bs2U6GuQgdm",
        "colab_type": "code",
        "colab": {}
      },
      "source": [
        "# training set result\n",
        "print(\"Coefficients: \" + str(lr_model02.coefficients))\n",
        "print(\"Intercept: \" + str(lr_model02.intercept))\n",
        "trainingSummary02 = lr_model02.summary\n",
        "print(\"RMSE: %f\" % trainingSummary02.rootMeanSquaredError)\n",
        "print(\"r2: %f\" % trainingSummary02.r2)"
      ],
      "execution_count": 0,
      "outputs": []
    },
    {
      "cell_type": "code",
      "metadata": {
        "id": "pBTlKu5NQhab",
        "colab_type": "code",
        "colab": {}
      },
      "source": [
        "test_result02 = lr_model02.evaluate(test02)\n",
        "print(\"Mean Squared Error (MSE) on test data = %g\" % test_result02.meanSquaredError)"
      ],
      "execution_count": 0,
      "outputs": []
    },
    {
      "cell_type": "markdown",
      "metadata": {
        "id": "L9Qm-52XUT-s",
        "colab_type": "text"
      },
      "source": [
        "## Q11: For each user’s lifetime point, regress her social network metrics on Y. Plot the MSE for each lifetime point like above. What do you observe? How do social network metrics compare with the RF framework? What are the most informative predictors?"
      ]
    },
    {
      "cell_type": "code",
      "metadata": {
        "id": "DbqvtM4cUVAs",
        "colab_type": "code",
        "colab": {}
      },
      "source": [
        "lr_data03 = venmoFinal.select(\"clustering_coefficient，\", \"pagerank\", \"friend\", \"friend_of_friend\", venmoFinal.topic_accu.alias(\"label\"))\n",
        "train03, test03 = lr_data03.randomSplit([0.7, 0.3], seed=23333)"
      ],
      "execution_count": 0,
      "outputs": []
    },
    {
      "cell_type": "code",
      "metadata": {
        "id": "Q0gHGKPHUW28",
        "colab_type": "code",
        "colab": {}
      },
      "source": [
        "assembler03 = VectorAssembler().setInputCols([\"clustering_coefficient，\", \"pagerank\", \"friend\", \"friend_of_friend\"]).setOutputCol(\"features\")\n",
        "train03 = assembler03.transform(train03)\n",
        "test03 = assembler03.transform(test03)\n",
        "lr_model03 = lr.fit(train03)"
      ],
      "execution_count": 0,
      "outputs": []
    },
    {
      "cell_type": "code",
      "metadata": {
        "id": "X5rQtYcQUW0h",
        "colab_type": "code",
        "colab": {}
      },
      "source": [
        "# training set result\n",
        "print(\"Coefficients: \" + str(lr_model03.coefficients))\n",
        "print(\"Intercept: \" + str(lr_model03.intercept))\n",
        "trainingSummary03 = lr_model03.summary\n",
        "print(\"RMSE: %f\" % trainingSummary03.rootMeanSquaredError)\n",
        "print(\"r2: %f\" % trainingSummary03.r2)"
      ],
      "execution_count": 0,
      "outputs": []
    },
    {
      "cell_type": "code",
      "metadata": {
        "id": "ZhpluMUIUWyE",
        "colab_type": "code",
        "colab": {}
      },
      "source": [
        "test_result03 = lr_model03.evaluate(test03)\n",
        "print(\"Mean Squared Error (MSE) on test data = %g\" % test_result03.meanSquaredError)"
      ],
      "execution_count": 0,
      "outputs": []
    },
    {
      "cell_type": "markdown",
      "metadata": {
        "id": "xqbU0pLqYKIb",
        "colab_type": "text"
      },
      "source": [
        "## Q12: For each user’s lifetime point, regress her social network metrics and the spending behavior of her social network on Y. Plot the MSE for each lifetime point like above. Does the spending behavior of her social network add any predictive benefit compared to Q10?"
      ]
    },
    {
      "cell_type": "code",
      "metadata": {
        "id": "_H_ZtUTVUWvv",
        "colab_type": "code",
        "colab": {}
      },
      "source": [
        "lr_data04 = venmoFinal.select(\"clustering_coefficient，\", \"pagerank\", \"friend\", \"friend_of_friend\", \"recency\", \"frequency\", \"Activity\", \"Cash\", \"Event\", \"Food\", \"Illegal/Sarcasm\", \"People\", \"Transportation\", \"Travel\", \"Utility\", \"no conclusion\", venmoFinal.topic_accu.alias(\"label\"))\n",
        "train04, test04 = lr_data04.randomSplit([0.7, 0.3], seed=23333)"
      ],
      "execution_count": 0,
      "outputs": []
    },
    {
      "cell_type": "code",
      "metadata": {
        "id": "GIxKTITyZTBD",
        "colab_type": "code",
        "colab": {}
      },
      "source": [
        "assembler04 = VectorAssembler().setInputCols([\"clustering_coefficient，\", \"pagerank\", \"friend\", \"friend_of_friend\", \"recency\", \"frequency\", \"Activity\", \"Cash\", \"Event\", \"Food\", \"Illegal/Sarcasm\", \"People\", \"Transportation\", \"Travel\", \"Utility\", \"no conclusion\"]).setOutputCol(\"features\")\n",
        "train04 = assembler04.transform(train04)\n",
        "test04 = assembler04.transform(test04)\n",
        "lr_model04 = lr.fit(train04)"
      ],
      "execution_count": 0,
      "outputs": []
    },
    {
      "cell_type": "code",
      "metadata": {
        "id": "33kUxUCqaBEK",
        "colab_type": "code",
        "colab": {}
      },
      "source": [
        "# training set result\n",
        "print(\"Coefficients: \" + str(lr_model04.coefficients))\n",
        "print(\"Intercept: \" + str(lr_model04.intercept))\n",
        "trainingSummary04 = lr_model04.summary\n",
        "print(\"RMSE: %f\" % trainingSummary04.rootMeanSquaredError)\n",
        "print(\"r2: %f\" % trainingSummary04.r2)"
      ],
      "execution_count": 0,
      "outputs": []
    },
    {
      "cell_type": "code",
      "metadata": {
        "id": "-bGFVT3oaBLm",
        "colab_type": "code",
        "colab": {}
      },
      "source": [
        "test_result04 = lr_model04.evaluate(test03)\n",
        "print(\"Mean Squared Error (MSE) on test data = %g\" % test_result04.meanSquaredError)"
      ],
      "execution_count": 0,
      "outputs": []
    },
    {
      "cell_type": "code",
      "metadata": {
        "id": "UdsvXYlGaBIh",
        "colab_type": "code",
        "colab": {}
      },
      "source": [
        ""
      ],
      "execution_count": 0,
      "outputs": []
    }
  ]
}
