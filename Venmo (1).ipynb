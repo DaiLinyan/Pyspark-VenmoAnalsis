{
  "nbformat": 4,
  "nbformat_minor": 0,
  "metadata": {
    "colab": {
      "name": "Venmo.ipynb",
      "provenance": [],
      "collapsed_sections": [],
      "toc_visible": true
    },
    "kernelspec": {
      "name": "python3",
      "display_name": "Python 3"
    }
  },
  "cells": [
    {
      "cell_type": "markdown",
      "metadata": {
        "id": "cNg4w7GxJ1QS",
        "colab_type": "text"
      },
      "source": [
        "## Install Environment"
      ]
    },
    {
      "cell_type": "code",
      "metadata": {
        "id": "l0VAUWIJJy9A",
        "colab_type": "code",
        "colab": {}
      },
      "source": [
        "!apt-get install openjdk-8-jdk-headless -qq > /dev/null\n",
        "!wget -q https://downloads.apache.org/spark/spark-2.4.5/spark-2.4.5-bin-hadoop2.7.tgz\n",
        "!tar xf spark-2.4.5-bin-hadoop2.7.tgz\n",
        "!pip install -q findspark"
      ],
      "execution_count": 0,
      "outputs": []
    },
    {
      "cell_type": "code",
      "metadata": {
        "id": "-osJ9QJUm5WY",
        "colab_type": "code",
        "outputId": "ecf264f6-a4ee-4481-8f00-7a1c55ea1bbf",
        "colab": {
          "base_uri": "https://localhost:8080/",
          "height": 71
        }
      },
      "source": [
        "!pip install pyspark"
      ],
      "execution_count": 0,
      "outputs": [
        {
          "output_type": "stream",
          "text": [
            "Requirement already satisfied: pyspark in /usr/local/lib/python3.6/dist-packages (2.4.5)\n",
            "Requirement already satisfied: py4j==0.10.7 in /usr/local/lib/python3.6/dist-packages (from pyspark) (0.10.7)\n"
          ],
          "name": "stdout"
        }
      ]
    },
    {
      "cell_type": "code",
      "metadata": {
        "id": "yHSrUwR09tJl",
        "colab_type": "code",
        "outputId": "b42bb0c9-877f-46a0-d805-4e3009bd095e",
        "colab": {
          "base_uri": "https://localhost:8080/",
          "height": 51
        }
      },
      "source": [
        "!ls '/usr/lib/jvm/'"
      ],
      "execution_count": 0,
      "outputs": [
        {
          "output_type": "stream",
          "text": [
            "default-java\t\t   java-11-openjdk-amd64     java-8-openjdk-amd64\n",
            "java-1.11.0-openjdk-amd64  java-1.8.0-openjdk-amd64\n"
          ],
          "name": "stdout"
        }
      ]
    },
    {
      "cell_type": "code",
      "metadata": {
        "id": "0Hs61bt8kmkh",
        "colab_type": "code",
        "outputId": "c8f4e5d1-cc4a-454a-c47c-ca3ec0c13698",
        "colab": {
          "base_uri": "https://localhost:8080/",
          "height": 54
        }
      },
      "source": [
        "from google.colab import drive\n",
        "drive.mount('/content/drive')"
      ],
      "execution_count": 0,
      "outputs": [
        {
          "output_type": "stream",
          "text": [
            "Drive already mounted at /content/drive; to attempt to forcibly remount, call drive.mount(\"/content/drive\", force_remount=True).\n"
          ],
          "name": "stdout"
        }
      ]
    },
    {
      "cell_type": "code",
      "metadata": {
        "id": "ftYk0Rh594Xl",
        "colab_type": "code",
        "outputId": "478a6c1f-9a3f-4e25-99f8-69be3414f693",
        "colab": {
          "base_uri": "https://localhost:8080/",
          "height": 280
        }
      },
      "source": [
        "!pip install -U pyarrow"
      ],
      "execution_count": 0,
      "outputs": [
        {
          "output_type": "stream",
          "text": [
            "Collecting pyarrow\n",
            "\u001b[?25l  Downloading https://files.pythonhosted.org/packages/ba/3f/6cac1714fff444664603f92cb9fbe91c7ae25375880158b9e9691c4584c8/pyarrow-0.17.1-cp36-cp36m-manylinux2014_x86_64.whl (63.8MB)\n",
            "\u001b[K     |████████████████████████████████| 63.8MB 63kB/s \n",
            "\u001b[?25hRequirement already satisfied, skipping upgrade: numpy>=1.14 in /usr/local/lib/python3.6/dist-packages (from pyarrow) (1.18.4)\n",
            "Installing collected packages: pyarrow\n",
            "  Found existing installation: pyarrow 0.14.1\n",
            "    Uninstalling pyarrow-0.14.1:\n",
            "      Successfully uninstalled pyarrow-0.14.1\n",
            "Successfully installed pyarrow-0.17.1\n"
          ],
          "name": "stdout"
        },
        {
          "output_type": "display_data",
          "data": {
            "application/vnd.colab-display-data+json": {
              "pip_warning": {
                "packages": [
                  "pyarrow"
                ]
              }
            }
          },
          "metadata": {
            "tags": []
          }
        }
      ]
    },
    {
      "cell_type": "code",
      "metadata": {
        "id": "gNgLvFqK-NkX",
        "colab_type": "code",
        "colab": {}
      },
      "source": [
        "import os\n",
        "os.environ['JAVA_HOME'] = '/usr/lib/jvm/java-8-openjdk-amd64'\n",
        "os.environ['SPARK_HOME'] = '/content/spark-2.4.5-bin-hadoop2.7'"
      ],
      "execution_count": 0,
      "outputs": []
    },
    {
      "cell_type": "markdown",
      "metadata": {
        "id": "i_WBPdkmJ7xV",
        "colab_type": "text"
      },
      "source": [
        "## Q0 : Your first task is to open your Venmo app, find 10 words that are not already in the dictionary and add them to it. Make sure you don’t add to the dictionary a duplicate word by hitting Control+F before adding your word."
      ]
    },
    {
      "cell_type": "markdown",
      "metadata": {
        "id": "O8TK_AOtKAtc",
        "colab_type": "text"
      },
      "source": [
        "**The word we add**\n",
        "\n",
        "---\n",
        "\n",
        "\n",
        "Course -> activity\n",
        "\n",
        "---\n",
        "\n",
        "\n",
        "Behalf -> people\n",
        "\n",
        "---\n",
        "\n",
        "Buy -> activity\n",
        "\n",
        "---\n",
        "\n",
        "\n",
        "Schnitzel -> food\n",
        "\n",
        "---\n",
        "\n",
        "\n",
        "Wok -> food\n",
        "\n",
        "---\n",
        "\n",
        "\n",
        "Postcard -> travel\n",
        "\n",
        "---\n",
        "\n",
        "\n",
        "Voyage -> travel\n",
        "\n",
        "---\n",
        "\n",
        "\n",
        "Reimbursement -> cash\n",
        "\n",
        "---\n",
        "\n",
        "\n",
        "Espresso -> food\n",
        "\n",
        "---\n",
        "\n",
        "\n",
        "Kroger -> food\n",
        "\n",
        "---\n",
        "\n"
      ]
    },
    {
      "cell_type": "markdown",
      "metadata": {
        "id": "orKBLmOUKfIC",
        "colab_type": "text"
      },
      "source": [
        "## Import packages"
      ]
    },
    {
      "cell_type": "code",
      "metadata": {
        "id": "rjACtsm4z5mZ",
        "colab_type": "code",
        "colab": {}
      },
      "source": [
        "from pyspark.sql.functions import udf, col,lower, regexp_replace, explode, count, split\n",
        "from pyspark.ml.feature import Tokenizer \n",
        "from nltk.stem.snowball import SnowballStemmer \n",
        "from nltk.tokenize.casual import TweetTokenizer \n",
        "import matplotlib.pyplot as plt\n",
        "import numpy as np\n",
        "from pyspark.ml.evaluation import RegressionEvaluator\n",
        "from pyspark.ml.regression import LinearRegression\n",
        "from pyspark.ml.tuning import ParamGridBuilder, TrainValidationSplit\n",
        "from pyspark.ml.feature import VectorAssembler"
      ],
      "execution_count": 0,
      "outputs": []
    },
    {
      "cell_type": "code",
      "metadata": {
        "id": "ERAXCIK8yUSi",
        "colab_type": "code",
        "colab": {}
      },
      "source": [
        "import findspark\n",
        "findspark.init()\n",
        "from pyspark.sql import SparkSession\n",
        "spark = SparkSession.builder.appName('VenmoAnalysis').getOrCreate()"
      ],
      "execution_count": 0,
      "outputs": []
    },
    {
      "cell_type": "markdown",
      "metadata": {
        "id": "gPszetNxKkhN",
        "colab_type": "text"
      },
      "source": [
        "## Data Preprocessing"
      ]
    },
    {
      "cell_type": "code",
      "metadata": {
        "id": "_7P5IxfRyW85",
        "colab_type": "code",
        "colab": {}
      },
      "source": [
        "word_dict = spark.read.csv('/content/drive/Shared drives/Lucky7/venmo/Venmo Word Classification Dictonary BAX-423 - Word_Dict.csv',inferSchema = True, header = True)\n",
        "word_dict =word_dict.toPandas().to_dict('list')"
      ],
      "execution_count": 0,
      "outputs": []
    },
    {
      "cell_type": "code",
      "metadata": {
        "id": "yZ6Al3km1Yjd",
        "colab_type": "code",
        "colab": {}
      },
      "source": [
        "dict_word = {}\n",
        "for topic,words in word_dict.items():\n",
        "  for word in words:\n",
        "    if word is None:\n",
        "      continue\n",
        "    else:\n",
        "      dict_word[word] = topic"
      ],
      "execution_count": 0,
      "outputs": []
    },
    {
      "cell_type": "code",
      "metadata": {
        "id": "6iJWlIlk0Msu",
        "colab_type": "code",
        "colab": {}
      },
      "source": [
        "emoji_dict = spark.read.csv('/content/drive/Shared drives/Lucky7/venmo/Venmo_Emoji_Classification_Dictionary.csv',inferSchema = True, header = True)"
      ],
      "execution_count": 0,
      "outputs": []
    },
    {
      "cell_type": "code",
      "metadata": {
        "id": "eK2-wrft0xvR",
        "colab_type": "code",
        "outputId": "c80674b7-8ed2-4092-ac48-60506dde21f4",
        "colab": {
          "base_uri": "https://localhost:8080/",
          "height": 54
        }
      },
      "source": [
        "emoji_dict.head()"
      ],
      "execution_count": 0,
      "outputs": [
        {
          "output_type": "execute_result",
          "data": {
            "text/plain": [
              "Row(Event='🇦🇺', Travel='🏔', Food='🍇', Activity='👾', Transportation='🚄', People='😀', Utility='⚡')"
            ]
          },
          "metadata": {
            "tags": []
          },
          "execution_count": 7
        }
      ]
    },
    {
      "cell_type": "code",
      "metadata": {
        "id": "v3Cm0Noq_OBo",
        "colab_type": "code",
        "colab": {}
      },
      "source": [
        "emoji_dict = emoji_dict.toPandas().to_dict('list')\n",
        "dict_emoji = {}\n",
        "for topic,emojis in emoji_dict.items():\n",
        "  for emoji in emojis:\n",
        "    if emoji is None:\n",
        "      continue\n",
        "    else:\n",
        "      dict_emoji[emoji] = topic"
      ],
      "execution_count": 0,
      "outputs": []
    },
    {
      "cell_type": "code",
      "metadata": {
        "id": "-C4zr8xs_l-o",
        "colab_type": "code",
        "colab": {}
      },
      "source": [
        "dict_emoji"
      ],
      "execution_count": 0,
      "outputs": []
    },
    {
      "cell_type": "code",
      "metadata": {
        "id": "WabvOhGD05bU",
        "colab_type": "code",
        "colab": {}
      },
      "source": [
        "sc = spark.sparkContext\n",
        "\n",
        "# using SQLContext to read parquet file\n",
        "from pyspark.sql import SQLContext\n",
        "sqlContext = SQLContext(sc)\n",
        "\n",
        "# to read parquet file\n",
        "venmo = sqlContext.read.parquet('/content/drive/Shared drives/Lucky7/venmo/VenmoSample.snappy.parquet')"
      ],
      "execution_count": 0,
      "outputs": []
    },
    {
      "cell_type": "code",
      "metadata": {
        "id": "HnA9gU0b1Z_o",
        "colab_type": "code",
        "outputId": "98641de1-1231-44dc-c69e-f27b08f67c86",
        "colab": {
          "base_uri": "https://localhost:8080/",
          "height": 309
        }
      },
      "source": [
        "venmo.show(10)"
      ],
      "execution_count": 0,
      "outputs": [
        {
          "output_type": "stream",
          "text": [
            "+-------+-------+----------------+-------------------+---------------+-----------+--------------------+\n",
            "|  user1|  user2|transaction_type|           datetime|    description|is_business|            story_id|\n",
            "+-------+-------+----------------+-------------------+---------------+-----------+--------------------+\n",
            "|1218774|1528945|         payment|2015-11-27 10:48:19|           Uber|      false|5657c473cd03c9af2...|\n",
            "|5109483|4782303|         payment|2015-06-17 11:37:04|         Costco|      false|5580f9702b64f70ab...|\n",
            "|4322148|3392963|         payment|2015-06-19 07:05:31|   Sweaty balls|      false|55835ccb1a624b14a...|\n",
            "| 469894|1333620|          charge|2016-06-03 23:34:13|             🎥|      false|5751b185cd03c9af2...|\n",
            "|2960727|3442373|         payment|2016-05-29 23:23:42|              ⚡|      false|574b178ecd03c9af2...|\n",
            "|3977544|2709470|         payment|2016-09-29 22:12:07|     Chipotlaid|      false|57ed2f4723e064eac...|\n",
            "|3766386|4209061|         payment|2016-05-20 10:31:15|kitchen counter|      false|573e8503cd03c9af2...|\n",
            "| 730075| 804466|         payment|2016-05-26 04:46:45|           Food|      false|57461d46cd03c9af2...|\n",
            "|5221751|4993533|         payment|2016-07-14 22:53:49|          Zaxby|      false|5787b58d23e064eac...|\n",
            "|6843582|7308338|         payment|2016-08-31 10:32:46|      Fan sucks|      false|57c64fdf23e064eac...|\n",
            "+-------+-------+----------------+-------------------+---------------+-----------+--------------------+\n",
            "only showing top 10 rows\n",
            "\n"
          ],
          "name": "stdout"
        }
      ]
    },
    {
      "cell_type": "markdown",
      "metadata": {
        "id": "p9ORVtKyqp4t",
        "colab_type": "text"
      },
      "source": [
        "## Get the column of user who make the transaction"
      ]
    },
    {
      "cell_type": "code",
      "metadata": {
        "id": "VG39QdoxnHZe",
        "colab_type": "code",
        "colab": {}
      },
      "source": [
        "def exchange(x,y,z):\n",
        "  if x == 'charge':\n",
        "    return z\n",
        "  else:\n",
        "    return y"
      ],
      "execution_count": 0,
      "outputs": []
    },
    {
      "cell_type": "code",
      "metadata": {
        "id": "AsxJdGRv7f4E",
        "colab_type": "code",
        "colab": {}
      },
      "source": [
        "def exchange2(x,y,z):\n",
        "  if x == 'charge':\n",
        "    return y\n",
        "  else:\n",
        "    return z"
      ],
      "execution_count": 0,
      "outputs": []
    },
    {
      "cell_type": "code",
      "metadata": {
        "id": "esJqlNq5pPfx",
        "colab_type": "code",
        "colab": {}
      },
      "source": [
        "import pyspark.sql.functions as F\n",
        "udf_exchange = F.udf(exchange)\n",
        "udf_exchange2 = F.udf(exchange2)\n",
        "venmo = venmo.withColumn('user_1',udf_exchange(venmo.transaction_type,venmo.user1,venmo.user2))\n",
        "venmo = venmo.withColumn('user_2',udf_exchange2(venmo.transaction_type,venmo.user1,venmo.user2))"
      ],
      "execution_count": 0,
      "outputs": []
    },
    {
      "cell_type": "code",
      "metadata": {
        "id": "voZoXAtcqiWu",
        "colab_type": "code",
        "outputId": "2b024830-df6b-44cc-cf18-1275f37a7df8",
        "colab": {
          "base_uri": "https://localhost:8080/",
          "height": 309
        }
      },
      "source": [
        "venmo.show(10)"
      ],
      "execution_count": 0,
      "outputs": [
        {
          "output_type": "stream",
          "text": [
            "+-------+-------+----------------+-------------------+---------------+-----------+--------------------+-------+-------+\n",
            "|  user1|  user2|transaction_type|           datetime|    description|is_business|            story_id| user_1| user_2|\n",
            "+-------+-------+----------------+-------------------+---------------+-----------+--------------------+-------+-------+\n",
            "|1218774|1528945|         payment|2015-11-27 10:48:19|           Uber|      false|5657c473cd03c9af2...|1218774|1528945|\n",
            "|5109483|4782303|         payment|2015-06-17 11:37:04|         Costco|      false|5580f9702b64f70ab...|5109483|4782303|\n",
            "|4322148|3392963|         payment|2015-06-19 07:05:31|   Sweaty balls|      false|55835ccb1a624b14a...|4322148|3392963|\n",
            "| 469894|1333620|          charge|2016-06-03 23:34:13|             🎥|      false|5751b185cd03c9af2...|1333620| 469894|\n",
            "|2960727|3442373|         payment|2016-05-29 23:23:42|              ⚡|      false|574b178ecd03c9af2...|2960727|3442373|\n",
            "|3977544|2709470|         payment|2016-09-29 22:12:07|     Chipotlaid|      false|57ed2f4723e064eac...|3977544|2709470|\n",
            "|3766386|4209061|         payment|2016-05-20 10:31:15|kitchen counter|      false|573e8503cd03c9af2...|3766386|4209061|\n",
            "| 730075| 804466|         payment|2016-05-26 04:46:45|           Food|      false|57461d46cd03c9af2...| 730075| 804466|\n",
            "|5221751|4993533|         payment|2016-07-14 22:53:49|          Zaxby|      false|5787b58d23e064eac...|5221751|4993533|\n",
            "|6843582|7308338|         payment|2016-08-31 10:32:46|      Fan sucks|      false|57c64fdf23e064eac...|6843582|7308338|\n",
            "+-------+-------+----------------+-------------------+---------------+-----------+--------------------+-------+-------+\n",
            "only showing top 10 rows\n",
            "\n"
          ],
          "name": "stdout"
        }
      ]
    },
    {
      "cell_type": "markdown",
      "metadata": {
        "id": "qR7K3cdBUII9",
        "colab_type": "text"
      },
      "source": [
        "##Q1: Use the text dictionary and the emoji dictionary to classify Venmo's transactions in your sample dataset."
      ]
    },
    {
      "cell_type": "code",
      "metadata": {
        "id": "hQOBaey33_I_",
        "colab_type": "code",
        "outputId": "09ec27a9-3b57-4f65-9a00-a9e918a3cf90",
        "colab": {
          "base_uri": "https://localhost:8080/",
          "height": 479
        }
      },
      "source": [
        "# clean texts\n",
        "def clean_text(column): \n",
        "    column = lower(column)\n",
        "    column = regexp_replace(column, \"'ve\", \" have\") \n",
        "    column = regexp_replace(column, \"'m\", \" am\") \n",
        "    column = regexp_replace(column, \"'d\", \" would\") \n",
        "    column = regexp_replace(column, \"'s\", \" is\") \n",
        "    column = regexp_replace(column, \"can't\", \" can not\") \n",
        "    column = regexp_replace(column, \"n't\", \" not\") \n",
        "    column = regexp_replace(column, \"'re\", \" are\") \n",
        "    column = regexp_replace(column, u\"[\\'\\\"/|\\?=!#&;]\", \"\") \n",
        "    return column \n",
        " \n",
        "venmo = venmo.select(\"story_id\", \"user_1\",\"user_2\", \"datetime\",clean_text(venmo.description).alias('description')) \n",
        "venmo.show(20, False) "
      ],
      "execution_count": 0,
      "outputs": [
        {
          "output_type": "stream",
          "text": [
            "+------------------------+--------+-------+-------------------+----------------------------------------------------------------------------------------------------------------------------------------------------------------------------------------------------------------------------------------------------------------------------------------------------+\n",
            "|story_id                |user_1  |user_2 |datetime           |description                                                                                                                                                                                                                                                                                         |\n",
            "+------------------------+--------+-------+-------------------+----------------------------------------------------------------------------------------------------------------------------------------------------------------------------------------------------------------------------------------------------------------------------------------------------+\n",
            "|5657c473cd03c9af22cff874|1218774 |1528945|2015-11-27 10:48:19|uber                                                                                                                                                                                                                                                                                                |\n",
            "|5580f9702b64f70ab0114e94|5109483 |4782303|2015-06-17 11:37:04|costco                                                                                                                                                                                                                                                                                              |\n",
            "|55835ccb1a624b14ac62cef4|4322148 |3392963|2015-06-19 07:05:31|sweaty balls                                                                                                                                                                                                                                                                                        |\n",
            "|5751b185cd03c9af224c0d17|1333620 |469894 |2016-06-03 23:34:13|🎥                                                                                                                                                                                                                                                                                                  |\n",
            "|574b178ecd03c9af22cf67f4|2960727 |3442373|2016-05-29 23:23:42|⚡                                                                                                                                                                                                                                                                                                   |\n",
            "|57ed2f4723e064eac0879304|3977544 |2709470|2016-09-29 22:12:07|chipotlaid                                                                                                                                                                                                                                                                                          |\n",
            "|573e8503cd03c9af2200360e|3766386 |4209061|2016-05-20 10:31:15|kitchen counter                                                                                                                                                                                                                                                                                     |\n",
            "|57461d46cd03c9af227dade4|730075  |804466 |2016-05-26 04:46:45|food                                                                                                                                                                                                                                                                                                |\n",
            "|5787b58d23e064eac0126cfa|5221751 |4993533|2016-07-14 22:53:49|zaxby                                                                                                                                                                                                                                                                                               |\n",
            "|57c64fdf23e064eac0e88f69|6843582 |7308338|2016-08-31 10:32:46|fan sucks                                                                                                                                                                                                                                                                                           |\n",
            "|5689c6bdcd03c9af224a8cbc|5317324 |3942984|2016-01-04 09:11:25|👠                                                                                                                                                                                                                                                                                                  |\n",
            "|5616bbc0cd03c9af22ab332f|1134661 |1556430|2015-10-09 01:53:52|thanks babe                                                                                                                                                                                                                                                                                         |\n",
            "|561080a1cd03c9af226311e2|4238868 |4879587|2015-10-04 08:28:01|🍺                                                                                                                                                                                                                                                                                                  |\n",
            "|577e69e723e064eac070091a|11719500|8702716|2016-07-07 21:40:39|⛽                                                                                                                                                                                                                                                                                                   |\n",
            "|58032fad23e064eac0b897f4|3625798 |5692302|2016-10-16 14:43:41|hey man  it is been a long time since i have last seen you. regardless  time spent with you and the boys is time well spent. i would not trade it for anyone else  and for that i can never repay you. anyways  enjoy this dollar you slimy fuck  i would not want to waste my pennies any other way|\n",
            "|572d2bd9cd03c9af22d0be94|3045405 |613908 |2016-05-07 06:42:17|getaway car                                                                                                                                                                                                                                                                                         |\n",
            "|56cd03e4cd03c9af225aabfe|4682257 |1870271|2016-02-24 09:14:12|🔮 gypsy things                                                                                                                                                                                                                                                                                     |\n",
            "|570866c2cd03c9af223706e1|9414481 |2869012|2016-04-09 09:19:46|🔴                                                                                                                                                                                                                                                                                                  |\n",
            "|5557cc0407f81c33ec77d16f|241386  |2580543|2015-05-17 06:00:19|furniture                                                                                                                                                                                                                                                                                           |\n",
            "|52ac6e93d56b6bac5c6a8ec2|656214  |656477 |2013-12-14 22:43:27|bed bath mostly beyond                                                                                                                                                                                                                                                                              |\n",
            "+------------------------+--------+-------+-------------------+----------------------------------------------------------------------------------------------------------------------------------------------------------------------------------------------------------------------------------------------------------------------------------------------------+\n",
            "only showing top 20 rows\n",
            "\n"
          ],
          "name": "stdout"
        }
      ]
    },
    {
      "cell_type": "code",
      "metadata": {
        "id": "WECU_aH054JA",
        "colab_type": "code",
        "colab": {}
      },
      "source": [
        "t = TweetTokenizer()"
      ],
      "execution_count": 0,
      "outputs": []
    },
    {
      "cell_type": "code",
      "metadata": {
        "id": "OC9_9y6IPSAq",
        "colab_type": "code",
        "colab": {}
      },
      "source": [
        "# classify transaction, split every word in each description and use the first one that match\n",
        "def mapping(description):\n",
        "  for i in t.tokenize(description):\n",
        "    if i.lower() in dict_word.keys():\n",
        "      return dict_word[i.lower()]\n",
        "    elif i in dict_emoji.keys():\n",
        "      return dict_emoji[i]\n",
        "    else:\n",
        "      continue\n",
        "  return 'no conclusion'"
      ],
      "execution_count": 0,
      "outputs": []
    },
    {
      "cell_type": "code",
      "metadata": {
        "id": "j1I3IQPuQPDj",
        "colab_type": "code",
        "colab": {}
      },
      "source": [
        "udf_mapping = F.udf(mapping)\n",
        "venmo = venmo.withColumn('Classification',udf_mapping(venmo.description))"
      ],
      "execution_count": 0,
      "outputs": []
    },
    {
      "cell_type": "code",
      "metadata": {
        "id": "YdL1rrtLQyCz",
        "colab_type": "code",
        "outputId": "680cc72d-ecde-4370-a635-397b4963d837",
        "colab": {
          "base_uri": "https://localhost:8080/",
          "height": 459
        }
      },
      "source": [
        "venmo.show(20)"
      ],
      "execution_count": 0,
      "outputs": [
        {
          "output_type": "stream",
          "text": [
            "+--------------------+--------+-------+-------------------+--------------------+---------------+\n",
            "|            story_id|  user_1| user_2|           datetime|         description| Classification|\n",
            "+--------------------+--------+-------+-------------------+--------------------+---------------+\n",
            "|5657c473cd03c9af2...| 1218774|1528945|2015-11-27 10:48:19|                uber| Transportation|\n",
            "|5580f9702b64f70ab...| 5109483|4782303|2015-06-17 11:37:04|              costco|           Food|\n",
            "|55835ccb1a624b14a...| 4322148|3392963|2015-06-19 07:05:31|        sweaty balls|Illegal/Sarcasm|\n",
            "|5751b185cd03c9af2...| 1333620| 469894|2016-06-03 23:34:13|                  🎥|          Event|\n",
            "|574b178ecd03c9af2...| 2960727|3442373|2016-05-29 23:23:42|                   ⚡|        Utility|\n",
            "|57ed2f4723e064eac...| 3977544|2709470|2016-09-29 22:12:07|          chipotlaid|  no conclusion|\n",
            "|573e8503cd03c9af2...| 3766386|4209061|2016-05-20 10:31:15|     kitchen counter|        Utility|\n",
            "|57461d46cd03c9af2...|  730075| 804466|2016-05-26 04:46:45|                food|           Food|\n",
            "|5787b58d23e064eac...| 5221751|4993533|2016-07-14 22:53:49|               zaxby|  no conclusion|\n",
            "|57c64fdf23e064eac...| 6843582|7308338|2016-08-31 10:32:46|           fan sucks|  no conclusion|\n",
            "|5689c6bdcd03c9af2...| 5317324|3942984|2016-01-04 09:11:25|                  👠|  no conclusion|\n",
            "|5616bbc0cd03c9af2...| 1134661|1556430|2015-10-09 01:53:52|         thanks babe|         People|\n",
            "|561080a1cd03c9af2...| 4238868|4879587|2015-10-04 08:28:01|                  🍺|           Food|\n",
            "|577e69e723e064eac...|11719500|8702716|2016-07-07 21:40:39|                   ⛽| Transportation|\n",
            "|58032fad23e064eac...| 3625798|5692302|2016-10-16 14:43:41|hey man  it is be...|           Cash|\n",
            "|572d2bd9cd03c9af2...| 3045405| 613908|2016-05-07 06:42:17|         getaway car| Transportation|\n",
            "|56cd03e4cd03c9af2...| 4682257|1870271|2016-02-24 09:14:12|     🔮 gypsy things|  no conclusion|\n",
            "|570866c2cd03c9af2...| 9414481|2869012|2016-04-09 09:19:46|                  🔴|  no conclusion|\n",
            "|5557cc0407f81c33e...|  241386|2580543|2015-05-17 06:00:19|           furniture|        Utility|\n",
            "|52ac6e93d56b6bac5...|  656214| 656477|2013-12-14 22:43:27|bed bath mostly b...|        Utility|\n",
            "+--------------------+--------+-------+-------------------+--------------------+---------------+\n",
            "only showing top 20 rows\n",
            "\n"
          ],
          "name": "stdout"
        }
      ]
    },
    {
      "cell_type": "markdown",
      "metadata": {
        "id": "Mvv7NM5vVR1J",
        "colab_type": "text"
      },
      "source": [
        "## Q2 : What is the percent of emoji only transactions? Which are the top 5 most popular emoji? Which are the top three most popular emoji categories?"
      ]
    },
    {
      "cell_type": "code",
      "metadata": {
        "id": "2Wl2WpcC2Itr",
        "colab_type": "code",
        "outputId": "7dd76d22-534c-4838-d895-2bb865459436",
        "colab": {
          "base_uri": "https://localhost:8080/",
          "height": 207
        }
      },
      "source": [
        "!pip install emoji"
      ],
      "execution_count": 0,
      "outputs": [
        {
          "output_type": "stream",
          "text": [
            "Collecting emoji\n",
            "\u001b[?25l  Downloading https://files.pythonhosted.org/packages/40/8d/521be7f0091fe0f2ae690cc044faf43e3445e0ff33c574eae752dd7e39fa/emoji-0.5.4.tar.gz (43kB)\n",
            "\r\u001b[K     |███████▌                        | 10kB 12.6MB/s eta 0:00:01\r\u001b[K     |███████████████                 | 20kB 3.5MB/s eta 0:00:01\r\u001b[K     |██████████████████████▋         | 30kB 5.0MB/s eta 0:00:01\r\u001b[K     |██████████████████████████████▏ | 40kB 6.4MB/s eta 0:00:01\r\u001b[K     |████████████████████████████████| 51kB 2.6MB/s \n",
            "\u001b[?25hBuilding wheels for collected packages: emoji\n",
            "  Building wheel for emoji (setup.py) ... \u001b[?25l\u001b[?25hdone\n",
            "  Created wheel for emoji: filename=emoji-0.5.4-cp36-none-any.whl size=42176 sha256=c88233e51b941a66ad859aa1c068cdb196207a8979bce0e599a30023ad109668\n",
            "  Stored in directory: /root/.cache/pip/wheels/2a/a9/0a/4f8e8cce8074232aba240caca3fade315bb49fac68808d1a9c\n",
            "Successfully built emoji\n",
            "Installing collected packages: emoji\n",
            "Successfully installed emoji-0.5.4\n"
          ],
          "name": "stdout"
        }
      ]
    },
    {
      "cell_type": "code",
      "metadata": {
        "id": "YRxjhPVd1NJx",
        "colab_type": "code",
        "colab": {}
      },
      "source": [
        "import emoji\n",
        "def only_emoji(s):\n",
        "  for i in t.tokenize(s):\n",
        "    if i not in emoji.UNICODE_EMOJI:\n",
        "      return 0\n",
        "    else:\n",
        "      continue\n",
        "  return 1"
      ],
      "execution_count": 0,
      "outputs": []
    },
    {
      "cell_type": "code",
      "metadata": {
        "id": "zjuSaNP3eCQC",
        "colab_type": "code",
        "colab": {}
      },
      "source": [
        "from pyspark.sql.types import IntegerType\n",
        "udf_emoji = F.udf(only_emoji,IntegerType())\n",
        "venmo = venmo.withColumn('only_emoji',udf_emoji(venmo.description))"
      ],
      "execution_count": 0,
      "outputs": []
    },
    {
      "cell_type": "code",
      "metadata": {
        "id": "h3bhACOkfF2v",
        "colab_type": "code",
        "outputId": "be12aeb3-2f4e-4061-86c4-bf4cbd76c952",
        "colab": {
          "base_uri": "https://localhost:8080/",
          "height": 479
        }
      },
      "source": [
        "venmo.show()"
      ],
      "execution_count": 0,
      "outputs": [
        {
          "output_type": "stream",
          "text": [
            "+--------------------+--------+-------+-------------------+--------------------+---------------+----------+\n",
            "|            story_id|  user_1| user_2|           datetime|         description| Classification|only_emoji|\n",
            "+--------------------+--------+-------+-------------------+--------------------+---------------+----------+\n",
            "|5657c473cd03c9af2...| 1218774|1528945|2015-11-27 10:48:19|                uber| Transportation|         0|\n",
            "|5580f9702b64f70ab...| 5109483|4782303|2015-06-17 11:37:04|              costco|           Food|         0|\n",
            "|55835ccb1a624b14a...| 4322148|3392963|2015-06-19 07:05:31|        sweaty balls|Illegal/Sarcasm|         0|\n",
            "|5751b185cd03c9af2...| 1333620| 469894|2016-06-03 23:34:13|                  🎥|          Event|         1|\n",
            "|574b178ecd03c9af2...| 2960727|3442373|2016-05-29 23:23:42|                   ⚡|        Utility|         1|\n",
            "|57ed2f4723e064eac...| 3977544|2709470|2016-09-29 22:12:07|          chipotlaid|  no conclusion|         0|\n",
            "|573e8503cd03c9af2...| 3766386|4209061|2016-05-20 10:31:15|     kitchen counter|        Utility|         0|\n",
            "|57461d46cd03c9af2...|  730075| 804466|2016-05-26 04:46:45|                food|           Food|         0|\n",
            "|5787b58d23e064eac...| 5221751|4993533|2016-07-14 22:53:49|               zaxby|  no conclusion|         0|\n",
            "|57c64fdf23e064eac...| 6843582|7308338|2016-08-31 10:32:46|           fan sucks|  no conclusion|         0|\n",
            "|5689c6bdcd03c9af2...| 5317324|3942984|2016-01-04 09:11:25|                  👠|  no conclusion|         1|\n",
            "|5616bbc0cd03c9af2...| 1134661|1556430|2015-10-09 01:53:52|         thanks babe|         People|         0|\n",
            "|561080a1cd03c9af2...| 4238868|4879587|2015-10-04 08:28:01|                  🍺|           Food|         1|\n",
            "|577e69e723e064eac...|11719500|8702716|2016-07-07 21:40:39|                   ⛽| Transportation|         1|\n",
            "|58032fad23e064eac...| 3625798|5692302|2016-10-16 14:43:41|hey man  it is be...|           Cash|         0|\n",
            "|572d2bd9cd03c9af2...| 3045405| 613908|2016-05-07 06:42:17|         getaway car| Transportation|         0|\n",
            "|56cd03e4cd03c9af2...| 4682257|1870271|2016-02-24 09:14:12|     🔮 gypsy things|  no conclusion|         0|\n",
            "|570866c2cd03c9af2...| 9414481|2869012|2016-04-09 09:19:46|                  🔴|  no conclusion|         1|\n",
            "|5557cc0407f81c33e...|  241386|2580543|2015-05-17 06:00:19|           furniture|        Utility|         0|\n",
            "|52ac6e93d56b6bac5...|  656214| 656477|2013-12-14 22:43:27|bed bath mostly b...|        Utility|         0|\n",
            "+--------------------+--------+-------+-------------------+--------------------+---------------+----------+\n",
            "only showing top 20 rows\n",
            "\n"
          ],
          "name": "stdout"
        }
      ]
    },
    {
      "cell_type": "code",
      "metadata": {
        "id": "zViLRC2kZVrc",
        "colab_type": "code",
        "colab": {}
      },
      "source": [
        "venmo.select('description').show()"
      ],
      "execution_count": 0,
      "outputs": []
    },
    {
      "cell_type": "code",
      "metadata": {
        "id": "xA7Zn2yyfU8_",
        "colab_type": "code",
        "outputId": "c7615119-8ed4-4bba-d8f1-e57a37d0450b",
        "colab": {
          "base_uri": "https://localhost:8080/",
          "height": 34
        }
      },
      "source": [
        "# counting the percent of emoji only transactions\n",
        "emoji_count = venmo.groupby('only_emoji').sum().collect()[0][1]\n",
        "emoji_percentage = emoji_count/venmo.count()\n",
        "emoji_percentage"
      ],
      "execution_count": 0,
      "outputs": [
        {
          "output_type": "execute_result",
          "data": {
            "text/plain": [
              "0.24025869317573947"
            ]
          },
          "metadata": {
            "tags": []
          },
          "execution_count": 25
        }
      ]
    },
    {
      "cell_type": "code",
      "metadata": {
        "id": "MneFGTK5P8o1",
        "colab_type": "code",
        "outputId": "5b0d630f-6618-416b-c618-45a3d2dc7035",
        "colab": {
          "base_uri": "https://localhost:8080/",
          "height": 289
        }
      },
      "source": [
        "venmo[venmo.only_emoji==1].show(n=10)"
      ],
      "execution_count": 0,
      "outputs": [
        {
          "output_type": "stream",
          "text": [
            "+--------------------+--------+-------+-------------------+-----------+--------------+----------+\n",
            "|            story_id|  user_1| user_2|           datetime|description|Classification|only_emoji|\n",
            "+--------------------+--------+-------+-------------------+-----------+--------------+----------+\n",
            "|5751b185cd03c9af2...| 1333620| 469894|2016-06-03 23:34:13|         🎥|         Event|         1|\n",
            "|574b178ecd03c9af2...| 2960727|3442373|2016-05-29 23:23:42|          ⚡|       Utility|         1|\n",
            "|5689c6bdcd03c9af2...| 5317324|3942984|2016-01-04 09:11:25|         👠| no conclusion|         1|\n",
            "|561080a1cd03c9af2...| 4238868|4879587|2015-10-04 08:28:01|         🍺|          Food|         1|\n",
            "|577e69e723e064eac...|11719500|8702716|2016-07-07 21:40:39|          ⛽|Transportation|         1|\n",
            "|570866c2cd03c9af2...| 9414481|2869012|2016-04-09 09:19:46|         🔴| no conclusion|         1|\n",
            "|528e752fd56b6bac5...|  444145| 323088|2013-11-22 05:03:43|       ✌❤🏈|        People|         1|\n",
            "|5574690d5d6cc8135...|  270958|2086141|2015-06-07 22:53:49|       👰👰|         Event|         1|\n",
            "|56803e8dcd03c9af2...| 1243615|1120425|2015-12-28 03:39:57|     🍕🍕🍕|          Food|         1|\n",
            "|5577a133ca81793e3...| 2743865|2896157|2015-06-10 09:30:11|         🍕|          Food|         1|\n",
            "+--------------------+--------+-------+-------------------+-----------+--------------+----------+\n",
            "only showing top 10 rows\n",
            "\n"
          ],
          "name": "stdout"
        }
      ]
    },
    {
      "cell_type": "markdown",
      "metadata": {
        "id": "aDkPe8Fdftgt",
        "colab_type": "text"
      },
      "source": [
        "### Which are the top 5 most popular emoji?"
      ]
    },
    {
      "cell_type": "code",
      "metadata": {
        "id": "LRjJDidsyVIO",
        "colab_type": "code",
        "outputId": "2e19be01-aa81-43d5-dab1-cf93102d4fa8",
        "colab": {
          "base_uri": "https://localhost:8080/",
          "height": 289
        }
      },
      "source": [
        "# top 5 most popular emoji \n",
        "# strip characters \n",
        "def remove_text(column): \n",
        "    column = lower(column) \n",
        "    column = regexp_replace(column, u\"[ -.+a-zA-Z0-9]\", \"\") \n",
        "    column = regexp_replace(column, u\"[\\'\\\"/|\\?=!]\", \"\") \n",
        "    return column \n",
        " \n",
        "emojiOnly = venmo.select(remove_text(col('description')).alias('description')) \n",
        "emojiOnly.show(10, False) "
      ],
      "execution_count": 0,
      "outputs": [
        {
          "output_type": "stream",
          "text": [
            "+-----------+\n",
            "|description|\n",
            "+-----------+\n",
            "|           |\n",
            "|           |\n",
            "|           |\n",
            "|🎥         |\n",
            "|⚡          |\n",
            "|           |\n",
            "|           |\n",
            "|           |\n",
            "|           |\n",
            "|           |\n",
            "+-----------+\n",
            "only showing top 10 rows\n",
            "\n"
          ],
          "name": "stdout"
        }
      ]
    },
    {
      "cell_type": "code",
      "metadata": {
        "id": "FpbDJHJHzrau",
        "colab_type": "code",
        "colab": {}
      },
      "source": [
        "from pyspark.sql.types import StringType,ArrayType"
      ],
      "execution_count": 0,
      "outputs": []
    },
    {
      "cell_type": "code",
      "metadata": {
        "id": "QF5FK55xzHPQ",
        "colab_type": "code",
        "outputId": "fe3343c4-7916-4fb9-e196-997a85dd50bf",
        "colab": {
          "base_uri": "https://localhost:8080/",
          "height": 969
        }
      },
      "source": [
        "# tokenize each emoji \n",
        "def separate_emoji(text): \n",
        "    return t.tokenize(text) \n",
        " \n",
        "myfunc = udf(separate_emoji, ArrayType(StringType())) \n",
        "tokenizedEmoji = emojiOnly.withColumn(\"description\", myfunc(\"description\"))\n",
        "tokenizedEmoji.show(50)"
      ],
      "execution_count": 0,
      "outputs": [
        {
          "output_type": "stream",
          "text": [
            "+------------+\n",
            "| description|\n",
            "+------------+\n",
            "|          []|\n",
            "|          []|\n",
            "|          []|\n",
            "|        [🎥]|\n",
            "|         [⚡]|\n",
            "|          []|\n",
            "|          []|\n",
            "|          []|\n",
            "|          []|\n",
            "|          []|\n",
            "|        [👠]|\n",
            "|          []|\n",
            "|        [🍺]|\n",
            "|         [⛽]|\n",
            "|          []|\n",
            "|          []|\n",
            "|        [🔮]|\n",
            "|        [🔴]|\n",
            "|          []|\n",
            "|          []|\n",
            "|          []|\n",
            "|          []|\n",
            "|          []|\n",
            "|          []|\n",
            "|          []|\n",
            "|          []|\n",
            "|          []|\n",
            "|          []|\n",
            "|          []|\n",
            "|          []|\n",
            "|      [휴지]|\n",
            "|          []|\n",
            "|          []|\n",
            "|          []|\n",
            "|          []|\n",
            "|          []|\n",
            "|          []|\n",
            "|          []|\n",
            "|          []|\n",
            "|          []|\n",
            "|          []|\n",
            "|          []|\n",
            "|          []|\n",
            "|[💁, 🏻, 🍕]|\n",
            "|          []|\n",
            "|[🎉, 💞, 🎉]|\n",
            "|          []|\n",
            "|          []|\n",
            "|  [✌, ❤, 🏈]|\n",
            "|          []|\n",
            "+------------+\n",
            "only showing top 50 rows\n",
            "\n"
          ],
          "name": "stdout"
        }
      ]
    },
    {
      "cell_type": "code",
      "metadata": {
        "id": "dRO-SQaM4kax",
        "colab_type": "code",
        "outputId": "e77e6244-0a7f-484d-af94-b0160b49245c",
        "colab": {
          "base_uri": "https://localhost:8080/",
          "height": 34
        }
      },
      "source": [
        "tokenizedEmoji.printSchema"
      ],
      "execution_count": 0,
      "outputs": [
        {
          "output_type": "execute_result",
          "data": {
            "text/plain": [
              "<bound method DataFrame.printSchema of DataFrame[description: array<string>]>"
            ]
          },
          "metadata": {
            "tags": []
          },
          "execution_count": 63
        }
      ]
    },
    {
      "cell_type": "code",
      "metadata": {
        "id": "pnTY112qfvT1",
        "colab_type": "code",
        "outputId": "bfb96cdd-c648-4839-a56a-5c38990c7556",
        "colab": {
          "base_uri": "https://localhost:8080/",
          "height": 459
        }
      },
      "source": [
        "tokenizedEmoji\\\n",
        "    .select(explode(\"description\")\\\n",
        "    .alias(\"emojis\"))\\\n",
        "    .na.drop()\\\n",
        "    .groupBy(\"emojis\")\\\n",
        "    .count()\\\n",
        "    .sort(\"count\", ascending=False)\\\n",
        "    .show() "
      ],
      "execution_count": 0,
      "outputs": [
        {
          "output_type": "stream",
          "text": [
            "+------+------+\n",
            "|emojis| count|\n",
            "+------+------+\n",
            "|     ️|324701|\n",
            "|    🍕|152565|\n",
            "|    🍻|131386|\n",
            "|    💸|122138|\n",
            "|    🍷| 96442|\n",
            "|    🎉| 90742|\n",
            "|    🏼| 88978|\n",
            "|    🏻| 82656|\n",
            "|    🍺| 76615|\n",
            "|    🏠| 65178|\n",
            "|     ❤| 63457|\n",
            "|    🍾| 59219|\n",
            "|    🍹| 58875|\n",
            "|    🍴| 57282|\n",
            "|    🔥| 52930|\n",
            "|    💃| 52011|\n",
            "|    🔌| 50683|\n",
            "|     ☕| 50585|\n",
            "|    🍔| 49586|\n",
            "|     :| 49451|\n",
            "+------+------+\n",
            "only showing top 20 rows\n",
            "\n"
          ],
          "name": "stdout"
        }
      ]
    },
    {
      "cell_type": "markdown",
      "metadata": {
        "id": "hVtNrH8qf6fv",
        "colab_type": "text"
      },
      "source": [
        "### Which are the top three most popular emoji categories?"
      ]
    },
    {
      "cell_type": "code",
      "metadata": {
        "id": "6sSN3Ybyf-Zu",
        "colab_type": "code",
        "outputId": "b8429515-63e3-4551-cc6f-e9a917965da3",
        "colab": {
          "base_uri": "https://localhost:8080/",
          "height": 238
        }
      },
      "source": [
        "venmo[venmo.only_emoji==1].select('Classification').groupby('Classification').count().sort(\"count\", ascending=False).show()"
      ],
      "execution_count": 0,
      "outputs": [
        {
          "output_type": "stream",
          "text": [
            "+--------------+------+\n",
            "|Classification| count|\n",
            "+--------------+------+\n",
            "|          Food|588235|\n",
            "| no conclusion|358688|\n",
            "|        People|339207|\n",
            "|      Activity|129377|\n",
            "|Transportation|102226|\n",
            "|       Utility|102152|\n",
            "|         Event| 49025|\n",
            "|        Travel| 40083|\n",
            "+--------------+------+\n",
            "\n"
          ],
          "name": "stdout"
        }
      ]
    },
    {
      "cell_type": "markdown",
      "metadata": {
        "id": "f_K7fgtK12re",
        "colab_type": "text"
      },
      "source": [
        "## Q3. For each user, create a variable to indicate their spending behavior profile. For example, if a user has made 10 transactions, where 5 of them are food and the other 5 are activity, then the user’s spending profile will be 50% food and 50% activity."
      ]
    },
    {
      "cell_type": "code",
      "metadata": {
        "id": "yBekRMrhx2Vb",
        "colab_type": "code",
        "colab": {}
      },
      "source": [
        "venmo.registerTempTable('venmodata')"
      ],
      "execution_count": 0,
      "outputs": []
    },
    {
      "cell_type": "code",
      "metadata": {
        "id": "cWIbSrsXzkWo",
        "colab_type": "code",
        "outputId": "bf1269f2-ce50-4b88-8c56-10f26c25c081",
        "colab": {
          "base_uri": "https://localhost:8080/",
          "height": 459
        }
      },
      "source": [
        "user_info = sqlContext.sql(\"select * from (select user_1,Classification,count(*) as number from venmodata group by user_1,Classification) as B join (select user_1,count(*) as all_classification from venmodata group by user_1) as A using (user_1) order by user_1\")\n",
        "user_info.show()"
      ],
      "execution_count": 0,
      "outputs": [
        {
          "output_type": "stream",
          "text": [
            "+--------+---------------+------+------------------+\n",
            "|  user_1| Classification|number|all_classification|\n",
            "+--------+---------------+------+------------------+\n",
            "|      10|  no conclusion|     7|                12|\n",
            "|      10|       Activity|     1|                12|\n",
            "|      10|           Food|     4|                12|\n",
            "|10000054|  no conclusion|     1|                 2|\n",
            "|10000054|Illegal/Sarcasm|     1|                 2|\n",
            "| 1000006|           Food|     1|                 8|\n",
            "| 1000006|  no conclusion|     7|                 8|\n",
            "| 1000007|  no conclusion|     2|                 5|\n",
            "| 1000007|           Food|     2|                 5|\n",
            "| 1000007|       Activity|     1|                 5|\n",
            "| 1000009|  no conclusion|     6|                 8|\n",
            "| 1000009|           Food|     1|                 8|\n",
            "| 1000009|       Activity|     1|                 8|\n",
            "|  100001|  no conclusion|     2|                 4|\n",
            "|  100001|        Utility|     1|                 4|\n",
            "|  100001|           Food|     1|                 4|\n",
            "| 1000011|           Food|     1|                 1|\n",
            "|10000123|  no conclusion|     1|                 2|\n",
            "|10000123|       Activity|     1|                 2|\n",
            "|10000128|  no conclusion|     3|                 4|\n",
            "+--------+---------------+------+------------------+\n",
            "only showing top 20 rows\n",
            "\n"
          ],
          "name": "stdout"
        }
      ]
    },
    {
      "cell_type": "code",
      "metadata": {
        "id": "4NAF4qsVF8BI",
        "colab_type": "code",
        "colab": {}
      },
      "source": [
        "user_info = user_info.withColumn('Classification_Percentage',user_info.number/user_info.all_classification)"
      ],
      "execution_count": 0,
      "outputs": []
    },
    {
      "cell_type": "code",
      "metadata": {
        "id": "nEJApHYsO_VU",
        "colab_type": "code",
        "outputId": "522320c4-eeb2-4c33-8e93-6b591112dfec",
        "colab": {
          "base_uri": "https://localhost:8080/",
          "height": 459
        }
      },
      "source": [
        "user_info.show()"
      ],
      "execution_count": 0,
      "outputs": [
        {
          "output_type": "stream",
          "text": [
            "+--------+---------------+------+------------------+-------------------------+\n",
            "|  user_1| Classification|number|all_classification|Classification_Percentage|\n",
            "+--------+---------------+------+------------------+-------------------------+\n",
            "|      10|           Food|     4|                12|       0.3333333333333333|\n",
            "|      10|       Activity|     1|                12|      0.08333333333333333|\n",
            "|      10|  no conclusion|     7|                12|       0.5833333333333334|\n",
            "|10000054|  no conclusion|     1|                 2|                      0.5|\n",
            "|10000054|Illegal/Sarcasm|     1|                 2|                      0.5|\n",
            "| 1000006|  no conclusion|     7|                 8|                    0.875|\n",
            "| 1000006|           Food|     1|                 8|                    0.125|\n",
            "| 1000007|           Food|     2|                 5|                      0.4|\n",
            "| 1000007|       Activity|     1|                 5|                      0.2|\n",
            "| 1000007|  no conclusion|     2|                 5|                      0.4|\n",
            "| 1000009|  no conclusion|     6|                 8|                     0.75|\n",
            "| 1000009|           Food|     1|                 8|                    0.125|\n",
            "| 1000009|       Activity|     1|                 8|                    0.125|\n",
            "|  100001|  no conclusion|     2|                 4|                      0.5|\n",
            "|  100001|        Utility|     1|                 4|                     0.25|\n",
            "|  100001|           Food|     1|                 4|                     0.25|\n",
            "| 1000011|           Food|     1|                 1|                      1.0|\n",
            "|10000123|       Activity|     1|                 2|                      0.5|\n",
            "|10000123|  no conclusion|     1|                 2|                      0.5|\n",
            "|10000128|        Utility|     1|                 4|                     0.25|\n",
            "+--------+---------------+------+------------------+-------------------------+\n",
            "only showing top 20 rows\n",
            "\n"
          ],
          "name": "stdout"
        }
      ]
    },
    {
      "cell_type": "code",
      "metadata": {
        "id": "5xBNV6uaPHHt",
        "colab_type": "code",
        "outputId": "bfb83b28-2ceb-45fe-e261-05f2bca61052",
        "colab": {
          "base_uri": "https://localhost:8080/",
          "height": 479
        }
      },
      "source": [
        "user_spending_behavior = user_info.groupby('user_1').pivot('Classification').avg('Classification_Percentage')\n",
        "user_spending_behavior = user_spending_behavior.fillna(0)\n",
        "user_spending_behavior.show()"
      ],
      "execution_count": 0,
      "outputs": [
        {
          "output_type": "stream",
          "text": [
            "+--------+-------------------+-------------------+-----+-------------------+-------------------+-------------------+------+-------------------+-------------------+\n",
            "|  user_1|           Activity|               Cash|Event|               Food|    Illegal/Sarcasm|     Transportation|Travel|            Utility|      no conclusion|\n",
            "+--------+-------------------+-------------------+-----+-------------------+-------------------+-------------------+------+-------------------+-------------------+\n",
            "|      10|0.08333333333333333|                0.0|  0.0| 0.3333333333333333|                0.0|                0.0|   0.0|                0.0| 0.5833333333333334|\n",
            "|10000054|                0.0|                0.0|  0.0|                0.0|                0.5|                0.0|   0.0|                0.0|                0.5|\n",
            "| 1000006|                0.0|                0.0|  0.0|              0.125|                0.0|                0.0|   0.0|                0.0|              0.875|\n",
            "| 1000007|                0.2|                0.0|  0.0|                0.4|                0.0|                0.0|   0.0|                0.0|                0.4|\n",
            "| 1000009|              0.125|                0.0|  0.0|              0.125|                0.0|                0.0|   0.0|                0.0|               0.75|\n",
            "|  100001|                0.0|                0.0|  0.0|               0.25|                0.0|                0.0|   0.0|               0.25|                0.5|\n",
            "| 1000011|                0.0|                0.0|  0.0|                1.0|                0.0|                0.0|   0.0|                0.0|                0.0|\n",
            "|10000123|                0.5|                0.0|  0.0|                0.0|                0.0|                0.0|   0.0|                0.0|                0.5|\n",
            "|10000128|                0.0|                0.0|  0.0|                0.0|                0.0|                0.0|   0.0|               0.25|               0.75|\n",
            "| 1000013|0.05263157894736842|0.05263157894736842|  0.0|0.21052631578947367|                0.0|0.10526315789473684|   0.0|0.05263157894736842| 0.5263157894736842|\n",
            "|10000139|                0.5|                0.0|  0.0|                0.0|                0.0|                0.0|   0.0|                0.0|                0.5|\n",
            "| 1000015|                0.5|                0.0|  0.0|                0.0|                0.0|                0.0|   0.0|                0.0|                0.5|\n",
            "| 1000016|                0.0|                0.0|  0.0|                0.0|0.14285714285714285|                0.0|   0.0|                0.0| 0.8571428571428571|\n",
            "|10000197|                0.0|                0.0|  1.0|                0.0|                0.0|                0.0|   0.0|                0.0|                0.0|\n",
            "|10000198|                0.0|                0.0|  0.0|                0.0|                1.0|                0.0|   0.0|                0.0|                0.0|\n",
            "| 1000022|0.14285714285714285|                0.0|  0.0| 0.2857142857142857|                0.0|                0.0|   0.0|0.14285714285714285|0.42857142857142855|\n",
            "| 1000024|                0.1|                0.0|  0.1|                0.0|                0.0|                0.0|   0.0|                0.2|                0.6|\n",
            "|10000250|                0.0|                0.0|  0.0|                0.0|                0.0|                0.0|   0.0|                0.0|                1.0|\n",
            "| 1000026|                0.0|                0.0|  0.0|                0.0|                0.0|                0.0|   0.0|                0.0|                1.0|\n",
            "| 1000027|                0.0|                0.0|  0.0|                1.0|                0.0|                0.0|   0.0|                0.0|                0.0|\n",
            "+--------+-------------------+-------------------+-----+-------------------+-------------------+-------------------+------+-------------------+-------------------+\n",
            "only showing top 20 rows\n",
            "\n"
          ],
          "name": "stdout"
        }
      ]
    },
    {
      "cell_type": "markdown",
      "metadata": {
        "id": "TDfo-LMYo0IX",
        "colab_type": "text"
      },
      "source": [
        "## Q4 : In the previous question, you got a static spending profile. However, life and social networks are evolving over time. Therefore, let’s explore how a user’s spending profile is evolving over her lifetime in Venmo. First of all, you need to analyze a user’s transactions in monthly intervals, starting from 0 (indicating their first transaction only) up to 12."
      ]
    },
    {
      "cell_type": "code",
      "metadata": {
        "id": "DOsfeeCtEmZl",
        "colab_type": "code",
        "colab": {}
      },
      "source": [
        "# get users who joined Venmo for at least 12 months\n",
        "query =\\\n",
        "\"\"\"\n",
        "SELECT\n",
        "    user_1,\n",
        "    \"0,1,2,3,4,5,6,7,8,9,10,11,12\" AS months,\n",
        "    \"Food,Transportation,Event,Utility,Cash,Illegal/Sarcasm,Activity,People,Travel,no conclusion\" AS topic\n",
        "FROM\n",
        "    venmodata\n",
        "WHERE\n",
        "    DATEDIFF(DATE(\"2016-11-30\"), datetime) >= 360\n",
        "GROUP BY\n",
        "    user_1\n",
        "ORDER by user_1\n",
        "\"\"\"\n",
        "old_cust = spark.sql(query)\\\n",
        "    .withColumn(\"months\", split(col(\"months\"), \",\\s*\")\\\n",
        "    .cast(ArrayType(IntegerType())).alias(\"months\"))\\\n",
        "    .select(\"user_1\", \"topic\", explode(\"months\").alias(\"months\"))\\\n",
        "    .withColumn(\"topic\", split(col(\"topic\"), \",\\s*\")\\\n",
        "    .cast(ArrayType(StringType())).alias(\"topic\"))\\\n",
        "    .select(\"user_1\", \"months\", explode(\"topic\").alias(\"topic\"))\n",
        "old_cust.createOrReplaceTempView(\"old_cust\")"
      ],
      "execution_count": 0,
      "outputs": []
    },
    {
      "cell_type": "code",
      "metadata": {
        "id": "2KmTUp5w8Usg",
        "colab_type": "code",
        "outputId": "8352b171-aae8-4bfb-8f31-fc3377cffec7",
        "colab": {
          "base_uri": "https://localhost:8080/",
          "height": 459
        }
      },
      "source": [
        "old_cust.show()"
      ],
      "execution_count": 0,
      "outputs": [
        {
          "output_type": "stream",
          "text": [
            "+------+------+---------------+\n",
            "|user_1|months|          topic|\n",
            "+------+------+---------------+\n",
            "|    10|     0|           Food|\n",
            "|    10|     0| Transportation|\n",
            "|    10|     0|          Event|\n",
            "|    10|     0|        Utility|\n",
            "|    10|     0|           Cash|\n",
            "|    10|     0|Illegal/Sarcasm|\n",
            "|    10|     0|       Activity|\n",
            "|    10|     0|         People|\n",
            "|    10|     0|         Travel|\n",
            "|    10|     0|  no conclusion|\n",
            "|    10|     1|           Food|\n",
            "|    10|     1| Transportation|\n",
            "|    10|     1|          Event|\n",
            "|    10|     1|        Utility|\n",
            "|    10|     1|           Cash|\n",
            "|    10|     1|Illegal/Sarcasm|\n",
            "|    10|     1|       Activity|\n",
            "|    10|     1|         People|\n",
            "|    10|     1|         Travel|\n",
            "|    10|     1|  no conclusion|\n",
            "+------+------+---------------+\n",
            "only showing top 20 rows\n",
            "\n"
          ],
          "name": "stdout"
        }
      ]
    },
    {
      "cell_type": "code",
      "metadata": {
        "id": "PD9oe0g2OZUl",
        "colab_type": "code",
        "colab": {}
      },
      "source": [
        "# combine user's classification, age, and count of classification at an age\n",
        "query =\\\n",
        "\"\"\"\n",
        "SELECT\n",
        "    *,\n",
        "    (COUNT(*) OVER (PARTITION BY user_1, Classification ORDER BY cust_age ROWS BETWEEN UNBOUNDED PRECEDING AND CURRENT ROW)) AS topic_accu\n",
        "FROM\n",
        "    (SELECT\n",
        "        user_1,\n",
        "        Classification,\n",
        "        CASE\n",
        "            WHEN datetime = (MIN(datetime) OVER (PARTITION BY user_1)) THEN 0\n",
        "            ELSE CEIL(DATEDIFF(datetime, (MIN(datetime) OVER (PARTITION BY user_1)))/30) \n",
        "            END AS cust_age\n",
        "    FROM\n",
        "        venmodata \n",
        "    WHERE user_1\n",
        "        IN (SELECT user_1 FROM old_cust GROUP BY user_1))\n",
        "ORDER BY user_1, cust_age, Classification\n",
        "\"\"\"\n",
        "pre_profile = spark.sql(query)\n",
        "pre_profile.createOrReplaceTempView(\"pre_profile\")"
      ],
      "execution_count": 0,
      "outputs": []
    },
    {
      "cell_type": "code",
      "metadata": {
        "id": "Vr9OE5qg8_XU",
        "colab_type": "code",
        "colab": {}
      },
      "source": [
        "pre_profile.show(5)"
      ],
      "execution_count": 0,
      "outputs": []
    },
    {
      "cell_type": "code",
      "metadata": {
        "id": "dpSFSc_6ObGS",
        "colab_type": "code",
        "colab": {}
      },
      "source": [
        "# generate a unpivoted complete user profile\n",
        "query =\\\n",
        "\"\"\"\n",
        "SELECT\n",
        "    user_1,\n",
        "    months,\n",
        "    topic,\n",
        "    topic_accu,\n",
        "    CASE\n",
        "        WHEN LAST(topic_monthly_percentage) IS NULL THEN 0\n",
        "        ELSE LAST(topic_monthly_percentage) END AS topic_monthly_percentage\n",
        "FROM\n",
        "    (SELECT\n",
        "        o.user_1,\n",
        "        o.months,\n",
        "        o.topic,\n",
        "        SUM(p.topic_accu) OVER (PARTITION BY o.user_1) AS topic_accu,\n",
        "        ((SUM(topic_accu) OVER (PARTITION BY o.user_1, o.months, o.topic)) / (SUM(topic_accu) OVER (PARTITION BY o.user_1, o.months))) AS topic_monthly_percentage\n",
        "    FROM\n",
        "        old_cust o\n",
        "    LEFT JOIN\n",
        "        pre_profile p\n",
        "        ON p.user_1 = o.user_1\n",
        "        AND o.months = p.cust_age\n",
        "        AND o.topic = p.Classification)\n",
        "GROUP BY user_1, months, topic, topic_accu\n",
        "ORDER BY user_1, months, topic\n",
        "\"\"\"\n",
        "userProfile = spark.sql(query)\n",
        "userProfile.createOrReplaceTempView(\"userProfile\")"
      ],
      "execution_count": 0,
      "outputs": []
    },
    {
      "cell_type": "code",
      "metadata": {
        "id": "yOS5kYsQOefy",
        "colab_type": "code",
        "colab": {}
      },
      "source": [
        "# pivot user profile, make it suitable for analytical works\n",
        "userProfile_pivoted = userProfile\\\n",
        "  .groupBy(\"user_1\", \"months\", \"topic_accu\")\\\n",
        "  .pivot(\"topic\")\\\n",
        "  .avg(\"topic_monthly_percentage\")\\\n",
        "  .sort(\"user_1\", \"months\")\n",
        "\n",
        "userProfile_pivoted.createOrReplaceTempView(\"userProfile_pivoted\")"
      ],
      "execution_count": 0,
      "outputs": []
    },
    {
      "cell_type": "code",
      "metadata": {
        "id": "zp8TEsfkF95A",
        "colab_type": "code",
        "colab": {}
      },
      "source": [
        "spark.sql(\"select * from userProfile_pivoted\").show(50)"
      ],
      "execution_count": 0,
      "outputs": []
    },
    {
      "cell_type": "markdown",
      "metadata": {
        "id": "iHHWbcpDU7EU",
        "colab_type": "text"
      },
      "source": [
        "## Q5 : Write a script to find a user’s friends and friends of friends (Friend definition: A user’s friend is someone who has transacted with the user, either sending money to the user or receiving money from the user). Describe your algorithm and calculate its computational complexity. Can you do it better?"
      ]
    },
    {
      "cell_type": "code",
      "metadata": {
        "id": "iFL-lrxNxk01",
        "colab_type": "code",
        "colab": {}
      },
      "source": [
        "# friends\n",
        "query = \"\"\"\n",
        "select distinct * from\n",
        "(select distinct user_1,user_2 from venmodata\n",
        "union\n",
        "select distinct user_2,user_1 from venmodata)\n",
        "order by user_1\n",
        "\"\"\"\n",
        "Friends = spark.sql(query)"
      ],
      "execution_count": 0,
      "outputs": []
    },
    {
      "cell_type": "code",
      "metadata": {
        "id": "UIDazN0ECD2y",
        "colab_type": "code",
        "outputId": "1666e8a8-9a2d-450d-f279-ad4db2c8d0c6",
        "colab": {
          "base_uri": "https://localhost:8080/",
          "height": 204
        }
      },
      "source": [
        "Friends.show(5)"
      ],
      "execution_count": 0,
      "outputs": [
        {
          "output_type": "stream",
          "text": [
            "+------+-------+\n",
            "|user_1| user_2|\n",
            "+------+-------+\n",
            "|    10|  36523|\n",
            "|    10|     43|\n",
            "|    10| 133032|\n",
            "|    10|3844713|\n",
            "|    10|     13|\n",
            "+------+-------+\n",
            "only showing top 5 rows\n",
            "\n"
          ],
          "name": "stdout"
        }
      ]
    },
    {
      "cell_type": "code",
      "metadata": {
        "id": "uS4iCRyqCzMe",
        "colab_type": "code",
        "colab": {}
      },
      "source": [
        "# friends of friends\n",
        "query = \"\"\"\n",
        "select * from\n",
        "(select distinct user_1,user_2 from venmodata) as a\n",
        "join\n",
        "(select distinct user_2,user_1 from venmodata) as b\n",
        "on a.user_2 = b.user_2 \n",
        "where a.user_1<>b.user_1\n",
        "order by a.user_1\n",
        "\"\"\"\n",
        "FriendsOfFriends = spark.sql(query)"
      ],
      "execution_count": 0,
      "outputs": []
    },
    {
      "cell_type": "code",
      "metadata": {
        "id": "R-m_0AfPELir",
        "colab_type": "code",
        "outputId": "7f90bff5-fc8b-49a1-b487-5dba81a6dc46",
        "colab": {
          "base_uri": "https://localhost:8080/",
          "height": 204
        }
      },
      "source": [
        "FriendsOfFriends.show(5)"
      ],
      "execution_count": 0,
      "outputs": [
        {
          "output_type": "stream",
          "text": [
            "+------+------+------+-------+\n",
            "|user_1|user_2|user_2| user_1|\n",
            "+------+------+------+-------+\n",
            "|    10|    43|    43|  47104|\n",
            "|    10|    43|    43|1491816|\n",
            "|    10|    43|    43|     96|\n",
            "|    10|    43|    43|  72106|\n",
            "|    10|    43|    43|  82697|\n",
            "+------+------+------+-------+\n",
            "only showing top 5 rows\n",
            "\n"
          ],
          "name": "stdout"
        }
      ]
    },
    {
      "cell_type": "code",
      "metadata": {
        "id": "ICno5VToEgTT",
        "colab_type": "code",
        "colab": {}
      },
      "source": [
        "# get the friends of friends different from friends\n",
        "query = \"\"\"\n",
        "select friends.user_1,friends.user_2,fof.fofs\n",
        "from\n",
        "(select distinct * from\n",
        "(select distinct user_1,user_2 from venmodata\n",
        "union\n",
        "select distinct user_2,user_1 from venmodata)) as friends\n",
        "join\n",
        "(select * from\n",
        "(select distinct user_1,user_2 from venmodata) as a\n",
        "join\n",
        "(select distinct user_2,user_1 as fofs from venmodata) as b\n",
        "on a.user_2 = b.user_2 \n",
        "where a.user_1<>b.fofs) as fof\n",
        "using (user_1)\n",
        "where friends.user_2<>fof.fofs\n",
        "\"\"\"\n",
        "network = spark.sql(query)"
      ],
      "execution_count": 0,
      "outputs": []
    },
    {
      "cell_type": "code",
      "metadata": {
        "id": "__ogegS1FaRu",
        "colab_type": "code",
        "outputId": "067e0f19-1286-47d5-8040-32c7a3701750",
        "colab": {
          "base_uri": "https://localhost:8080/",
          "height": 204
        }
      },
      "source": [
        "network.show(5)"
      ],
      "execution_count": 0,
      "outputs": [
        {
          "output_type": "stream",
          "text": [
            "+-------+------+-------+\n",
            "| user_1|user_2|   fofs|\n",
            "+-------+------+-------+\n",
            "|1000240|899483|1070763|\n",
            "|1000240|899483| 564546|\n",
            "|1000240|899483| 731901|\n",
            "|1000280|627873| 385136|\n",
            "|1000280|627873| 766966|\n",
            "+-------+------+-------+\n",
            "only showing top 5 rows\n",
            "\n"
          ],
          "name": "stdout"
        }
      ]
    },
    {
      "cell_type": "markdown",
      "metadata": {
        "id": "88UH_7ppOtnx",
        "colab_type": "text"
      },
      "source": [
        "## Q6 i): Number of friends and number of friends of friends"
      ]
    },
    {
      "cell_type": "code",
      "metadata": {
        "id": "UCPjwaejU7i9",
        "colab_type": "code",
        "colab": {}
      },
      "source": [
        "# create an undirected transaction history and calculate customer's age\n",
        "query = \\\n",
        "\"\"\"\n",
        "SELECT\n",
        "    *,\n",
        "    CASE WHEN datetime = (MIN(datetime) OVER (PARTITION BY user1)) THEN 0\n",
        "         ELSE CEIL(DATEDIFF(datetime, (MIN(datetime) OVER (PARTITION BY user1)))/30) \n",
        "         END AS cust_age\n",
        "FROM\n",
        "    (SELECT\n",
        "        *,\n",
        "        MIN(datetime) OVER (PARTITION BY user1) AS join_date\n",
        "    FROM\n",
        "        (SELECT\n",
        "            user1, user2, datetime, story_id\n",
        "        FROM\n",
        "            venmodata\n",
        "        UNION ALL\n",
        "        SELECT\n",
        "            user1 AS user2,\n",
        "            user2 AS user1,\n",
        "            datetime,\n",
        "            story_id\n",
        "        FROM\n",
        "            venmodata))\n",
        "\"\"\"\n",
        "\n",
        "customerAge = spark.sql(query)\n",
        "customerAge.cache()\n",
        "customerAge.createOrReplaceTempView(\"customerAge\")"
      ],
      "execution_count": 0,
      "outputs": []
    },
    {
      "cell_type": "code",
      "metadata": {
        "id": "HtJlKCnLO9fe",
        "colab_type": "code",
        "colab": {}
      },
      "source": [
        "# number of friend at each month\n",
        "query = \\\n",
        "\"\"\"\n",
        "SELECT\n",
        "    user1,\n",
        "    cust_age,\n",
        "    count(*) OVER (PARTITION BY user1 ORDER BY cust_age ROWS BETWEEN UNBOUNDED PRECEDING AND CURRENT ROW) AS num_of_friend\n",
        "FROM\n",
        "    customerAge\n",
        "GROUP BY user1, cust_age\n",
        "ORDER BY user1, cust_age\n",
        "\"\"\"\n",
        "fof = spark.sql(query)\n",
        "fof.show(5000)"
      ],
      "execution_count": 0,
      "outputs": []
    },
    {
      "cell_type": "code",
      "metadata": {
        "id": "gapFhM73PiES",
        "colab_type": "code",
        "colab": {}
      },
      "source": [
        "# number of friend of friend at each month\n",
        "query = \\\n",
        "\"\"\"\n",
        "SELECT\n",
        "    t1.user1,\n",
        "    t1.cust_age,\n",
        "    count(*) OVER (PARTITION BY t1.user1 ORDER BY t1.cust_age ROWS BETWEEN UNBOUNDED PRECEDING AND CURRENT ROW) AS num_of_friend_of_friend\n",
        "FROM\n",
        "    customerAge t1\n",
        "LEFT JOIN\n",
        "    customerAge t2\n",
        "ON\n",
        "    t2.user1 = t1.user2\n",
        "WHERE\n",
        "    t2.user2 != t1.user1\n",
        "GROUP BY t1.user1, t1.cust_age\n",
        "ORDER BY t1.user1, t1.cust_age\n",
        "\"\"\"\n",
        "fofof = spark.sql(query)\n",
        "fofof.show(5000)"
      ],
      "execution_count": 0,
      "outputs": []
    },
    {
      "cell_type": "markdown",
      "metadata": {
        "id": "yaMRcB0T9nC7",
        "colab_type": "text"
      },
      "source": [
        "## ii) Clustering coefficient of a user's network"
      ]
    },
    {
      "cell_type": "code",
      "metadata": {
        "id": "NmAudEUUZ5Lp",
        "colab_type": "code",
        "outputId": "d60dc280-f5c1-4e49-8852-db2b67c7ae80",
        "colab": {
          "base_uri": "https://localhost:8080/",
          "height": 71
        }
      },
      "source": [
        "!pip install networkx"
      ],
      "execution_count": 0,
      "outputs": [
        {
          "output_type": "stream",
          "text": [
            "Requirement already satisfied: networkx in /usr/local/lib/python3.6/dist-packages (2.4)\n",
            "Requirement already satisfied: decorator>=4.3.0 in /usr/local/lib/python3.6/dist-packages (from networkx) (4.4.2)\n"
          ],
          "name": "stdout"
        }
      ]
    },
    {
      "cell_type": "code",
      "metadata": {
        "id": "7d8HDPKxZ7vH",
        "colab_type": "code",
        "colab": {}
      },
      "source": [
        "import networkx as nx\n",
        "G = nx.Graph()"
      ],
      "execution_count": 0,
      "outputs": []
    },
    {
      "cell_type": "code",
      "metadata": {
        "id": "vgo-RqaY9paX",
        "colab_type": "code",
        "colab": {}
      },
      "source": [
        "# get nodes\n",
        "nodes = sqlContext.sql('select distinct * from (select distinct user_1 from venmodata union select distinct user_2 from venmodata)')"
      ],
      "execution_count": 0,
      "outputs": []
    },
    {
      "cell_type": "code",
      "metadata": {
        "id": "AfgyF5mA__0i",
        "colab_type": "code",
        "outputId": "4e71f340-d532-49c9-b5e6-dce199f9f3a8",
        "colab": {
          "base_uri": "https://localhost:8080/",
          "height": 459
        }
      },
      "source": [
        "nodes.show()"
      ],
      "execution_count": 0,
      "outputs": [
        {
          "output_type": "stream",
          "text": [
            "+-------+\n",
            "| user_1|\n",
            "+-------+\n",
            "|1218774|\n",
            "|2954885|\n",
            "|2517841|\n",
            "|2073451|\n",
            "|2413583|\n",
            "| 629853|\n",
            "|2594217|\n",
            "|1912151|\n",
            "|1676425|\n",
            "|3817326|\n",
            "|1404141|\n",
            "|4109722|\n",
            "|7209296|\n",
            "| 244335|\n",
            "|2325198|\n",
            "|2515048|\n",
            "|4168921|\n",
            "|4414119|\n",
            "| 709070|\n",
            "|8671440|\n",
            "+-------+\n",
            "only showing top 20 rows\n",
            "\n"
          ],
          "name": "stdout"
        }
      ]
    },
    {
      "cell_type": "code",
      "metadata": {
        "id": "Nx8lFjo7BUm7",
        "colab_type": "code",
        "colab": {}
      },
      "source": [
        "# adjust format\n",
        "import numpy as np\n",
        "nodes = np.array(nodes.select('user_1').collect())\n",
        "nodes = nodes.flatten()"
      ],
      "execution_count": 0,
      "outputs": []
    },
    {
      "cell_type": "code",
      "metadata": {
        "id": "KEtTBwszBpui",
        "colab_type": "code",
        "colab": {}
      },
      "source": [
        "# add nodes to graph\n",
        "G.add_nodes_from(nodes)"
      ],
      "execution_count": 0,
      "outputs": []
    },
    {
      "cell_type": "code",
      "metadata": {
        "id": "N7hI3zcACyq-",
        "colab_type": "code",
        "colab": {}
      },
      "source": [
        "# get edges\n",
        "edges = sqlContext.sql('select distinct user_1,user_2 from venmodata')"
      ],
      "execution_count": 0,
      "outputs": []
    },
    {
      "cell_type": "code",
      "metadata": {
        "id": "SRHre_COEJ_y",
        "colab_type": "code",
        "colab": {}
      },
      "source": [
        "# adjust edges format\n",
        "edges = edges.toPandas().to_records(index=False)"
      ],
      "execution_count": 0,
      "outputs": []
    },
    {
      "cell_type": "code",
      "metadata": {
        "id": "MXI2dHmrFfOf",
        "colab_type": "code",
        "colab": {}
      },
      "source": [
        "# add edges\n",
        "G.add_edges_from(edges)"
      ],
      "execution_count": 0,
      "outputs": []
    },
    {
      "cell_type": "code",
      "metadata": {
        "id": "k78hwa3XGaM4",
        "colab_type": "code",
        "outputId": "323ffa47-08a1-4a3d-82bf-98cb8c9be4b5",
        "colab": {
          "base_uri": "https://localhost:8080/",
          "height": 34
        }
      },
      "source": [
        "G.number_of_nodes()"
      ],
      "execution_count": 0,
      "outputs": [
        {
          "output_type": "execute_result",
          "data": {
            "text/plain": [
              "3018657"
            ]
          },
          "metadata": {
            "tags": []
          },
          "execution_count": 49
        }
      ]
    },
    {
      "cell_type": "code",
      "metadata": {
        "id": "SxcbAL5QGv3m",
        "colab_type": "code",
        "outputId": "0ac92e2b-fecb-4105-8abe-8dbe3b913a15",
        "colab": {
          "base_uri": "https://localhost:8080/",
          "height": 34
        }
      },
      "source": [
        "G.number_of_edges()"
      ],
      "execution_count": 0,
      "outputs": [
        {
          "output_type": "execute_result",
          "data": {
            "text/plain": [
              "4997781"
            ]
          },
          "metadata": {
            "tags": []
          },
          "execution_count": 50
        }
      ]
    },
    {
      "cell_type": "code",
      "metadata": {
        "id": "cR-rgaXrGxjE",
        "colab_type": "code",
        "colab": {}
      },
      "source": [
        "# get clustering coefficient\n",
        "clustering_coefficient = nx.clustering(G)"
      ],
      "execution_count": 0,
      "outputs": []
    },
    {
      "cell_type": "code",
      "metadata": {
        "id": "HzrzoGi-G63Y",
        "colab_type": "code",
        "outputId": "b5535d95-3d44-48fe-ef33-10909d2a8283",
        "colab": {
          "base_uri": "https://localhost:8080/",
          "height": 1000
        }
      },
      "source": [
        "clustering_coefficient"
      ],
      "execution_count": 0,
      "outputs": [
        {
          "output_type": "execute_result",
          "data": {
            "text/plain": [
              "{'1218774': 0.2,\n",
              " '2954885': 0.16666666666666666,\n",
              " '2517841': 0.12535612535612536,\n",
              " '2073451': 0,\n",
              " '2413583': 1.0,\n",
              " '629853': 0.01282051282051282,\n",
              " '2594217': 0.07142857142857142,\n",
              " '1912151': 0.3333333333333333,\n",
              " '1676425': 0.6666666666666666,\n",
              " '3817326': 0.027777777777777776,\n",
              " '1404141': 0.06666666666666667,\n",
              " '4109722': 0,\n",
              " '7209296': 0.16666666666666666,\n",
              " '244335': 0.01282051282051282,\n",
              " '2325198': 0.16666666666666666,\n",
              " '2515048': 0,\n",
              " '4168921': 0,\n",
              " '4414119': 0.027777777777777776,\n",
              " '709070': 0.6666666666666666,\n",
              " '8671440': 0,\n",
              " '6992124': 0,\n",
              " '6306283': 0,\n",
              " '259573': 0,\n",
              " '2033208': 0,\n",
              " '7265298': 0,\n",
              " '2714565': 0,\n",
              " '5234705': 0.038461538461538464,\n",
              " '1312763': 0.0641025641025641,\n",
              " '577022': 0.030303030303030304,\n",
              " '7302035': 0.07142857142857142,\n",
              " '4014797': 0.3333333333333333,\n",
              " '1814091': 0.3333333333333333,\n",
              " '6125769': 0,\n",
              " '3850225': 0.0784313725490196,\n",
              " '8686584': 0,\n",
              " '3993846': 0,\n",
              " '2067476': 0.1388888888888889,\n",
              " '78888': 0,\n",
              " '6500880': 0.13333333333333333,\n",
              " '4634909': 0.09090909090909091,\n",
              " '222581': 0.06666666666666667,\n",
              " '3434669': 1.0,\n",
              " '4546726': 0,\n",
              " '1905607': 0,\n",
              " '179713': 0.03333333333333333,\n",
              " '7334130': 0,\n",
              " '7102837': 0.1,\n",
              " '753598': 0,\n",
              " '7080377': 1.0,\n",
              " '3834412': 0,\n",
              " '1720188': 0.16666666666666666,\n",
              " '4467003': 0,\n",
              " '3165150': 0.3333333333333333,\n",
              " '1049569': 0,\n",
              " '2860179': 0.24444444444444444,\n",
              " '1220142': 0.09523809523809523,\n",
              " '1986517': 0,\n",
              " '593473': 0,\n",
              " '921676': 0.1,\n",
              " '1483113': 0.17777777777777778,\n",
              " '2534430': 0.13333333333333333,\n",
              " '1077907': 0,\n",
              " '4219307': 0,\n",
              " '3972279': 0,\n",
              " '472913': 0.06666666666666667,\n",
              " '2247362': 0.027777777777777776,\n",
              " '323208': 0,\n",
              " '5956678': 0.23809523809523808,\n",
              " '1796707': 0.14285714285714285,\n",
              " '3459018': 0.05555555555555555,\n",
              " '3339690': 0,\n",
              " '5000949': 0,\n",
              " '1297311': 0.06349206349206349,\n",
              " '953497': 0.03571428571428571,\n",
              " '1453447': 0.0008163265306122449,\n",
              " '2576838': 0,\n",
              " '59891': 0.1282051282051282,\n",
              " '897475': 0,\n",
              " '4523148': 0,\n",
              " '1986510': 0.47619047619047616,\n",
              " '1708442': 0.09523809523809523,\n",
              " '392536': 0.22727272727272727,\n",
              " '4025314': 0.027777777777777776,\n",
              " '2580563': 0.17857142857142858,\n",
              " '162875': 0.07575757575757576,\n",
              " '4954982': 0,\n",
              " '170392': 0,\n",
              " '6997441': 0.6,\n",
              " '664745': 0.14166666666666666,\n",
              " '1815013': 0.06666666666666667,\n",
              " '2493619': 0,\n",
              " '2180641': 0.09090909090909091,\n",
              " '3836254': 0,\n",
              " '4914787': 1.0,\n",
              " '7170522': 0,\n",
              " '123722': 0.18181818181818182,\n",
              " '7930478': 0,\n",
              " '1219138': 0,\n",
              " '2461926': 0.06060606060606061,\n",
              " '600735': 0.05555555555555555,\n",
              " '767382': 0.2,\n",
              " '6389863': 0.16666666666666666,\n",
              " '5512018': 0,\n",
              " '988016': 0.022222222222222223,\n",
              " '1010896': 0.14285714285714285,\n",
              " '1331006': 0,\n",
              " '551072': 0.04395604395604396,\n",
              " '777908': 0.05263157894736842,\n",
              " '2129502': 0,\n",
              " '852363': 0.05128205128205128,\n",
              " '762548': 0.10476190476190476,\n",
              " '2021785': 0.23809523809523808,\n",
              " '3294255': 0.2,\n",
              " '922232': 0.06666666666666667,\n",
              " '3022572': 0.07692307692307693,\n",
              " '431390': 0.0915032679738562,\n",
              " '457055': 0.07575757575757576,\n",
              " '4508153': 0.10909090909090909,\n",
              " '952492': 0.06666666666666667,\n",
              " '709335': 0.12727272727272726,\n",
              " '3024044': 0,\n",
              " '1086434': 0,\n",
              " '5998445': 0,\n",
              " '3151037': 0.1388888888888889,\n",
              " '11689556': 0,\n",
              " '4442840': 0.09523809523809523,\n",
              " '8893859': 0.027777777777777776,\n",
              " '8541156': 0,\n",
              " '621533': 0.1111111111111111,\n",
              " '1551506': 0.2,\n",
              " '2071071': 0,\n",
              " '4504528': 0.06666666666666667,\n",
              " '1411279': 0.13333333333333333,\n",
              " '157380': 0.125,\n",
              " '3096348': 0.13333333333333333,\n",
              " '1696116': 0,\n",
              " '933906': 0,\n",
              " '5277423': 0.3333333333333333,\n",
              " '1852083': 0.3333333333333333,\n",
              " '12392825': 0,\n",
              " '3623094': 0.24444444444444444,\n",
              " '1190900': 0.1388888888888889,\n",
              " '7748884': 0,\n",
              " '3429295': 0.09090909090909091,\n",
              " '2172154': 0.5,\n",
              " '2039526': 0,\n",
              " '148701': 0,\n",
              " '683185': 0.027777777777777776,\n",
              " '1199319': 0.21428571428571427,\n",
              " '8086087': 0,\n",
              " '8512117': 0,\n",
              " '3577841': 0.056818181818181816,\n",
              " '4429660': 0.3333333333333333,\n",
              " '2986434': 0,\n",
              " '580490': 0.022222222222222223,\n",
              " '1429386': 0,\n",
              " '1742653': 0,\n",
              " '2371585': 0,\n",
              " '646683': 0,\n",
              " '1375102': 0.031578947368421054,\n",
              " '8805595': 0,\n",
              " '4535569': 0,\n",
              " '1734557': 0.13071895424836602,\n",
              " '6605122': 0,\n",
              " '351343': 0.14545454545454545,\n",
              " '1499836': 0,\n",
              " '1075364': 0.06666666666666667,\n",
              " '3060706': 0,\n",
              " '3534205': 1.0,\n",
              " '3701441': 0.047619047619047616,\n",
              " '2449708': 0,\n",
              " '3444061': 0.16666666666666666,\n",
              " '2695374': 0.22727272727272727,\n",
              " '2607411': 0,\n",
              " '336437': 0.10144927536231885,\n",
              " '5774273': 0,\n",
              " '786418': 0.010526315789473684,\n",
              " '9220319': 0,\n",
              " '3723115': 0,\n",
              " '1730327': 0,\n",
              " '847315': 0.02564102564102564,\n",
              " '4828905': 0.2,\n",
              " '6111261': 0.21428571428571427,\n",
              " '1328631': 0,\n",
              " '9864505': 0,\n",
              " '59467': 0.32142857142857145,\n",
              " '1536872': 0,\n",
              " '6239038': 0.01818181818181818,\n",
              " '531979': 0.3333333333333333,\n",
              " '3431743': 0,\n",
              " '2529778': 0.03296703296703297,\n",
              " '724791': 0.6666666666666666,\n",
              " '813455': 0.2,\n",
              " '1077590': 0.1,\n",
              " '2736756': 0.030303030303030304,\n",
              " '1852409': 0,\n",
              " '1560328': 0.07692307692307693,\n",
              " '6697474': 0,\n",
              " '1526012': 0,\n",
              " '6468412': 0,\n",
              " '9219603': 0,\n",
              " '3049252': 0,\n",
              " '686603': 0,\n",
              " '4498628': 0.06666666666666667,\n",
              " '1162786': 0.047619047619047616,\n",
              " '779392': 0.022222222222222223,\n",
              " '223506': 0.1341991341991342,\n",
              " '553470': 0.058333333333333334,\n",
              " '2033492': 0.16911764705882354,\n",
              " '1479884': 0.23809523809523808,\n",
              " '380460': 0,\n",
              " '793299': 0.10909090909090909,\n",
              " '2442146': 0.047619047619047616,\n",
              " '3244968': 0,\n",
              " '7313397': 0,\n",
              " '2771473': 0.023391812865497075,\n",
              " '209643': 0.16666666666666666,\n",
              " '11359220': 0,\n",
              " '370925': 0.047619047619047616,\n",
              " '1897302': 0.3333333333333333,\n",
              " '2549554': 0.09523809523809523,\n",
              " '3830757': 0.16666666666666666,\n",
              " '8261126': 0,\n",
              " '1246374': 0.25,\n",
              " '4906427': 0,\n",
              " '5447261': 0,\n",
              " '332661': 0.013071895424836602,\n",
              " '3061118': 0.3,\n",
              " '2575271': 0.03571428571428571,\n",
              " '5035159': 0.3333333333333333,\n",
              " '5973720': 0.06666666666666667,\n",
              " '884509': 0.07575757575757576,\n",
              " '2120038': 0.2,\n",
              " '4423537': 0.3333333333333333,\n",
              " '1944298': 0,\n",
              " '1713687': 0.1,\n",
              " '439051': 0.1,\n",
              " '85022': 0.08333333333333333,\n",
              " '2404910': 0,\n",
              " '875598': 0.3611111111111111,\n",
              " '1286991': 0.16666666666666666,\n",
              " '460901': 0.125,\n",
              " '5749925': 0,\n",
              " '839366': 0.047619047619047616,\n",
              " '532513': 0,\n",
              " '2140847': 0,\n",
              " '6608063': 0,\n",
              " '5314762': 0.075,\n",
              " '1488652': 0.1111111111111111,\n",
              " '2327622': 0,\n",
              " '3119185': 0.031578947368421054,\n",
              " '2890330': 0.19444444444444445,\n",
              " '2342547': 0.14285714285714285,\n",
              " '2077742': 0,\n",
              " '3071203': 0.3333333333333333,\n",
              " '657824': 0.0380952380952381,\n",
              " '8116219': 0,\n",
              " '891250': 0.14285714285714285,\n",
              " '1084219': 0.047619047619047616,\n",
              " '811320': 0.09523809523809523,\n",
              " '1266411': 0.23809523809523808,\n",
              " '2339543': 0.10606060606060606,\n",
              " '2897907': 0.044444444444444446,\n",
              " '4170962': 0,\n",
              " '732887': 0.3333333333333333,\n",
              " '1165756': 0.21428571428571427,\n",
              " '1448420': 0,\n",
              " '2172233': 0.032679738562091505,\n",
              " '1766941': 0.1111111111111111,\n",
              " '5413776': 0,\n",
              " '859572': 0,\n",
              " '2864956': 0.0761904761904762,\n",
              " '600087': 0,\n",
              " '1314308': 0,\n",
              " '2110530': 0.025,\n",
              " '2463434': 0.11666666666666667,\n",
              " '4483400': 0,\n",
              " '1099616': 0,\n",
              " '544259': 0,\n",
              " '1038239': 0.10909090909090909,\n",
              " '3961244': 0.16666666666666666,\n",
              " '1436356': 0.08187134502923976,\n",
              " '3691477': 0.07142857142857142,\n",
              " '6162619': 0.3333333333333333,\n",
              " '1233532': 0,\n",
              " '5677346': 0.16666666666666666,\n",
              " '6217761': 0,\n",
              " '2839503': 0.1,\n",
              " '293258': 0.03571428571428571,\n",
              " '617780': 0.06666666666666667,\n",
              " '7398836': 0,\n",
              " '6703079': 0.35714285714285715,\n",
              " '6336085': 0.5,\n",
              " '5781834': 0,\n",
              " '7707740': 0,\n",
              " '7792978': 0,\n",
              " '2581719': 0.3333333333333333,\n",
              " '556758': 0.06666666666666667,\n",
              " '366716': 0.05555555555555555,\n",
              " '1943458': 0,\n",
              " '8538670': 0,\n",
              " '7701529': 0,\n",
              " '474834': 0.023333333333333334,\n",
              " '1532510': 0,\n",
              " '934326': 0.047619047619047616,\n",
              " '6901766': 0,\n",
              " '1035968': 0.0457516339869281,\n",
              " '1749812': 0.06666666666666667,\n",
              " '6212481': 0,\n",
              " '823590': 0.16666666666666666,\n",
              " '1707026': 0.030303030303030304,\n",
              " '367230': 0.09166666666666666,\n",
              " '3047108': 0,\n",
              " '3539628': 0.3,\n",
              " '2123279': 1.0,\n",
              " '576116': 0.06593406593406594,\n",
              " '2928469': 0,\n",
              " '1137819': 0.2222222222222222,\n",
              " '1929763': 0.3333333333333333,\n",
              " '215904': 0.04395604395604396,\n",
              " '856182': 0.1,\n",
              " '2679189': 0.07272727272727272,\n",
              " '5339460': 0,\n",
              " '1116813': 0.09090909090909091,\n",
              " '801983': 0.13333333333333333,\n",
              " '495472': 0,\n",
              " '404310': 0,\n",
              " '3611026': 0.05454545454545454,\n",
              " '394495': 0,\n",
              " '1927733': 0.07692307692307693,\n",
              " '457715': 0.10989010989010989,\n",
              " '4706318': 0.3,\n",
              " '1411407': 0.022222222222222223,\n",
              " '7074605': 0,\n",
              " '550880': 0,\n",
              " '6478314': 0.3333333333333333,\n",
              " '2448241': 0.16666666666666666,\n",
              " '1649634': 0,\n",
              " '2299119': 0.14285714285714285,\n",
              " '12439439': 0,\n",
              " '1656208': 0,\n",
              " '6585611': 0,\n",
              " '877081': 0,\n",
              " '1608250': 0.1,\n",
              " '1741433': 0,\n",
              " '3295735': 0.015151515151515152,\n",
              " '6308667': 0.5,\n",
              " '1023531': 0.22727272727272727,\n",
              " '1024606': 0.03571428571428571,\n",
              " '2852343': 0,\n",
              " '4360874': 0.054945054945054944,\n",
              " '429431': 0.07575757575757576,\n",
              " '653915': 0,\n",
              " '2002281': 0.19047619047619047,\n",
              " '2966584': 0,\n",
              " '1114766': 0.17647058823529413,\n",
              " '1245754': 0,\n",
              " '7819210': 0,\n",
              " '5266852': 0.06666666666666667,\n",
              " '3493452': 0,\n",
              " '1499823': 0.1,\n",
              " '640303': 0,\n",
              " '3501818': 0.1,\n",
              " '1906989': 0.0935672514619883,\n",
              " '7026879': 0,\n",
              " '100553': 0.4,\n",
              " '925253': 0.21212121212121213,\n",
              " '395184': 0.2,\n",
              " '1732896': 0,\n",
              " '635579': 0.10714285714285714,\n",
              " '1271297': 0,\n",
              " '128505': 0,\n",
              " '1779385': 0.05555555555555555,\n",
              " '491349': 0.051470588235294115,\n",
              " '1974715': 0.3333333333333333,\n",
              " '9679893': 0,\n",
              " '1205233': 0.2,\n",
              " '7299254': 0,\n",
              " '905497': 0,\n",
              " '5409137': 0,\n",
              " '6036537': 0.08333333333333333,\n",
              " '4598481': 0.1,\n",
              " '1542849': 0.3,\n",
              " '675875': 0.11666666666666667,\n",
              " '3472401': 0.05454545454545454,\n",
              " '2347726': 0.12380952380952381,\n",
              " '2433491': 0,\n",
              " '2436698': 0.2222222222222222,\n",
              " '6222397': 0,\n",
              " '695700': 0,\n",
              " '6152354': 0.5,\n",
              " '2098721': 0.06666666666666667,\n",
              " '1911740': 0,\n",
              " '1245542': 0.03636363636363636,\n",
              " '422330': 0.04395604395604396,\n",
              " '151859': 0,\n",
              " '1089584': 0.3333333333333333,\n",
              " '1800921': 0.07142857142857142,\n",
              " '8237849': 0.6666666666666666,\n",
              " '7608233': 0.06666666666666667,\n",
              " '2657207': 1.0,\n",
              " '3330897': 0,\n",
              " '4826274': 0,\n",
              " '555345': 0.09523809523809523,\n",
              " '1244177': 0,\n",
              " '3093660': 0,\n",
              " '2075866': 0,\n",
              " '81355': 0.15555555555555556,\n",
              " '2346116': 0.16666666666666666,\n",
              " '6584753': 0,\n",
              " '622021': 0.08666666666666667,\n",
              " '1497816': 0,\n",
              " '3043014': 0.16666666666666666,\n",
              " '2456238': 0,\n",
              " '1036553': 0,\n",
              " '2479308': 0.09166666666666666,\n",
              " '2205537': 0.3,\n",
              " '2043273': 0,\n",
              " '5508649': 0.1,\n",
              " '4100849': 0.06666666666666667,\n",
              " '1561690': 0.26666666666666666,\n",
              " '307213': 0.3,\n",
              " '6123359': 0.047619047619047616,\n",
              " '7853803': 0,\n",
              " '396388': 1.0,\n",
              " '4031843': 0,\n",
              " '5634695': 0,\n",
              " '2336843': 0.19444444444444445,\n",
              " '6222977': 0,\n",
              " '876921': 0.29411764705882354,\n",
              " '4028883': 0,\n",
              " '7512107': 0,\n",
              " '7799255': 0,\n",
              " '1244196': 0.6666666666666666,\n",
              " '885967': 1.0,\n",
              " '1006620': 0.05454545454545454,\n",
              " '5846674': 0.16666666666666666,\n",
              " '4453150': 0,\n",
              " '231339': 0.2571428571428571,\n",
              " '1968857': 0,\n",
              " '3827564': 1.0,\n",
              " '2441053': 0.125,\n",
              " '1383748': 0.07272727272727272,\n",
              " '538988': 0.15441176470588236,\n",
              " '8828738': 0.3333333333333333,\n",
              " '5475928': 0,\n",
              " '722885': 0.07142857142857142,\n",
              " '2192640': 0,\n",
              " '566248': 0,\n",
              " '3039893': 0.05555555555555555,\n",
              " '148753': 0,\n",
              " '2854200': 0.125,\n",
              " '1809202': 0,\n",
              " '1004042': 0.6666666666666666,\n",
              " '423457': 0.6666666666666666,\n",
              " '363694': 0.3333333333333333,\n",
              " '4271536': 0.047619047619047616,\n",
              " '7462602': 0,\n",
              " '207444': 0.027777777777777776,\n",
              " '2615966': 0,\n",
              " '651924': 0.08095238095238096,\n",
              " '3675118': 0,\n",
              " '8557376': 0,\n",
              " '1942612': 0.23809523809523808,\n",
              " '981486': 0.11462450592885376,\n",
              " '3482809': 0.03571428571428571,\n",
              " '365295': 0,\n",
              " '2121970': 0,\n",
              " '418913': 0,\n",
              " '959855': 0.5,\n",
              " '4936771': 0,\n",
              " '2856726': 0,\n",
              " '1702925': 0.047619047619047616,\n",
              " '4391334': 0.3,\n",
              " '2690252': 0,\n",
              " '3604615': 0.16666666666666666,\n",
              " '2736013': 0.07142857142857142,\n",
              " '5806332': 0.2,\n",
              " '1664833': 0,\n",
              " '1169418': 0.2,\n",
              " '985391': 0.08791208791208792,\n",
              " '2638452': 0.10294117647058823,\n",
              " '4372884': 0,\n",
              " '3939401': 0.07272727272727272,\n",
              " '746808': 0.1,\n",
              " '699247': 0.19444444444444445,\n",
              " '3549749': 0.3333333333333333,\n",
              " '1661701': 0.1111111111111111,\n",
              " '6611680': 1.0,\n",
              " '2676639': 0,\n",
              " '2793828': 0,\n",
              " '1378525': 0.02857142857142857,\n",
              " '5598718': 0,\n",
              " '3651449': 0,\n",
              " '3551741': 0,\n",
              " '694298': 0.23809523809523808,\n",
              " '3628447': 0.14285714285714285,\n",
              " '2571980': 0.2571428571428571,\n",
              " '663587': 0.2,\n",
              " '6736271': 0,\n",
              " '1563917': 0,\n",
              " '1040419': 0.047619047619047616,\n",
              " '1626543': 0,\n",
              " '1424035': 0.022058823529411766,\n",
              " '3169762': 0.021645021645021644,\n",
              " '3901595': 0,\n",
              " '340474': 0,\n",
              " '4182865': 0,\n",
              " '563020': 0.08333333333333333,\n",
              " '1535049': 0.21428571428571427,\n",
              " '4133796': 0,\n",
              " '3319983': 0.1111111111111111,\n",
              " '3613325': 0.0457516339869281,\n",
              " '4953358': 0,\n",
              " '4322007': 0,\n",
              " '818389': 0,\n",
              " '6316731': 0.047619047619047616,\n",
              " '2986046': 0.3333333333333333,\n",
              " '1766401': 0,\n",
              " '3009564': 0.13333333333333333,\n",
              " '582464': 0.15384615384615385,\n",
              " '529703': 0,\n",
              " '2152868': 0.030303030303030304,\n",
              " '3894470': 0.5238095238095238,\n",
              " '1285706': 0.09941520467836257,\n",
              " '5770945': 1.0,\n",
              " '1780749': 0.07575757575757576,\n",
              " '2773991': 0.02857142857142857,\n",
              " '2259465': 0.16363636363636364,\n",
              " '1008797': 0.05555555555555555,\n",
              " '1967390': 0,\n",
              " '2310343': 0,\n",
              " '3200192': 0,\n",
              " '2646830': 0.07142857142857142,\n",
              " '1864872': 0,\n",
              " '1419352': 0,\n",
              " '1260830': 0,\n",
              " '3989789': 0,\n",
              " '1496356': 0,\n",
              " '3930026': 0,\n",
              " '7052767': 0.12727272727272726,\n",
              " '250244': 0.09803921568627451,\n",
              " '1838285': 0.1388888888888889,\n",
              " '1787265': 0.14285714285714285,\n",
              " '1969849': 0,\n",
              " '2197689': 0.2857142857142857,\n",
              " '787052': 0.06060606060606061,\n",
              " '6504921': 0,\n",
              " '7093527': 0.07142857142857142,\n",
              " '1697221': 0.06666666666666667,\n",
              " '1132107': 0,\n",
              " '186857': 0.047619047619047616,\n",
              " '6863561': 0,\n",
              " '5789083': 0,\n",
              " '694100': 0.047619047619047616,\n",
              " '1354493': 0.03571428571428571,\n",
              " '5632741': 0.0915032679738562,\n",
              " '24114': 0,\n",
              " '2371032': 0.3333333333333333,\n",
              " '7937537': 0.16666666666666666,\n",
              " '320350': 0,\n",
              " '7124423': 0,\n",
              " '452335': 0,\n",
              " '3349029': 0.1111111111111111,\n",
              " '2044885': 0.16666666666666666,\n",
              " '3134676': 0,\n",
              " '1237950': 0.042735042735042736,\n",
              " '469607': 0.13333333333333333,\n",
              " '5541127': 0,\n",
              " '587512': 0,\n",
              " '4818873': 0,\n",
              " '389897': 0,\n",
              " '2423575': 0,\n",
              " '2173878': 0.09523809523809523,\n",
              " '5260400': 0,\n",
              " '2365546': 0,\n",
              " '1036698': 0,\n",
              " '3588650': 0.01904761904761905,\n",
              " '796107': 0.21818181818181817,\n",
              " '3237147': 0.5,\n",
              " '5990414': 0.07142857142857142,\n",
              " '694562': 0,\n",
              " '3693432': 0,\n",
              " '2679692': 0,\n",
              " '823503': 0.05128205128205128,\n",
              " '120922': 0,\n",
              " '530316': 0.045454545454545456,\n",
              " '6098155': 0.2857142857142857,\n",
              " '3286656': 0,\n",
              " '368528': 0.06666666666666667,\n",
              " '5376914': 0.1,\n",
              " '7292603': 0.05128205128205128,\n",
              " '10518428': 0,\n",
              " '493029': 0,\n",
              " '2463530': 0.10909090909090909,\n",
              " '4844815': 0,\n",
              " '1385510': 0.2,\n",
              " '2907428': 0,\n",
              " '695191': 0.1111111111111111,\n",
              " '4595251': 0.047619047619047616,\n",
              " '631137': 0,\n",
              " '1150230': 0.3333333333333333,\n",
              " '4387647': 0,\n",
              " '1698771': 0.06666666666666667,\n",
              " '1338391': 0.13333333333333333,\n",
              " '2994202': 0,\n",
              " '848142': 0.13333333333333333,\n",
              " '1360984': 0.2,\n",
              " '5478407': 0,\n",
              " '4056468': 0.16666666666666666,\n",
              " '192345': 0,\n",
              " '4568929': 0,\n",
              " '754757': 0.07142857142857142,\n",
              " '735397': 0,\n",
              " '2219101': 0.5,\n",
              " '674792': 0.0761904761904762,\n",
              " '1918627': 0.5,\n",
              " '258688': 0,\n",
              " '1444290': 0.10909090909090909,\n",
              " '328875': 0.043478260869565216,\n",
              " '3448452': 0,\n",
              " '9849555': 0,\n",
              " '1060418': 0.24444444444444444,\n",
              " '2546754': 0,\n",
              " '666188': 0.26666666666666666,\n",
              " '2577654': 0.16666666666666666,\n",
              " '3545205': 0,\n",
              " '5673411': 0.3,\n",
              " '196082': 0,\n",
              " '8217098': 0,\n",
              " '6980085': 0,\n",
              " '856311': 0,\n",
              " '6211873': 0.5238095238095238,\n",
              " '1767039': 0.027777777777777776,\n",
              " '3926779': 0.04736842105263158,\n",
              " '5358624': 0.06666666666666667,\n",
              " '6458056': 0.23809523809523808,\n",
              " '1281798': 0,\n",
              " '2354064': 0.06666666666666667,\n",
              " '174116': 0.047619047619047616,\n",
              " '2164762': 0,\n",
              " '812813': 0.09941520467836257,\n",
              " '1041410': 0,\n",
              " '1146965': 0.1282051282051282,\n",
              " '3234906': 0.16666666666666666,\n",
              " '292303': 0.09090909090909091,\n",
              " '6713312': 0,\n",
              " '3310981': 0,\n",
              " '4419244': 0.3333333333333333,\n",
              " '429907': 0.09523809523809523,\n",
              " '1061955': 0.37142857142857144,\n",
              " '1539932': 0.13333333333333333,\n",
              " '8652116': 0,\n",
              " '3715599': 0.01904761904761905,\n",
              " '255785': 0.1,\n",
              " '1112122': 0.09166666666666666,\n",
              " '3564183': 0.07575757575757576,\n",
              " '595117': 0.13333333333333333,\n",
              " '8695194': 0,\n",
              " '907016': 0.11428571428571428,\n",
              " '643943': 0.07142857142857142,\n",
              " '6301551': 0.19047619047619047,\n",
              " '523989': 0,\n",
              " '727210': 0.14285714285714285,\n",
              " '4669652': 0,\n",
              " '8596460': 0,\n",
              " '7486934': 0.13333333333333333,\n",
              " '7368618': 0.16666666666666666,\n",
              " '1222022': 0.14285714285714285,\n",
              " '1642815': 0.09523809523809523,\n",
              " '2304330': 0.1111111111111111,\n",
              " '6053915': 0.8333333333333334,\n",
              " '1354119': 1.0,\n",
              " '2065906': 0.3,\n",
              " '4473379': 0,\n",
              " '93319': 0,\n",
              " '2913918': 0.3333333333333333,\n",
              " '2976862': 0.027777777777777776,\n",
              " '752131': 0,\n",
              " '924284': 0.08888888888888889,\n",
              " '9061560': 0,\n",
              " '950859': 0.047619047619047616,\n",
              " '216824': 0.6666666666666666,\n",
              " '3759668': 0.16666666666666666,\n",
              " '1731783': 0.08496732026143791,\n",
              " '4300459': 0,\n",
              " '4042059': 0,\n",
              " '1393816': 0.6,\n",
              " '7187757': 0,\n",
              " '1635263': 0,\n",
              " '732506': 0.4,\n",
              " '1757934': 0.027777777777777776,\n",
              " '1645879': 0,\n",
              " '3910281': 0.16666666666666666,\n",
              " '7924598': 0,\n",
              " '866920': 0.3333333333333333,\n",
              " '2245253': 0.17753623188405798,\n",
              " '2867461': 0.047619047619047616,\n",
              " '2256179': 0.06666666666666667,\n",
              " '3214364': 0.3,\n",
              " '560465': 0,\n",
              " '8805566': 0,\n",
              " '7969353': 0,\n",
              " '6685763': 0.3333333333333333,\n",
              " '3248609': 0,\n",
              " '716306': 0,\n",
              " '8424878': 0,\n",
              " '659063': 0.18181818181818182,\n",
              " '594707': 0,\n",
              " '2529307': 0,\n",
              " '348953': 0,\n",
              " '8282849': 0,\n",
              " '1495788': 0,\n",
              " '2196511': 0,\n",
              " '6337935': 1.0,\n",
              " '6564102': 0,\n",
              " '2842349': 0.09523809523809523,\n",
              " '2085047': 0.08333333333333333,\n",
              " '3771209': 0,\n",
              " '2192845': 0.4,\n",
              " '3167290': 0.4666666666666667,\n",
              " '1317384': 1.0,\n",
              " '7893206': 0,\n",
              " '7615293': 0,\n",
              " '260168': 0.1,\n",
              " '5506642': 0.047619047619047616,\n",
              " '1768343': 0.20512820512820512,\n",
              " '9458303': 0,\n",
              " '551692': 0.16666666666666666,\n",
              " '622985': 0,\n",
              " '5610557': 0.3333333333333333,\n",
              " '447682': 0,\n",
              " '6726966': 0,\n",
              " '3954860': 0,\n",
              " '3553667': 0.01818181818181818,\n",
              " '808248': 0.04395604395604396,\n",
              " '969606': 0.16600790513833993,\n",
              " '5698222': 0.19047619047619047,\n",
              " '2900387': 0,\n",
              " '3528479': 0.06666666666666667,\n",
              " '1750546': 0.06666666666666667,\n",
              " '2654366': 0.3333333333333333,\n",
              " '3060913': 0,\n",
              " '7449784': 0,\n",
              " '2666487': 0.1111111111111111,\n",
              " '696200': 0.3333333333333333,\n",
              " '9638030': 0,\n",
              " '2584785': 0.05555555555555555,\n",
              " '11203591': 0,\n",
              " '74899': 0,\n",
              " '4044816': 0,\n",
              " '598316': 0.06349206349206349,\n",
              " '810239': 0.06593406593406594,\n",
              " '4261654': 0.03636363636363636,\n",
              " '921782': 0.13333333333333333,\n",
              " '662280': 0.022222222222222223,\n",
              " '3205363': 0.4,\n",
              " '1564533': 0,\n",
              " '3273802': 0,\n",
              " '889377': 0.06666666666666667,\n",
              " '1322058': 0.09523809523809523,\n",
              " '2179649': 0.3333333333333333,\n",
              " '5953952': 0,\n",
              " '809807': 0,\n",
              " '2091842': 0.3333333333333333,\n",
              " '629865': 0,\n",
              " '758361': 0,\n",
              " '2200941': 0.03368176538908246,\n",
              " '2562960': 0.3333333333333333,\n",
              " '2222889': 0.14545454545454545,\n",
              " '5752204': 0.21818181818181817,\n",
              " '521513': 0.3,\n",
              " '3943067': 0.13333333333333333,\n",
              " '4566056': 0.02197802197802198,\n",
              " '3634156': 0,\n",
              " '187951': 0.07352941176470588,\n",
              " '4086367': 0.2,\n",
              " '1540906': 0.1,\n",
              " '3708197': 0,\n",
              " '358525': 0,\n",
              " '6507451': 0,\n",
              " '2006556': 0.09166666666666666,\n",
              " '2643935': 0.35714285714285715,\n",
              " '1800820': 0.07142857142857142,\n",
              " '247030': 0,\n",
              " '3157845': 1.0,\n",
              " '1752834': 0,\n",
              " '3649250': 0.015151515151515152,\n",
              " '5891210': 0,\n",
              " '1579146': 0.06666666666666667,\n",
              " '491045': 0.12380952380952381,\n",
              " '8263873': 0,\n",
              " '4895132': 0,\n",
              " '813447': 0.17647058823529413,\n",
              " '6855701': 0,\n",
              " '2496720': 0.08791208791208792,\n",
              " '3248672': 0.1,\n",
              " '1392240': 0.2,\n",
              " '3728949': 0.14102564102564102,\n",
              " '6584034': 0,\n",
              " '5530931': 0,\n",
              " '461855': 0.0989010989010989,\n",
              " '744845': 0.03571428571428571,\n",
              " '1861312': 0,\n",
              " '726901': 0.16666666666666666,\n",
              " '1599762': 0.5,\n",
              " '256062': 0.07272727272727272,\n",
              " '3158030': 0,\n",
              " '6619068': 0,\n",
              " '1772401': 0,\n",
              " '4052714': 0.6666666666666666,\n",
              " '917412': 0.047619047619047616,\n",
              " '2079239': 0.17857142857142858,\n",
              " '6344732': 0.21818181818181817,\n",
              " '1522385': 0.0641025641025641,\n",
              " '3468316': 0.10714285714285714,\n",
              " '2635318': 0,\n",
              " '5708459': 1.0,\n",
              " '6724115': 0.6666666666666666,\n",
              " '1269545': 0.13333333333333333,\n",
              " '3580207': 0.21212121212121213,\n",
              " '1185670': 0.08571428571428572,\n",
              " '1276004': 0.027777777777777776,\n",
              " '5133892': 0,\n",
              " '2495078': 0.05128205128205128,\n",
              " '6006490': 0.3333333333333333,\n",
              " '5106953': 1.0,\n",
              " '519132': 0,\n",
              " '985024': 0,\n",
              " '3031067': 0,\n",
              " '8035501': 0,\n",
              " '3515209': 0.2,\n",
              " '1114399': 0.17857142857142858,\n",
              " '4919434': 0.1,\n",
              " '6241123': 0,\n",
              " '2587810': 0,\n",
              " '7541078': 0.14285714285714285,\n",
              " '3785062': 0,\n",
              " '1076183': 0.2909090909090909,\n",
              " '2071975': 0,\n",
              " '4721417': 0,\n",
              " '6009860': 0.3333333333333333,\n",
              " '5207656': 0,\n",
              " '779546': 0.14285714285714285,\n",
              " '3746620': 0.3333333333333333,\n",
              " '1740311': 0,\n",
              " '1950778': 0.14285714285714285,\n",
              " '1883607': 0.10256410256410256,\n",
              " '1912595': 0,\n",
              " '1520470': 0,\n",
              " '4683031': 0,\n",
              " '363048': 0.3333333333333333,\n",
              " '606124': 0.10714285714285714,\n",
              " '6081488': 0,\n",
              " '1167859': 0,\n",
              " '1663861': 0.39285714285714285,\n",
              " '274166': 0.10714285714285714,\n",
              " '1613183': 0.2,\n",
              " '1023947': 0.06666666666666667,\n",
              " '1958886': 0.16666666666666666,\n",
              " '867408': 0.26666666666666666,\n",
              " '10035618': 0,\n",
              " '692656': 0.03571428571428571,\n",
              " '7660589': 0,\n",
              " '233638': 0,\n",
              " '3314210': 0.025,\n",
              " '1023406': 0,\n",
              " '3184319': 0.2,\n",
              " '4052395': 0,\n",
              " '4200523': 0.16666666666666666,\n",
              " '3982632': 0.3,\n",
              " '917651': 0,\n",
              " '4478095': 0,\n",
              " '458900': 0.05128205128205128,\n",
              " '762863': 0.26666666666666666,\n",
              " '2678566': 0.1,\n",
              " '10807145': 0,\n",
              " '3408035': 0.3333333333333333,\n",
              " '2825843': 0.027777777777777776,\n",
              " '5508457': 0,\n",
              " '380034': 0.026143790849673203,\n",
              " '643013': 0.24444444444444444,\n",
              " '808679': 0.09523809523809523,\n",
              " '6483101': 0,\n",
              " '11957196': 0,\n",
              " '4767354': 0,\n",
              " '2779674': 0.06666666666666667,\n",
              " '1753190': 0,\n",
              " '8837777': 0,\n",
              " '1571801': 0,\n",
              " '7083062': 0,\n",
              " '4266314': 0,\n",
              " '1158132': 0.14285714285714285,\n",
              " '388849': 0,\n",
              " '1772512': 0,\n",
              " '2105037': 0.08888888888888889,\n",
              " '408279': 0,\n",
              " '1755014': 0,\n",
              " '3535418': 0.10606060606060606,\n",
              " '914118': 0.13333333333333333,\n",
              " '929162': 0,\n",
              " '1343574': 0.16666666666666666,\n",
              " '5680197': 0,\n",
              " '7454041': 0,\n",
              " '3037147': 0,\n",
              " '751233': 0.07142857142857142,\n",
              " '3275291': 0,\n",
              " '789001': 0.16666666666666666,\n",
              " '4106625': 0,\n",
              " '1120025': 0.1,\n",
              " '3030898': 0,\n",
              " '7536845': 0,\n",
              " '4262031': 0,\n",
              " '2175827': 0,\n",
              " '982922': 0.3333333333333333,\n",
              " '2596945': 0.01818181818181818,\n",
              " '2512714': 0.06666666666666667,\n",
              " '71627': 0.4,\n",
              " '626483': 0.17857142857142858,\n",
              " '1390985': 0,\n",
              " '11125203': 0,\n",
              " '1641530': 0.16666666666666666,\n",
              " '2835550': 0.1111111111111111,\n",
              " '680530': 0.15151515151515152,\n",
              " '1285543': 0.16666666666666666,\n",
              " '1134806': 0.08333333333333333,\n",
              " '2006847': 0.06666666666666667,\n",
              " '4422840': 0.047619047619047616,\n",
              " '6629374': 1.0,\n",
              " '191485': 0.1111111111111111,\n",
              " '10287770': 0.3333333333333333,\n",
              " '5689756': 0,\n",
              " '812045': 0.047619047619047616,\n",
              " '1713384': 0,\n",
              " '6972973': 0,\n",
              " '635259': 0,\n",
              " '4102364': 0,\n",
              " '5095690': 0.21428571428571427,\n",
              " '4173168': 0,\n",
              " '366544': 0,\n",
              " '3974603': 0,\n",
              " '2858891': 0.09523809523809523,\n",
              " '4783425': 0.027777777777777776,\n",
              " '1532896': 0.19047619047619047,\n",
              " '6403180': 0,\n",
              " '1943236': 0.022222222222222223,\n",
              " '4676097': 0,\n",
              " '1555469': 0.05555555555555555,\n",
              " '3754004': 0.21818181818181817,\n",
              " '852982': 0.06666666666666667,\n",
              " '552852': 0.05714285714285714,\n",
              " '3065222': 0,\n",
              " '3805569': 0,\n",
              " '321060': 0,\n",
              " '1098201': 1.0,\n",
              " '2184008': 0.1,\n",
              " '1613178': 0,\n",
              " '4909126': 0,\n",
              " '6494176': 0.06666666666666667,\n",
              " '914397': 0,\n",
              " '1454741': 0,\n",
              " '2383349': 0,\n",
              " '1093856': 0.06666666666666667,\n",
              " '2848361': 0,\n",
              " '2672950': 0.2777777777777778,\n",
              " '1939248': 0,\n",
              " '851210': 0.09523809523809523,\n",
              " '3602165': 0,\n",
              " '6967345': 0,\n",
              " '514019': 0.03333333333333333,\n",
              " '6983858': 0,\n",
              " '9836275': 0,\n",
              " '1586714': 0,\n",
              " '2387278': 0.08571428571428572,\n",
              " '573658': 0,\n",
              " '3726521': 0,\n",
              " '10917974': 0,\n",
              " '1805632': 0.06666666666666667,\n",
              " '2486595': 0.1,\n",
              " '598018': 0.12727272727272726,\n",
              " '395355': 0,\n",
              " '4790282': 0.1,\n",
              " '1502029': 0.045454545454545456,\n",
              " '283247': 0.0641025641025641,\n",
              " '6220607': 0.1111111111111111,\n",
              " '208687': 0,\n",
              " '434061': 0.0718954248366013,\n",
              " '2694681': 0.3,\n",
              " '6529784': 0,\n",
              " '849177': 0.047619047619047616,\n",
              " '2356259': 0,\n",
              " '3800164': 0.14285714285714285,\n",
              " '278498': 0.14285714285714285,\n",
              " '4496434': 0,\n",
              " '2754928': 0.1,\n",
              " '2233849': 0.07142857142857142,\n",
              " '379813': 0.18478260869565216,\n",
              " '696611': 0.08333333333333333,\n",
              " '4637390': 0.1,\n",
              " '1452619': 1.0,\n",
              " ...}"
            ]
          },
          "metadata": {
            "tags": []
          },
          "execution_count": 49
        }
      ]
    },
    {
      "cell_type": "code",
      "metadata": {
        "id": "B7W-CNMFU5KR",
        "colab_type": "code",
        "colab": {}
      },
      "source": [
        "import pandas as pd\n",
        "ClusteringCoefficient = pd.DataFrame(clustering_coefficient,index=['user','clustering_coefficient'])"
      ],
      "execution_count": 0,
      "outputs": []
    },
    {
      "cell_type": "markdown",
      "metadata": {
        "id": "nRwO7jjCpffg",
        "colab_type": "text"
      },
      "source": [
        "## iii) Calculate the page rank of each user"
      ]
    },
    {
      "cell_type": "code",
      "metadata": {
        "id": "5L9KeZSGHTyt",
        "colab_type": "code",
        "colab": {}
      },
      "source": [
        "from graphframes import *"
      ],
      "execution_count": 0,
      "outputs": []
    },
    {
      "cell_type": "code",
      "metadata": {
        "id": "t965T5zqo_07",
        "colab_type": "code",
        "colab": {}
      },
      "source": [
        "# get nodes\n",
        "nodes = sqlContext.sql('select distinct * from (select distinct user1 from venmodata union select distinct user2 from venmodata)')\n",
        "nodes = nodes.select(nodes.user1.alias('id'))"
      ],
      "execution_count": 0,
      "outputs": []
    },
    {
      "cell_type": "code",
      "metadata": {
        "id": "2y8ZBSrppGYy",
        "colab_type": "code",
        "colab": {}
      },
      "source": [
        "# get edges\n",
        "edges = sqlContext.sql('select distinct user1,user2 from venmodata')\n",
        "edges = edges.select(edges.user1.alias('src'),edges.user1.alias('dst'))"
      ],
      "execution_count": 0,
      "outputs": []
    },
    {
      "cell_type": "code",
      "metadata": {
        "id": "1G2TPkSBpIlP",
        "colab_type": "code",
        "colab": {}
      },
      "source": [
        "g = GraphFrame(nodes, edges)"
      ],
      "execution_count": 0,
      "outputs": []
    },
    {
      "cell_type": "code",
      "metadata": {
        "id": "aYAphVkppWbX",
        "colab_type": "code",
        "colab": {}
      },
      "source": [
        "# get pagerank\n",
        "results = g.pageRank(resetProbability=0.15, tol=0.01)\n",
        "pagerank = results.vertices"
      ],
      "execution_count": 0,
      "outputs": []
    },
    {
      "cell_type": "markdown",
      "metadata": {
        "id": "dXI3al0Moy9o",
        "colab_type": "text"
      },
      "source": [
        "## Q7: Create your dependent variable Y, i.e. the total number of transactions at lifetime point 12"
      ]
    },
    {
      "cell_type": "code",
      "metadata": {
        "id": "mog6AZzIozX0",
        "colab_type": "code",
        "outputId": "fdf5e183-7db6-441d-e56f-5dd806ffd0fb",
        "colab": {
          "base_uri": "https://localhost:8080/",
          "height": 232
        }
      },
      "source": [
        "query =\\\n",
        "\"\"\"\n",
        "SELECT\n",
        "    user_1, months,topic_accu, Activity, Cash, Event, Food, `Illegal/Sarcasm`, People, Transportation, Travel, Utility, `no conclusion`,\n",
        "    friend,\n",
        "    friend_of_friend,\n",
        "    (friend + friend_of_friend) AS total_connections,\n",
        "    pagerank,\n",
        "    clustering_coefficient\n",
        "FROM\n",
        "    (SELECT\n",
        "      upp.*,\n",
        "      SUM(num_of_friend) OVER (PARTITION BY upp.user_1 ORDER BY months ROWS BETWEEN UNBOUNDED PRECEDING AND CURRENT ROW) AS friend,\n",
        "      IF(SUM(num_of_friend_of_friend) OVER (PARTITION BY upp.user_1 ORDER BY months ROWS BETWEEN UNBOUNDED PRECEDING AND CURRENT ROW) IS NULL, 0, SUM(num_of_friend_of_friend) OVER (PARTITION BY user_1 ORDER BY months ROWS BETWEEN UNBOUNDED PRECEDING AND CURRENT ROW)) AS friend_of_friend,\n",
        "      pagerank,\n",
        "      clustering_coefficient\n",
        "    FROM\n",
        "      userProfile_pivoted upp\n",
        "    LEFT JOIN\n",
        "      fof\n",
        "    ON upp.user_1 = fof.user1\n",
        "    AND upp.months = fof.cust_age\n",
        "    LEFT JOIN\n",
        "      fofof\n",
        "    ON upp.user_1 = fofof.user1\n",
        "    AND upp.months = fofof.cust_age\n",
        "    LEFT JOIN\n",
        "      pagerank p\n",
        "    ON upp.user_1 = p.id\n",
        "    LEFT JOIN\n",
        "      ClusteringCoefficient cc\n",
        "    ON cc.user_1 = upp.user_1\n",
        "    ORDER BY\n",
        "      user_1, months)\n",
        "\"\"\"\n",
        "\n",
        "venmoComplete = spark.sql(query)\n",
        "venmoComplete.createOrReplaceTempView(\"venmoComplete\")\n",
        "sqlContext.cacheTable(\"venmoComplete\")"
      ],
      "execution_count": 0,
      "outputs": [
        {
          "output_type": "error",
          "ename": "NameError",
          "evalue": "ignored",
          "traceback": [
            "\u001b[0;31m---------------------------------------------------------------------------\u001b[0m",
            "\u001b[0;31mNameError\u001b[0m                                 Traceback (most recent call last)",
            "\u001b[0;32m<ipython-input-1-41242c8d70f5>\u001b[0m in \u001b[0;36m<module>\u001b[0;34m()\u001b[0m\n\u001b[1;32m     34\u001b[0m \"\"\"\n\u001b[1;32m     35\u001b[0m \u001b[0;34m\u001b[0m\u001b[0m\n\u001b[0;32m---> 36\u001b[0;31m \u001b[0mvenmoComplete\u001b[0m \u001b[0;34m=\u001b[0m \u001b[0mspark\u001b[0m\u001b[0;34m.\u001b[0m\u001b[0msql\u001b[0m\u001b[0;34m(\u001b[0m\u001b[0mquery\u001b[0m\u001b[0;34m)\u001b[0m\u001b[0;34m\u001b[0m\u001b[0;34m\u001b[0m\u001b[0m\n\u001b[0m\u001b[1;32m     37\u001b[0m \u001b[0mvenmoComplete\u001b[0m\u001b[0;34m.\u001b[0m\u001b[0mcreateOrReplaceTempView\u001b[0m\u001b[0;34m(\u001b[0m\u001b[0;34m\"venmoComplete\"\u001b[0m\u001b[0;34m)\u001b[0m\u001b[0;34m\u001b[0m\u001b[0;34m\u001b[0m\u001b[0m\n\u001b[1;32m     38\u001b[0m \u001b[0msqlContext\u001b[0m\u001b[0;34m.\u001b[0m\u001b[0mcacheTable\u001b[0m\u001b[0;34m(\u001b[0m\u001b[0;34m\"venmoComplete\"\u001b[0m\u001b[0;34m)\u001b[0m\u001b[0;34m\u001b[0m\u001b[0;34m\u001b[0m\u001b[0m\n",
            "\u001b[0;31mNameError\u001b[0m: name 'spark' is not defined"
          ]
        }
      ]
    },
    {
      "cell_type": "markdown",
      "metadata": {
        "id": "40ZCMxtO9JfY",
        "colab_type": "text"
      },
      "source": [
        "## Q8: Create the recency and frequency variables. In CRM, this predictive framework is known as RFM. Here, you don’t have monetary amounts, so we will focus on just RF. Recency refers to the last time a user was active, and frequency is how often a user uses Venmo in a month. You need to compute these metrics across a user’s lifetime in Venmo (from 0 up to 12)"
      ]
    },
    {
      "cell_type": "code",
      "metadata": {
        "id": "BWk4pZ6Y8j8D",
        "colab_type": "code",
        "colab": {}
      },
      "source": [
        "query = \\\n",
        "\"\"\"\n",
        "SELECT\n",
        "    t2.user_1,\n",
        "    t2.months,\n",
        "    IF(LAST(row_recency) IS NULL, 30, LAST(row_recency)) AS recency,\n",
        "    IF(LAST(frequency) IS NULL, 0, LAST(frequency)) AS frequency\n",
        "FROM\n",
        "    (SELECT\n",
        "        user1, \n",
        "        cust_age,\n",
        "        DATEDIFF(end_of_month, datetime) AS row_recency,\n",
        "        frequency\n",
        "    FROM\n",
        "        (SELECT\n",
        "            *,\n",
        "            (COUNT(*) OVER (PARTITION BY user1, cust_age))/30 AS frequency,\n",
        "            ADD_MONTHS(join_date, cust_age) AS end_of_month\n",
        "        FROM\n",
        "            customerAge)\n",
        "    ORDER BY\n",
        "        user1, cust_age, row_recency DESC) t1\n",
        "RIGHT JOIN\n",
        "    (SELECT user_1, months\n",
        "    FROM old_cust\n",
        "    GROUP BY user_1, months\n",
        "    ORDER BY user_1, months) t2\n",
        "ON t1.user1 = t2.user_1 AND t1.cust_age = t2.months\n",
        "GROUP BY\n",
        "    t2.user_1, months\n",
        "ORDER BY\n",
        "        t2.user_1, months, recency DESC\n",
        "\"\"\"\n",
        "rfm = spark.sql(query)\n",
        "rfm.cache()\n",
        "rfm.createOrReplaceTempView(\"rfm\")"
      ],
      "execution_count": 0,
      "outputs": []
    },
    {
      "cell_type": "code",
      "metadata": {
        "id": "Bj71K8gz9OI3",
        "colab_type": "code",
        "colab": {}
      },
      "source": [
        "rfm.show(5000)"
      ],
      "execution_count": 0,
      "outputs": []
    },
    {
      "cell_type": "markdown",
      "metadata": {
        "id": "ccMDiRKo9R2F",
        "colab_type": "text"
      },
      "source": [
        "## Q9:  For each user’s lifetime point, regress recency and frequency on Y. Plot the MSE for each lifetime point. In other words, your x-axis will be lifetime in months (0-12), and your y- axis will be the MSE."
      ]
    },
    {
      "cell_type": "code",
      "metadata": {
        "id": "TbQPzgbw9O1O",
        "colab_type": "code",
        "colab": {}
      },
      "source": [
        "# combine rfm to user profile\n",
        "query =\\\n",
        "\"\"\"\n",
        "SELECT\n",
        "    v.user_1,\n",
        "    v.months,\n",
        "    recency,\n",
        "    frequency,\n",
        "    topic_accu,\n",
        "    Activity,\n",
        "    Cash,\n",
        "    Event,\n",
        "    Food,\n",
        "    `Illegal/Sarcasm`,\n",
        "    People,\n",
        "    Transportation,\n",
        "    Travel,\n",
        "    Utility,\n",
        "    `no conclusion`,\n",
        "    friend,\n",
        "    friend_of_friend,\n",
        "    total_connections\n",
        "FROM\n",
        "    venmoComplete v\n",
        "LEFT JOIN\n",
        "    rfm r\n",
        "ON v.user_1 = r.user_1 AND v.months = r.months\n",
        "\n",
        "\"\"\"\n",
        "venmoFinal = spark.sql(query)\n",
        "venmoFinal.createOrReplaceTempView(\"venmoFinal\")\n",
        "venmoFinal.cache()"
      ],
      "execution_count": 0,
      "outputs": []
    },
    {
      "cell_type": "code",
      "metadata": {
        "id": "9ATMT2Se9Uel",
        "colab_type": "code",
        "colab": {}
      },
      "source": [
        "venmoFinal.show()"
      ],
      "execution_count": 0,
      "outputs": []
    },
    {
      "cell_type": "code",
      "metadata": {
        "id": "WM0rbOtK9WI_",
        "colab_type": "code",
        "colab": {}
      },
      "source": [
        "lr_data = venmoFinal.select(\"recency\", \"frequency\", venmoFinal.topic_accu.alias(\"label\"))\n",
        "train, test = lr_data.randomSplit([0.7, 0.3], seed=23333)"
      ],
      "execution_count": 0,
      "outputs": []
    },
    {
      "cell_type": "code",
      "metadata": {
        "id": "1C74NhKfK8lj",
        "colab_type": "code",
        "colab": {}
      },
      "source": [
        "assembler = VectorAssembler().setInputCols(['recency', \"frequency\"]).setOutputCol(\"features\")\n",
        "train01 = assembler.transform(train)\n",
        "test01 = assembler.transform(test)"
      ],
      "execution_count": 0,
      "outputs": []
    },
    {
      "cell_type": "code",
      "metadata": {
        "id": "icTTwEZ4LC5n",
        "colab_type": "code",
        "colab": {}
      },
      "source": [
        "paramGrid = ParamGridBuilder()\\\n",
        "    .addGrid(lr.regParam, [0.1, 0.01]) \\\n",
        "    .addGrid(lr.fitIntercept, [False, True])\\\n",
        "    .addGrid(lr.elasticNetParam, [0.0, 0.5, 1.0])\\\n",
        "    .build()"
      ],
      "execution_count": 0,
      "outputs": []
    },
    {
      "cell_type": "code",
      "metadata": {
        "id": "StGBWd1rLEJD",
        "colab_type": "code",
        "colab": {}
      },
      "source": [
        "lr = LinearRegression(featuresCol = 'features', labelCol='label', maxIter=10, regParam=0.3)\n",
        "lr_model = lr.fit(train01)"
      ],
      "execution_count": 0,
      "outputs": []
    },
    {
      "cell_type": "code",
      "metadata": {
        "id": "Wrh39zDiLGli",
        "colab_type": "code",
        "colab": {}
      },
      "source": [
        "# training set result\n",
        "print(\"Coefficients: \" + str(lr_model.coefficients))\n",
        "print(\"Intercept: \" + str(lr_model.intercept))\n",
        "trainingSummary = lr_model.summary\n",
        "print(\"RMSE: %f\" % trainingSummary.rootMeanSquaredError)\n",
        "print(\"r2: %f\" % trainingSummary.r2)"
      ],
      "execution_count": 0,
      "outputs": []
    },
    {
      "cell_type": "code",
      "metadata": {
        "id": "HPPETWtWLHId",
        "colab_type": "code",
        "colab": {}
      },
      "source": [
        "# validation\n",
        "lr_predictions = lr_model.transform(test01)\n",
        "lr_predictions.select(\"prediction\",\"label\",\"features\").show(5)\n",
        "from pyspark.ml.evaluation import RegressionEvaluator\n",
        "lr_evaluator = RegressionEvaluator(predictionCol=\"prediction\", \\\n",
        "                 labelCol=\"label\",metricName=\"r2\")\n",
        "print(\"R Squared (R2) on test data = %g\" % lr_evaluator.evaluate(lr_predictions))"
      ],
      "execution_count": 0,
      "outputs": []
    },
    {
      "cell_type": "code",
      "metadata": {
        "id": "hrq1lbX1LHA7",
        "colab_type": "code",
        "colab": {}
      },
      "source": [
        "# MSE on test set\n",
        "test_result = lr_model.evaluate(test01)\n",
        "print(\"Mean Squared Error (MSE) on test data = %g\" % test_result.meanSquaredError)"
      ],
      "execution_count": 0,
      "outputs": []
    },
    {
      "cell_type": "markdown",
      "metadata": {
        "id": "UIwcQttAQcb0",
        "colab_type": "text"
      },
      "source": [
        "## Q10: For each user’s lifetime point, regress recency, frequency AND her spending behavior profile on Y. Plot the MSE for each lifetime point like above. Did you get any improvement?"
      ]
    },
    {
      "cell_type": "code",
      "metadata": {
        "id": "m5GtXz51L1U2",
        "colab_type": "code",
        "colab": {}
      },
      "source": [
        "lr_data02 = venmoFinal.select(\"recency\", \"frequency\", \"Activity\", \"Cash\", \"Event\", \"Food\", \"Illegal/Sarcasm\", \"People\", \"Transportation\", \"Travel\", \"Utility\", \"no conclusion\" , venmoFinal.topic_accu.alias(\"label\"))\n",
        "train02, test02 = lr_data02.randomSplit([0.7, 0.3], seed=23333)"
      ],
      "execution_count": 0,
      "outputs": []
    },
    {
      "cell_type": "code",
      "metadata": {
        "id": "TRiS47_3QewG",
        "colab_type": "code",
        "colab": {}
      },
      "source": [
        "assembler02 = VectorAssembler().setInputCols([\"recency\", \"frequency\", \"Activity\", \"Cash\", \"Event\", \"Food\", \"Illegal/Sarcasm\", \"People\", \"Transportation\", \"Travel\", \"Utility\", \"no conclusion\"]).setOutputCol(\"features\")\n",
        "train02 = assembler02.transform(train02)\n",
        "test02 = assembler02.transform(test02)\n",
        "lr_model02 = lr.fit(train02)"
      ],
      "execution_count": 0,
      "outputs": []
    },
    {
      "cell_type": "code",
      "metadata": {
        "id": "1bs2U6GuQgdm",
        "colab_type": "code",
        "colab": {}
      },
      "source": [
        "# training set result\n",
        "print(\"Coefficients: \" + str(lr_model02.coefficients))\n",
        "print(\"Intercept: \" + str(lr_model02.intercept))\n",
        "trainingSummary02 = lr_model02.summary\n",
        "print(\"RMSE: %f\" % trainingSummary02.rootMeanSquaredError)\n",
        "print(\"r2: %f\" % trainingSummary02.r2)"
      ],
      "execution_count": 0,
      "outputs": []
    },
    {
      "cell_type": "code",
      "metadata": {
        "id": "pBTlKu5NQhab",
        "colab_type": "code",
        "colab": {}
      },
      "source": [
        "test_result02 = lr_model02.evaluate(test02)\n",
        "print(\"Mean Squared Error (MSE) on test data = %g\" % test_result02.meanSquaredError)"
      ],
      "execution_count": 0,
      "outputs": []
    },
    {
      "cell_type": "markdown",
      "metadata": {
        "id": "L9Qm-52XUT-s",
        "colab_type": "text"
      },
      "source": [
        "## Q11: For each user’s lifetime point, regress her social network metrics on Y. Plot the MSE for each lifetime point like above. What do you observe? How do social network metrics compare with the RF framework? What are the most informative predictors?"
      ]
    },
    {
      "cell_type": "code",
      "metadata": {
        "id": "DbqvtM4cUVAs",
        "colab_type": "code",
        "colab": {}
      },
      "source": [
        "lr_data03 = venmoFinal.select(\"clustering_coefficient，\", \"pagerank\", \"friend\", \"friend_of_friend\", venmoFinal.topic_accu.alias(\"label\"))\n",
        "train03, test03 = lr_data03.randomSplit([0.7, 0.3], seed=23333)"
      ],
      "execution_count": 0,
      "outputs": []
    },
    {
      "cell_type": "code",
      "metadata": {
        "id": "Q0gHGKPHUW28",
        "colab_type": "code",
        "colab": {}
      },
      "source": [
        "assembler03 = VectorAssembler().setInputCols([\"clustering_coefficient，\", \"pagerank\", \"friend\", \"friend_of_friend\"]).setOutputCol(\"features\")\n",
        "train03 = assembler03.transform(train03)\n",
        "test03 = assembler03.transform(test03)\n",
        "lr_model03 = lr.fit(train03)"
      ],
      "execution_count": 0,
      "outputs": []
    },
    {
      "cell_type": "code",
      "metadata": {
        "id": "X5rQtYcQUW0h",
        "colab_type": "code",
        "colab": {}
      },
      "source": [
        "# training set result\n",
        "print(\"Coefficients: \" + str(lr_model03.coefficients))\n",
        "print(\"Intercept: \" + str(lr_model03.intercept))\n",
        "trainingSummary03 = lr_model03.summary\n",
        "print(\"RMSE: %f\" % trainingSummary03.rootMeanSquaredError)\n",
        "print(\"r2: %f\" % trainingSummary03.r2)"
      ],
      "execution_count": 0,
      "outputs": []
    },
    {
      "cell_type": "code",
      "metadata": {
        "id": "ZhpluMUIUWyE",
        "colab_type": "code",
        "colab": {}
      },
      "source": [
        "test_result03 = lr_model03.evaluate(test03)\n",
        "print(\"Mean Squared Error (MSE) on test data = %g\" % test_result03.meanSquaredError)"
      ],
      "execution_count": 0,
      "outputs": []
    },
    {
      "cell_type": "markdown",
      "metadata": {
        "id": "xqbU0pLqYKIb",
        "colab_type": "text"
      },
      "source": [
        "## Q12: For each user’s lifetime point, regress her social network metrics and the spending behavior of her social network on Y. Plot the MSE for each lifetime point like above. Does the spending behavior of her social network add any predictive benefit compared to Q10?"
      ]
    },
    {
      "cell_type": "code",
      "metadata": {
        "id": "_H_ZtUTVUWvv",
        "colab_type": "code",
        "colab": {}
      },
      "source": [
        "lr_data04 = venmoFinal.select(\"clustering_coefficient，\", \"pagerank\", \"friend\", \"friend_of_friend\", \"recency\", \"frequency\", \"Activity\", \"Cash\", \"Event\", \"Food\", \"Illegal/Sarcasm\", \"People\", \"Transportation\", \"Travel\", \"Utility\", \"no conclusion\", venmoFinal.topic_accu.alias(\"label\"))\n",
        "train04, test04 = lr_data04.randomSplit([0.7, 0.3], seed=23333)"
      ],
      "execution_count": 0,
      "outputs": []
    },
    {
      "cell_type": "code",
      "metadata": {
        "id": "GIxKTITyZTBD",
        "colab_type": "code",
        "colab": {}
      },
      "source": [
        "assembler04 = VectorAssembler().setInputCols([\"clustering_coefficient，\", \"pagerank\", \"friend\", \"friend_of_friend\", \"recency\", \"frequency\", \"Activity\", \"Cash\", \"Event\", \"Food\", \"Illegal/Sarcasm\", \"People\", \"Transportation\", \"Travel\", \"Utility\", \"no conclusion\"]).setOutputCol(\"features\")\n",
        "train04 = assembler04.transform(train04)\n",
        "test04 = assembler04.transform(test04)\n",
        "lr_model04 = lr.fit(train04)"
      ],
      "execution_count": 0,
      "outputs": []
    },
    {
      "cell_type": "code",
      "metadata": {
        "id": "33kUxUCqaBEK",
        "colab_type": "code",
        "colab": {}
      },
      "source": [
        "# training set result\n",
        "print(\"Coefficients: \" + str(lr_model04.coefficients))\n",
        "print(\"Intercept: \" + str(lr_model04.intercept))\n",
        "trainingSummary04 = lr_model04.summary\n",
        "print(\"RMSE: %f\" % trainingSummary04.rootMeanSquaredError)\n",
        "print(\"r2: %f\" % trainingSummary04.r2)"
      ],
      "execution_count": 0,
      "outputs": []
    },
    {
      "cell_type": "code",
      "metadata": {
        "id": "-bGFVT3oaBLm",
        "colab_type": "code",
        "colab": {}
      },
      "source": [
        "test_result04 = lr_model04.evaluate(test03)\n",
        "print(\"Mean Squared Error (MSE) on test data = %g\" % test_result04.meanSquaredError)"
      ],
      "execution_count": 0,
      "outputs": []
    },
    {
      "cell_type": "code",
      "metadata": {
        "id": "UdsvXYlGaBIh",
        "colab_type": "code",
        "colab": {}
      },
      "source": [
        ""
      ],
      "execution_count": 0,
      "outputs": []
    }
  ]
}